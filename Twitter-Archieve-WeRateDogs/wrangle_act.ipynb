{
 "cells": [
  {
   "cell_type": "code",
   "execution_count": 10,
   "metadata": {},
   "outputs": [],
   "source": [
    "import tweepy\n",
    "import requests\n",
    "import pandas as pd\n",
    "import numpy as np\n",
    "import json\n",
    "import time\n",
    "import math\n",
    "import re\n",
    "from bs4 import BeautifulSoup\n",
    "import matplotlib.pyplot as plt\n",
    "%matplotlib inline"
   ]
  },
  {
   "cell_type": "markdown",
   "metadata": {},
   "source": [
    "# Gather The Data"
   ]
  },
  {
   "cell_type": "markdown",
   "metadata": {},
   "source": [
    "### WeRateDog Archieve"
   ]
  },
  {
   "cell_type": "code",
   "execution_count": 3,
   "metadata": {},
   "outputs": [],
   "source": [
    "# Import WeRateDogs Twitter archive\n",
    "df_archive = pd.read_csv('twitter-archive-enhanced.csv')"
   ]
  },
  {
   "cell_type": "markdown",
   "metadata": {},
   "source": [
    "### Image Recognition "
   ]
  },
  {
   "cell_type": "code",
   "execution_count": 4,
   "metadata": {},
   "outputs": [],
   "source": [
    "# Import tweet image predictions from server\n",
    "url = \"https://d17h27t6h515a5.cloudfront.net/topher/2017/August/599fd2ad_image-predictions/image-predictions.tsv\"\n",
    "response = requests.get(url)\n",
    "with open (\"image_predictions.tsv\", mode=\"wb\") as file:\n",
    "    file.write(response.content)\n",
    "    \n",
    "df_image = pd.read_csv(\"image_predictions.tsv\", sep='\\t')"
   ]
  },
  {
   "cell_type": "markdown",
   "metadata": {},
   "source": [
    "### Tweepy API"
   ]
  },
  {
   "cell_type": "code",
   "execution_count": 259,
   "metadata": {},
   "outputs": [],
   "source": [
    "# Create Twitter API Connections\n",
    "consumer_key = 'Enter Credentials Here'\n",
    "consumer_secret = 'Enter Credentials Here'\n",
    "access_token = 'Enter Credentials Here'\n",
    "access_secret = 'Enter Credentials Here'\n",
    "\n",
    "auth = tweepy.OAuthHandler(consumer_key, consumer_secret)\n",
    "auth.set_access_token(access_token, access_secret)\n",
    "\n",
    "api = tweepy.API(auth, wait_on_rate_limit=True, wait_on_rate_limit_notify=True)"
   ]
  },
  {
   "cell_type": "code",
   "execution_count": 7,
   "metadata": {},
   "outputs": [],
   "source": [
    "# Setup for the api call\n",
    "tweet_id = df_archive.tweet_id\n",
    "tweet_exist = []\n",
    "tweet_deleted = []"
   ]
  },
  {
   "cell_type": "code",
   "execution_count": 8,
   "metadata": {},
   "outputs": [
    {
     "name": "stdout",
     "output_type": "stream",
     "text": [
      "888202515573088257 [{'code': 144, 'message': 'No status found with that ID.'}]\n",
      "873697596434513921 [{'code': 144, 'message': 'No status found with that ID.'}]\n",
      "872668790621863937 [{'code': 144, 'message': 'No status found with that ID.'}]\n",
      "872261713294495745 [{'code': 144, 'message': 'No status found with that ID.'}]\n",
      "869988702071779329 [{'code': 144, 'message': 'No status found with that ID.'}]\n",
      "866816280283807744 [{'code': 144, 'message': 'No status found with that ID.'}]\n",
      "861769973181624320 [{'code': 144, 'message': 'No status found with that ID.'}]\n",
      "856602993587888130 [{'code': 144, 'message': 'No status found with that ID.'}]\n",
      "851953902622658560 [{'code': 144, 'message': 'No status found with that ID.'}]\n",
      "845459076796616705 [{'code': 144, 'message': 'No status found with that ID.'}]\n",
      "844704788403113984 [{'code': 144, 'message': 'No status found with that ID.'}]\n",
      "842892208864923648 [{'code': 144, 'message': 'No status found with that ID.'}]\n",
      "837366284874571778 [{'code': 144, 'message': 'No status found with that ID.'}]\n",
      "837012587749474308 [{'code': 144, 'message': 'No status found with that ID.'}]\n",
      "829374341691346946 [{'code': 144, 'message': 'No status found with that ID.'}]\n",
      "827228250799742977 [{'code': 144, 'message': 'No status found with that ID.'}]\n",
      "812747805718642688 [{'code': 144, 'message': 'No status found with that ID.'}]\n",
      "802247111496568832 [{'code': 144, 'message': 'No status found with that ID.'}]\n",
      "779123168116150273 [{'code': 144, 'message': 'No status found with that ID.'}]\n",
      "775096608509886464 [{'code': 144, 'message': 'No status found with that ID.'}]\n",
      "771004394259247104 [{'code': 179, 'message': 'Sorry, you are not authorized to see this status.'}]\n",
      "770743923962707968 [{'code': 144, 'message': 'No status found with that ID.'}]\n",
      "759566828574212096 [{'code': 144, 'message': 'No status found with that ID.'}]\n"
     ]
    },
    {
     "name": "stderr",
     "output_type": "stream",
     "text": [
      "Rate limit reached. Sleeping for: 654\n"
     ]
    },
    {
     "name": "stdout",
     "output_type": "stream",
     "text": [
      "754011816964026368 [{'code': 144, 'message': 'No status found with that ID.'}]\n",
      "680055455951884288 [{'code': 144, 'message': 'No status found with that ID.'}]\n"
     ]
    },
    {
     "name": "stderr",
     "output_type": "stream",
     "text": [
      "Rate limit reached. Sleeping for: 632\n"
     ]
    },
    {
     "name": "stdout",
     "output_type": "stream",
     "text": [
      "1958.5397889614105\n"
     ]
    }
   ],
   "source": [
    "#Setup timer\n",
    "start = time.time() \n",
    "\n",
    "# Query the tiwtter API\n",
    "with open('tweet_json.txt', 'w') as file:\n",
    "    for tweet in tweet_id:\n",
    "        try:\n",
    "            # Get the data\n",
    "            checker = api.get_status(tweet,tweet_mode='extended')\n",
    "            json.dump(checker._json, file)\n",
    "            file.write('\\n')\n",
    "            tweet_exist.append(tweet)\n",
    "        except Exception as e:\n",
    "            tweet_deleted.append(tweet)\n",
    "            print(tweet,e)\n",
    "            \n",
    "#print end time\n",
    "end = time.time()\n",
    "print(end-start)"
   ]
  },
  {
   "cell_type": "code",
   "execution_count": 9,
   "metadata": {},
   "outputs": [],
   "source": [
    "#Conver json files to pandas\n",
    "df_json = pd.read_json('tweet_json.txt', lines = True,encoding='utf-8')\n",
    "\n",
    "#Add tweet ID\n",
    "df_json[\"tweet_id\"] = [str(i) for i in tweet_exist]"
   ]
  },
  {
   "cell_type": "markdown",
   "metadata": {},
   "source": [
    "# Assess The Data"
   ]
  },
  {
   "cell_type": "markdown",
   "metadata": {},
   "source": [
    "### Basic checking for df_archieve"
   ]
  },
  {
   "cell_type": "code",
   "execution_count": 164,
   "metadata": {},
   "outputs": [
    {
     "data": {
      "text/html": [
       "<div>\n",
       "<style scoped>\n",
       "    .dataframe tbody tr th:only-of-type {\n",
       "        vertical-align: middle;\n",
       "    }\n",
       "\n",
       "    .dataframe tbody tr th {\n",
       "        vertical-align: top;\n",
       "    }\n",
       "\n",
       "    .dataframe thead th {\n",
       "        text-align: right;\n",
       "    }\n",
       "</style>\n",
       "<table border=\"1\" class=\"dataframe\">\n",
       "  <thead>\n",
       "    <tr style=\"text-align: right;\">\n",
       "      <th></th>\n",
       "      <th>tweet_id</th>\n",
       "      <th>in_reply_to_status_id</th>\n",
       "      <th>in_reply_to_user_id</th>\n",
       "      <th>timestamp</th>\n",
       "      <th>source</th>\n",
       "      <th>text</th>\n",
       "      <th>retweeted_status_id</th>\n",
       "      <th>retweeted_status_user_id</th>\n",
       "      <th>retweeted_status_timestamp</th>\n",
       "      <th>expanded_urls</th>\n",
       "      <th>rating_numerator</th>\n",
       "      <th>rating_denominator</th>\n",
       "      <th>name</th>\n",
       "      <th>doggo</th>\n",
       "      <th>floofer</th>\n",
       "      <th>pupper</th>\n",
       "      <th>puppo</th>\n",
       "    </tr>\n",
       "  </thead>\n",
       "  <tbody>\n",
       "    <tr>\n",
       "      <th>0</th>\n",
       "      <td>892420643555336193</td>\n",
       "      <td>NaN</td>\n",
       "      <td>NaN</td>\n",
       "      <td>2017-08-01 16:23:56 +0000</td>\n",
       "      <td>&lt;a href=\"http://twitter.com/download/iphone\" r...</td>\n",
       "      <td>This is Phineas. He's a mystical boy. Only eve...</td>\n",
       "      <td>NaN</td>\n",
       "      <td>NaN</td>\n",
       "      <td>NaN</td>\n",
       "      <td>https://twitter.com/dog_rates/status/892420643...</td>\n",
       "      <td>13</td>\n",
       "      <td>10</td>\n",
       "      <td>Phineas</td>\n",
       "      <td>None</td>\n",
       "      <td>None</td>\n",
       "      <td>None</td>\n",
       "      <td>None</td>\n",
       "    </tr>\n",
       "    <tr>\n",
       "      <th>1</th>\n",
       "      <td>892177421306343426</td>\n",
       "      <td>NaN</td>\n",
       "      <td>NaN</td>\n",
       "      <td>2017-08-01 00:17:27 +0000</td>\n",
       "      <td>&lt;a href=\"http://twitter.com/download/iphone\" r...</td>\n",
       "      <td>This is Tilly. She's just checking pup on you....</td>\n",
       "      <td>NaN</td>\n",
       "      <td>NaN</td>\n",
       "      <td>NaN</td>\n",
       "      <td>https://twitter.com/dog_rates/status/892177421...</td>\n",
       "      <td>13</td>\n",
       "      <td>10</td>\n",
       "      <td>Tilly</td>\n",
       "      <td>None</td>\n",
       "      <td>None</td>\n",
       "      <td>None</td>\n",
       "      <td>None</td>\n",
       "    </tr>\n",
       "  </tbody>\n",
       "</table>\n",
       "</div>"
      ],
      "text/plain": [
       "             tweet_id  in_reply_to_status_id  in_reply_to_user_id  \\\n",
       "0  892420643555336193                    NaN                  NaN   \n",
       "1  892177421306343426                    NaN                  NaN   \n",
       "\n",
       "                   timestamp  \\\n",
       "0  2017-08-01 16:23:56 +0000   \n",
       "1  2017-08-01 00:17:27 +0000   \n",
       "\n",
       "                                              source  \\\n",
       "0  <a href=\"http://twitter.com/download/iphone\" r...   \n",
       "1  <a href=\"http://twitter.com/download/iphone\" r...   \n",
       "\n",
       "                                                text  retweeted_status_id  \\\n",
       "0  This is Phineas. He's a mystical boy. Only eve...                  NaN   \n",
       "1  This is Tilly. She's just checking pup on you....                  NaN   \n",
       "\n",
       "   retweeted_status_user_id retweeted_status_timestamp  \\\n",
       "0                       NaN                        NaN   \n",
       "1                       NaN                        NaN   \n",
       "\n",
       "                                       expanded_urls  rating_numerator  \\\n",
       "0  https://twitter.com/dog_rates/status/892420643...                13   \n",
       "1  https://twitter.com/dog_rates/status/892177421...                13   \n",
       "\n",
       "   rating_denominator     name doggo floofer pupper puppo  \n",
       "0                  10  Phineas  None    None   None  None  \n",
       "1                  10    Tilly  None    None   None  None  "
      ]
     },
     "execution_count": 164,
     "metadata": {},
     "output_type": "execute_result"
    }
   ],
   "source": [
    "# Prints out the dataset\n",
    "df_archive.head(2)"
   ]
  },
  {
   "cell_type": "markdown",
   "metadata": {},
   "source": [
    "<b>Defining the definition of each column</b> \n",
    "\n",
    "- **tweet_id** : Identifiy the id of a tweet\n",
    "- **in_reply_to_status_id** : If the tweet is a reply, it will show the original tweet id\n",
    "- **in_reply_to_status_id** : If the tweet is a reply, it will show the original id of the reply tweet\n",
    "- **timestamp** : Records when the tweet was published\n",
    "- **source** : Records where the tweet was created at\n",
    "- **text** : The text contained in the of the tweet\n",
    "- **retweeted_status_id** : If the tweet is a retweet, it will show the original tweet id\n",
    "- **retweeted_status_id** : If the tweet is a retweet, it will show the original tweet of the retweet tweet\n",
    "- **retweeted_status_user_id** : If the tweet is a retweet, it will show the original tweet of the retweet tweet\n",
    "- **retweeted_status_timestamp** : Records where the retweet was created at\n",
    "- **expanded_urls** : URL to access the tweet\n",
    "- **rating_numerator** : Numerator of rating\n",
    "- **rating_denominator** : Denomintor of rating\n",
    "- **name** : Name of the dog\n",
    "- **doggo**, **floofer**, **pupper**, **puppo** : Type of dog"
   ]
  },
  {
   "cell_type": "code",
   "execution_count": 165,
   "metadata": {},
   "outputs": [
    {
     "name": "stdout",
     "output_type": "stream",
     "text": [
      "<class 'pandas.core.frame.DataFrame'>\n",
      "RangeIndex: 2356 entries, 0 to 2355\n",
      "Data columns (total 17 columns):\n",
      "tweet_id                      2356 non-null int64\n",
      "in_reply_to_status_id         78 non-null float64\n",
      "in_reply_to_user_id           78 non-null float64\n",
      "timestamp                     2356 non-null object\n",
      "source                        2356 non-null object\n",
      "text                          2356 non-null object\n",
      "retweeted_status_id           181 non-null float64\n",
      "retweeted_status_user_id      181 non-null float64\n",
      "retweeted_status_timestamp    181 non-null object\n",
      "expanded_urls                 2297 non-null object\n",
      "rating_numerator              2356 non-null int64\n",
      "rating_denominator            2356 non-null int64\n",
      "name                          2356 non-null object\n",
      "doggo                         2356 non-null object\n",
      "floofer                       2356 non-null object\n",
      "pupper                        2356 non-null object\n",
      "puppo                         2356 non-null object\n",
      "dtypes: float64(4), int64(3), object(10)\n",
      "memory usage: 313.0+ KB\n"
     ]
    }
   ],
   "source": [
    "# Check out the dataset\n",
    "df_archive.info()"
   ]
  },
  {
   "cell_type": "code",
   "execution_count": 166,
   "metadata": {},
   "outputs": [
    {
     "data": {
      "text/plain": [
       "tweet_id                        int64\n",
       "in_reply_to_status_id         float64\n",
       "in_reply_to_user_id           float64\n",
       "timestamp                      object\n",
       "source                         object\n",
       "text                           object\n",
       "retweeted_status_id           float64\n",
       "retweeted_status_user_id      float64\n",
       "retweeted_status_timestamp     object\n",
       "expanded_urls                  object\n",
       "rating_numerator                int64\n",
       "rating_denominator              int64\n",
       "name                           object\n",
       "doggo                          object\n",
       "floofer                        object\n",
       "pupper                         object\n",
       "puppo                          object\n",
       "dtype: object"
      ]
     },
     "execution_count": 166,
     "metadata": {},
     "output_type": "execute_result"
    }
   ],
   "source": [
    "# Check out datatype\n",
    "df_archive.dtypes"
   ]
  },
  {
   "cell_type": "code",
   "execution_count": 167,
   "metadata": {},
   "outputs": [
    {
     "data": {
      "text/html": [
       "<div>\n",
       "<style scoped>\n",
       "    .dataframe tbody tr th:only-of-type {\n",
       "        vertical-align: middle;\n",
       "    }\n",
       "\n",
       "    .dataframe tbody tr th {\n",
       "        vertical-align: top;\n",
       "    }\n",
       "\n",
       "    .dataframe thead th {\n",
       "        text-align: right;\n",
       "    }\n",
       "</style>\n",
       "<table border=\"1\" class=\"dataframe\">\n",
       "  <thead>\n",
       "    <tr style=\"text-align: right;\">\n",
       "      <th></th>\n",
       "      <th>tweet_id</th>\n",
       "      <th>in_reply_to_status_id</th>\n",
       "      <th>in_reply_to_user_id</th>\n",
       "      <th>timestamp</th>\n",
       "      <th>source</th>\n",
       "      <th>text</th>\n",
       "      <th>retweeted_status_id</th>\n",
       "      <th>retweeted_status_user_id</th>\n",
       "      <th>retweeted_status_timestamp</th>\n",
       "      <th>expanded_urls</th>\n",
       "      <th>rating_numerator</th>\n",
       "      <th>rating_denominator</th>\n",
       "      <th>name</th>\n",
       "      <th>doggo</th>\n",
       "      <th>floofer</th>\n",
       "      <th>pupper</th>\n",
       "      <th>puppo</th>\n",
       "    </tr>\n",
       "  </thead>\n",
       "  <tbody>\n",
       "  </tbody>\n",
       "</table>\n",
       "</div>"
      ],
      "text/plain": [
       "Empty DataFrame\n",
       "Columns: [tweet_id, in_reply_to_status_id, in_reply_to_user_id, timestamp, source, text, retweeted_status_id, retweeted_status_user_id, retweeted_status_timestamp, expanded_urls, rating_numerator, rating_denominator, name, doggo, floofer, pupper, puppo]\n",
       "Index: []"
      ]
     },
     "execution_count": 167,
     "metadata": {},
     "output_type": "execute_result"
    }
   ],
   "source": [
    "# Checks for duplicated\n",
    "df_archive[df_archive.duplicated()]"
   ]
  },
  {
   "cell_type": "code",
   "execution_count": 168,
   "metadata": {},
   "outputs": [
    {
     "data": {
      "text/html": [
       "<div>\n",
       "<style scoped>\n",
       "    .dataframe tbody tr th:only-of-type {\n",
       "        vertical-align: middle;\n",
       "    }\n",
       "\n",
       "    .dataframe tbody tr th {\n",
       "        vertical-align: top;\n",
       "    }\n",
       "\n",
       "    .dataframe thead th {\n",
       "        text-align: right;\n",
       "    }\n",
       "</style>\n",
       "<table border=\"1\" class=\"dataframe\">\n",
       "  <thead>\n",
       "    <tr style=\"text-align: right;\">\n",
       "      <th></th>\n",
       "      <th>tweet_id</th>\n",
       "      <th>in_reply_to_status_id</th>\n",
       "      <th>in_reply_to_user_id</th>\n",
       "      <th>timestamp</th>\n",
       "      <th>source</th>\n",
       "      <th>text</th>\n",
       "      <th>retweeted_status_id</th>\n",
       "      <th>retweeted_status_user_id</th>\n",
       "      <th>retweeted_status_timestamp</th>\n",
       "      <th>expanded_urls</th>\n",
       "      <th>rating_numerator</th>\n",
       "      <th>rating_denominator</th>\n",
       "      <th>name</th>\n",
       "      <th>doggo</th>\n",
       "      <th>floofer</th>\n",
       "      <th>pupper</th>\n",
       "      <th>puppo</th>\n",
       "    </tr>\n",
       "  </thead>\n",
       "  <tbody>\n",
       "    <tr>\n",
       "      <th>19</th>\n",
       "      <td>888202515573088257</td>\n",
       "      <td>NaN</td>\n",
       "      <td>NaN</td>\n",
       "      <td>2017-07-21 01:02:36 +0000</td>\n",
       "      <td>&lt;a href=\"http://twitter.com/download/iphone\" r...</td>\n",
       "      <td>RT @dog_rates: This is Canela. She attempted s...</td>\n",
       "      <td>8.874740e+17</td>\n",
       "      <td>4.196984e+09</td>\n",
       "      <td>2017-07-19 00:47:34 +0000</td>\n",
       "      <td>https://twitter.com/dog_rates/status/887473957...</td>\n",
       "      <td>13</td>\n",
       "      <td>10</td>\n",
       "      <td>Canela</td>\n",
       "      <td>None</td>\n",
       "      <td>None</td>\n",
       "      <td>None</td>\n",
       "      <td>None</td>\n",
       "    </tr>\n",
       "    <tr>\n",
       "      <th>32</th>\n",
       "      <td>886054160059072513</td>\n",
       "      <td>NaN</td>\n",
       "      <td>NaN</td>\n",
       "      <td>2017-07-15 02:45:48 +0000</td>\n",
       "      <td>&lt;a href=\"http://twitter.com/download/iphone\" r...</td>\n",
       "      <td>RT @Athletics: 12/10 #BATP https://t.co/WxwJmv...</td>\n",
       "      <td>8.860537e+17</td>\n",
       "      <td>1.960740e+07</td>\n",
       "      <td>2017-07-15 02:44:07 +0000</td>\n",
       "      <td>https://twitter.com/dog_rates/status/886053434...</td>\n",
       "      <td>12</td>\n",
       "      <td>10</td>\n",
       "      <td>None</td>\n",
       "      <td>None</td>\n",
       "      <td>None</td>\n",
       "      <td>None</td>\n",
       "      <td>None</td>\n",
       "    </tr>\n",
       "    <tr>\n",
       "      <th>36</th>\n",
       "      <td>885311592912609280</td>\n",
       "      <td>NaN</td>\n",
       "      <td>NaN</td>\n",
       "      <td>2017-07-13 01:35:06 +0000</td>\n",
       "      <td>&lt;a href=\"http://twitter.com/download/iphone\" r...</td>\n",
       "      <td>RT @dog_rates: This is Lilly. She just paralle...</td>\n",
       "      <td>8.305833e+17</td>\n",
       "      <td>4.196984e+09</td>\n",
       "      <td>2017-02-12 01:04:29 +0000</td>\n",
       "      <td>https://twitter.com/dog_rates/status/830583320...</td>\n",
       "      <td>13</td>\n",
       "      <td>10</td>\n",
       "      <td>Lilly</td>\n",
       "      <td>None</td>\n",
       "      <td>None</td>\n",
       "      <td>None</td>\n",
       "      <td>None</td>\n",
       "    </tr>\n",
       "    <tr>\n",
       "      <th>68</th>\n",
       "      <td>879130579576475649</td>\n",
       "      <td>NaN</td>\n",
       "      <td>NaN</td>\n",
       "      <td>2017-06-26 00:13:58 +0000</td>\n",
       "      <td>&lt;a href=\"http://twitter.com/download/iphone\" r...</td>\n",
       "      <td>RT @dog_rates: This is Emmy. She was adopted t...</td>\n",
       "      <td>8.780576e+17</td>\n",
       "      <td>4.196984e+09</td>\n",
       "      <td>2017-06-23 01:10:23 +0000</td>\n",
       "      <td>https://twitter.com/dog_rates/status/878057613...</td>\n",
       "      <td>14</td>\n",
       "      <td>10</td>\n",
       "      <td>Emmy</td>\n",
       "      <td>None</td>\n",
       "      <td>None</td>\n",
       "      <td>None</td>\n",
       "      <td>None</td>\n",
       "    </tr>\n",
       "    <tr>\n",
       "      <th>73</th>\n",
       "      <td>878404777348136964</td>\n",
       "      <td>NaN</td>\n",
       "      <td>NaN</td>\n",
       "      <td>2017-06-24 00:09:53 +0000</td>\n",
       "      <td>&lt;a href=\"http://twitter.com/download/iphone\" r...</td>\n",
       "      <td>RT @dog_rates: Meet Shadow. In an attempt to r...</td>\n",
       "      <td>8.782815e+17</td>\n",
       "      <td>4.196984e+09</td>\n",
       "      <td>2017-06-23 16:00:04 +0000</td>\n",
       "      <td>https://www.gofundme.com/3yd6y1c,https://twitt...</td>\n",
       "      <td>13</td>\n",
       "      <td>10</td>\n",
       "      <td>Shadow</td>\n",
       "      <td>None</td>\n",
       "      <td>None</td>\n",
       "      <td>None</td>\n",
       "      <td>None</td>\n",
       "    </tr>\n",
       "    <tr>\n",
       "      <th>74</th>\n",
       "      <td>878316110768087041</td>\n",
       "      <td>NaN</td>\n",
       "      <td>NaN</td>\n",
       "      <td>2017-06-23 18:17:33 +0000</td>\n",
       "      <td>&lt;a href=\"http://twitter.com/download/iphone\" r...</td>\n",
       "      <td>RT @dog_rates: Meet Terrance. He's being yelle...</td>\n",
       "      <td>6.690004e+17</td>\n",
       "      <td>4.196984e+09</td>\n",
       "      <td>2015-11-24 03:51:38 +0000</td>\n",
       "      <td>https://twitter.com/dog_rates/status/669000397...</td>\n",
       "      <td>11</td>\n",
       "      <td>10</td>\n",
       "      <td>Terrance</td>\n",
       "      <td>None</td>\n",
       "      <td>None</td>\n",
       "      <td>None</td>\n",
       "      <td>None</td>\n",
       "    </tr>\n",
       "    <tr>\n",
       "      <th>78</th>\n",
       "      <td>877611172832227328</td>\n",
       "      <td>NaN</td>\n",
       "      <td>NaN</td>\n",
       "      <td>2017-06-21 19:36:23 +0000</td>\n",
       "      <td>&lt;a href=\"http://twitter.com/download/iphone\" r...</td>\n",
       "      <td>RT @rachel2195: @dog_rates the boyfriend and h...</td>\n",
       "      <td>8.768508e+17</td>\n",
       "      <td>5.128045e+08</td>\n",
       "      <td>2017-06-19 17:14:49 +0000</td>\n",
       "      <td>https://twitter.com/rachel2195/status/87685077...</td>\n",
       "      <td>14</td>\n",
       "      <td>10</td>\n",
       "      <td>None</td>\n",
       "      <td>None</td>\n",
       "      <td>None</td>\n",
       "      <td>pupper</td>\n",
       "      <td>None</td>\n",
       "    </tr>\n",
       "    <tr>\n",
       "      <th>91</th>\n",
       "      <td>874434818259525634</td>\n",
       "      <td>NaN</td>\n",
       "      <td>NaN</td>\n",
       "      <td>2017-06-13 01:14:41 +0000</td>\n",
       "      <td>&lt;a href=\"http://twitter.com/download/iphone\" r...</td>\n",
       "      <td>RT @dog_rates: This is Coco. At first I though...</td>\n",
       "      <td>8.663350e+17</td>\n",
       "      <td>4.196984e+09</td>\n",
       "      <td>2017-05-21 16:48:45 +0000</td>\n",
       "      <td>https://twitter.com/dog_rates/status/866334964...</td>\n",
       "      <td>12</td>\n",
       "      <td>10</td>\n",
       "      <td>Coco</td>\n",
       "      <td>None</td>\n",
       "      <td>None</td>\n",
       "      <td>None</td>\n",
       "      <td>None</td>\n",
       "    </tr>\n",
       "    <tr>\n",
       "      <th>95</th>\n",
       "      <td>873697596434513921</td>\n",
       "      <td>NaN</td>\n",
       "      <td>NaN</td>\n",
       "      <td>2017-06-11 00:25:14 +0000</td>\n",
       "      <td>&lt;a href=\"http://twitter.com/download/iphone\" r...</td>\n",
       "      <td>RT @dog_rates: This is Walter. He won't start ...</td>\n",
       "      <td>8.688804e+17</td>\n",
       "      <td>4.196984e+09</td>\n",
       "      <td>2017-05-28 17:23:24 +0000</td>\n",
       "      <td>https://twitter.com/dog_rates/status/868880397...</td>\n",
       "      <td>14</td>\n",
       "      <td>10</td>\n",
       "      <td>Walter</td>\n",
       "      <td>None</td>\n",
       "      <td>None</td>\n",
       "      <td>None</td>\n",
       "      <td>None</td>\n",
       "    </tr>\n",
       "    <tr>\n",
       "      <th>97</th>\n",
       "      <td>873337748698140672</td>\n",
       "      <td>NaN</td>\n",
       "      <td>NaN</td>\n",
       "      <td>2017-06-10 00:35:19 +0000</td>\n",
       "      <td>&lt;a href=\"http://twitter.com/download/iphone\" r...</td>\n",
       "      <td>RT @dog_rates: This is Sierra. She's one preci...</td>\n",
       "      <td>8.732138e+17</td>\n",
       "      <td>4.196984e+09</td>\n",
       "      <td>2017-06-09 16:22:42 +0000</td>\n",
       "      <td>https://www.gofundme.com/help-my-baby-sierra-g...</td>\n",
       "      <td>12</td>\n",
       "      <td>10</td>\n",
       "      <td>Sierra</td>\n",
       "      <td>None</td>\n",
       "      <td>None</td>\n",
       "      <td>pupper</td>\n",
       "      <td>None</td>\n",
       "    </tr>\n",
       "    <tr>\n",
       "      <th>101</th>\n",
       "      <td>872668790621863937</td>\n",
       "      <td>NaN</td>\n",
       "      <td>NaN</td>\n",
       "      <td>2017-06-08 04:17:07 +0000</td>\n",
       "      <td>&lt;a href=\"http://twitter.com/download/iphone\" r...</td>\n",
       "      <td>RT @loganamnosis: Penelope here is doing me qu...</td>\n",
       "      <td>8.726576e+17</td>\n",
       "      <td>1.547674e+08</td>\n",
       "      <td>2017-06-08 03:32:35 +0000</td>\n",
       "      <td>https://twitter.com/loganamnosis/status/872657...</td>\n",
       "      <td>14</td>\n",
       "      <td>10</td>\n",
       "      <td>None</td>\n",
       "      <td>None</td>\n",
       "      <td>None</td>\n",
       "      <td>None</td>\n",
       "      <td>None</td>\n",
       "    </tr>\n",
       "    <tr>\n",
       "      <th>109</th>\n",
       "      <td>871166179821445120</td>\n",
       "      <td>NaN</td>\n",
       "      <td>NaN</td>\n",
       "      <td>2017-06-04 00:46:17 +0000</td>\n",
       "      <td>&lt;a href=\"http://twitter.com/download/iphone\" r...</td>\n",
       "      <td>RT @dog_rates: This is Dawn. She's just checki...</td>\n",
       "      <td>8.410770e+17</td>\n",
       "      <td>4.196984e+09</td>\n",
       "      <td>2017-03-13 00:02:39 +0000</td>\n",
       "      <td>https://twitter.com/dog_rates/status/841077006...</td>\n",
       "      <td>12</td>\n",
       "      <td>10</td>\n",
       "      <td>Dawn</td>\n",
       "      <td>None</td>\n",
       "      <td>None</td>\n",
       "      <td>None</td>\n",
       "      <td>None</td>\n",
       "    </tr>\n",
       "    <tr>\n",
       "      <th>118</th>\n",
       "      <td>869988702071779329</td>\n",
       "      <td>NaN</td>\n",
       "      <td>NaN</td>\n",
       "      <td>2017-05-31 18:47:24 +0000</td>\n",
       "      <td>&lt;a href=\"http://twitter.com/download/iphone\" r...</td>\n",
       "      <td>RT @dog_rates: We only rate dogs. This is quit...</td>\n",
       "      <td>8.591970e+17</td>\n",
       "      <td>4.196984e+09</td>\n",
       "      <td>2017-05-02 00:04:57 +0000</td>\n",
       "      <td>https://twitter.com/dog_rates/status/859196978...</td>\n",
       "      <td>12</td>\n",
       "      <td>10</td>\n",
       "      <td>quite</td>\n",
       "      <td>None</td>\n",
       "      <td>None</td>\n",
       "      <td>None</td>\n",
       "      <td>None</td>\n",
       "    </tr>\n",
       "    <tr>\n",
       "      <th>124</th>\n",
       "      <td>868639477480148993</td>\n",
       "      <td>NaN</td>\n",
       "      <td>NaN</td>\n",
       "      <td>2017-05-28 01:26:04 +0000</td>\n",
       "      <td>&lt;a href=\"http://twitter.com/download/iphone\" r...</td>\n",
       "      <td>RT @dog_rates: Say hello to Cooper. His expres...</td>\n",
       "      <td>8.685523e+17</td>\n",
       "      <td>4.196984e+09</td>\n",
       "      <td>2017-05-27 19:39:34 +0000</td>\n",
       "      <td>https://www.gofundme.com/3ti3nps,https://twitt...</td>\n",
       "      <td>12</td>\n",
       "      <td>10</td>\n",
       "      <td>Cooper</td>\n",
       "      <td>None</td>\n",
       "      <td>None</td>\n",
       "      <td>None</td>\n",
       "      <td>None</td>\n",
       "    </tr>\n",
       "    <tr>\n",
       "      <th>130</th>\n",
       "      <td>867072653475098625</td>\n",
       "      <td>NaN</td>\n",
       "      <td>NaN</td>\n",
       "      <td>2017-05-23 17:40:04 +0000</td>\n",
       "      <td>&lt;a href=\"http://twitter.com/download/iphone\" r...</td>\n",
       "      <td>RT @rachaeleasler: these @dog_rates hats are 1...</td>\n",
       "      <td>8.650134e+17</td>\n",
       "      <td>7.874618e+17</td>\n",
       "      <td>2017-05-18 01:17:25 +0000</td>\n",
       "      <td>https://twitter.com/rachaeleasler/status/86501...</td>\n",
       "      <td>13</td>\n",
       "      <td>10</td>\n",
       "      <td>None</td>\n",
       "      <td>None</td>\n",
       "      <td>None</td>\n",
       "      <td>None</td>\n",
       "      <td>None</td>\n",
       "    </tr>\n",
       "    <tr>\n",
       "      <th>132</th>\n",
       "      <td>866816280283807744</td>\n",
       "      <td>NaN</td>\n",
       "      <td>NaN</td>\n",
       "      <td>2017-05-23 00:41:20 +0000</td>\n",
       "      <td>&lt;a href=\"http://twitter.com/download/iphone\" r...</td>\n",
       "      <td>RT @dog_rates: This is Jamesy. He gives a kiss...</td>\n",
       "      <td>8.664507e+17</td>\n",
       "      <td>4.196984e+09</td>\n",
       "      <td>2017-05-22 00:28:40 +0000</td>\n",
       "      <td>https://twitter.com/dog_rates/status/866450705...</td>\n",
       "      <td>13</td>\n",
       "      <td>10</td>\n",
       "      <td>Jamesy</td>\n",
       "      <td>None</td>\n",
       "      <td>None</td>\n",
       "      <td>pupper</td>\n",
       "      <td>None</td>\n",
       "    </tr>\n",
       "    <tr>\n",
       "      <th>137</th>\n",
       "      <td>866094527597207552</td>\n",
       "      <td>NaN</td>\n",
       "      <td>NaN</td>\n",
       "      <td>2017-05-21 00:53:21 +0000</td>\n",
       "      <td>&lt;a href=\"http://twitter.com/download/iphone\" r...</td>\n",
       "      <td>RT @dog_rates: Here's a pupper before and afte...</td>\n",
       "      <td>8.378202e+17</td>\n",
       "      <td>4.196984e+09</td>\n",
       "      <td>2017-03-04 00:21:08 +0000</td>\n",
       "      <td>https://twitter.com/dog_rates/status/837820167...</td>\n",
       "      <td>12</td>\n",
       "      <td>10</td>\n",
       "      <td>None</td>\n",
       "      <td>None</td>\n",
       "      <td>None</td>\n",
       "      <td>pupper</td>\n",
       "      <td>None</td>\n",
       "    </tr>\n",
       "    <tr>\n",
       "      <th>146</th>\n",
       "      <td>863471782782697472</td>\n",
       "      <td>NaN</td>\n",
       "      <td>NaN</td>\n",
       "      <td>2017-05-13 19:11:30 +0000</td>\n",
       "      <td>&lt;a href=\"http://twitter.com/download/iphone\" r...</td>\n",
       "      <td>RT @dog_rates: Say hello to Quinn. She's quite...</td>\n",
       "      <td>8.630625e+17</td>\n",
       "      <td>4.196984e+09</td>\n",
       "      <td>2017-05-12 16:05:02 +0000</td>\n",
       "      <td>https://www.gofundme.com/helpquinny,https://tw...</td>\n",
       "      <td>13</td>\n",
       "      <td>10</td>\n",
       "      <td>Quinn</td>\n",
       "      <td>None</td>\n",
       "      <td>None</td>\n",
       "      <td>None</td>\n",
       "      <td>None</td>\n",
       "    </tr>\n",
       "    <tr>\n",
       "      <th>155</th>\n",
       "      <td>861769973181624320</td>\n",
       "      <td>NaN</td>\n",
       "      <td>NaN</td>\n",
       "      <td>2017-05-09 02:29:07 +0000</td>\n",
       "      <td>&lt;a href=\"http://twitter.com/download/iphone\" r...</td>\n",
       "      <td>RT @dog_rates: \"Good afternoon class today we'...</td>\n",
       "      <td>8.066291e+17</td>\n",
       "      <td>4.196984e+09</td>\n",
       "      <td>2016-12-07 22:38:52 +0000</td>\n",
       "      <td>https://twitter.com/dog_rates/status/806629075...</td>\n",
       "      <td>13</td>\n",
       "      <td>10</td>\n",
       "      <td>None</td>\n",
       "      <td>None</td>\n",
       "      <td>None</td>\n",
       "      <td>None</td>\n",
       "      <td>None</td>\n",
       "    </tr>\n",
       "    <tr>\n",
       "      <th>159</th>\n",
       "      <td>860981674716409858</td>\n",
       "      <td>NaN</td>\n",
       "      <td>NaN</td>\n",
       "      <td>2017-05-06 22:16:42 +0000</td>\n",
       "      <td>&lt;a href=\"http://twitter.com/download/iphone\" r...</td>\n",
       "      <td>RT @dog_rates: Meet Lorenzo. He's an avid nift...</td>\n",
       "      <td>8.605638e+17</td>\n",
       "      <td>4.196984e+09</td>\n",
       "      <td>2017-05-05 18:36:06 +0000</td>\n",
       "      <td>https://www.gofundme.com/help-lorenzo-beat-can...</td>\n",
       "      <td>13</td>\n",
       "      <td>10</td>\n",
       "      <td>Lorenzo</td>\n",
       "      <td>None</td>\n",
       "      <td>None</td>\n",
       "      <td>None</td>\n",
       "      <td>None</td>\n",
       "    </tr>\n",
       "    <tr>\n",
       "      <th>160</th>\n",
       "      <td>860924035999428608</td>\n",
       "      <td>NaN</td>\n",
       "      <td>NaN</td>\n",
       "      <td>2017-05-06 18:27:40 +0000</td>\n",
       "      <td>&lt;a href=\"http://twitter.com/download/iphone\" r...</td>\n",
       "      <td>RT @tallylott: h*ckin adorable promposal. 13/1...</td>\n",
       "      <td>8.609145e+17</td>\n",
       "      <td>3.638908e+08</td>\n",
       "      <td>2017-05-06 17:49:42 +0000</td>\n",
       "      <td>https://twitter.com/tallylott/status/860914485...</td>\n",
       "      <td>13</td>\n",
       "      <td>10</td>\n",
       "      <td>None</td>\n",
       "      <td>None</td>\n",
       "      <td>None</td>\n",
       "      <td>None</td>\n",
       "      <td>None</td>\n",
       "    </tr>\n",
       "    <tr>\n",
       "      <th>165</th>\n",
       "      <td>860177593139703809</td>\n",
       "      <td>NaN</td>\n",
       "      <td>NaN</td>\n",
       "      <td>2017-05-04 17:01:34 +0000</td>\n",
       "      <td>&lt;a href=\"http://twitter.com/download/iphone\" r...</td>\n",
       "      <td>RT @dog_rates: Ohboyohboyohboyohboyohboyohboyo...</td>\n",
       "      <td>7.616730e+17</td>\n",
       "      <td>4.196984e+09</td>\n",
       "      <td>2016-08-05 21:19:27 +0000</td>\n",
       "      <td>https://twitter.com/dog_rates/status/761672994...</td>\n",
       "      <td>10</td>\n",
       "      <td>10</td>\n",
       "      <td>None</td>\n",
       "      <td>None</td>\n",
       "      <td>None</td>\n",
       "      <td>None</td>\n",
       "      <td>None</td>\n",
       "    </tr>\n",
       "    <tr>\n",
       "      <th>171</th>\n",
       "      <td>858860390427611136</td>\n",
       "      <td>NaN</td>\n",
       "      <td>NaN</td>\n",
       "      <td>2017-05-01 01:47:28 +0000</td>\n",
       "      <td>&lt;a href=\"http://twitter.com/download/iphone\" r...</td>\n",
       "      <td>RT @dog_rates: Meet Winston. He knows he's a l...</td>\n",
       "      <td>8.395493e+17</td>\n",
       "      <td>4.196984e+09</td>\n",
       "      <td>2017-03-08 18:52:12 +0000</td>\n",
       "      <td>https://twitter.com/dog_rates/status/839549326...</td>\n",
       "      <td>12</td>\n",
       "      <td>10</td>\n",
       "      <td>Winston</td>\n",
       "      <td>None</td>\n",
       "      <td>None</td>\n",
       "      <td>None</td>\n",
       "      <td>None</td>\n",
       "    </tr>\n",
       "    <tr>\n",
       "      <th>180</th>\n",
       "      <td>857062103051644929</td>\n",
       "      <td>NaN</td>\n",
       "      <td>NaN</td>\n",
       "      <td>2017-04-26 02:41:43 +0000</td>\n",
       "      <td>&lt;a href=\"http://twitter.com/download/iphone\" r...</td>\n",
       "      <td>RT @AaronChewning: First time wearing my @dog_...</td>\n",
       "      <td>8.570611e+17</td>\n",
       "      <td>5.870972e+07</td>\n",
       "      <td>2017-04-26 02:37:47 +0000</td>\n",
       "      <td>https://twitter.com/AaronChewning/status/85706...</td>\n",
       "      <td>13</td>\n",
       "      <td>10</td>\n",
       "      <td>None</td>\n",
       "      <td>None</td>\n",
       "      <td>None</td>\n",
       "      <td>None</td>\n",
       "      <td>None</td>\n",
       "    </tr>\n",
       "    <tr>\n",
       "      <th>182</th>\n",
       "      <td>856602993587888130</td>\n",
       "      <td>NaN</td>\n",
       "      <td>NaN</td>\n",
       "      <td>2017-04-24 20:17:23 +0000</td>\n",
       "      <td>&lt;a href=\"http://twitter.com/download/iphone\" r...</td>\n",
       "      <td>RT @dog_rates: This is Luna. It's her first ti...</td>\n",
       "      <td>8.447048e+17</td>\n",
       "      <td>4.196984e+09</td>\n",
       "      <td>2017-03-23 00:18:10 +0000</td>\n",
       "      <td>https://twitter.com/dog_rates/status/844704788...</td>\n",
       "      <td>13</td>\n",
       "      <td>10</td>\n",
       "      <td>Luna</td>\n",
       "      <td>None</td>\n",
       "      <td>None</td>\n",
       "      <td>None</td>\n",
       "      <td>None</td>\n",
       "    </tr>\n",
       "    <tr>\n",
       "      <th>185</th>\n",
       "      <td>856330835276025856</td>\n",
       "      <td>NaN</td>\n",
       "      <td>NaN</td>\n",
       "      <td>2017-04-24 02:15:55 +0000</td>\n",
       "      <td>&lt;a href=\"http://twitter.com/download/iphone\" r...</td>\n",
       "      <td>RT @Jenna_Marbles: @dog_rates Thanks for ratin...</td>\n",
       "      <td>8.563302e+17</td>\n",
       "      <td>6.669901e+07</td>\n",
       "      <td>2017-04-24 02:13:14 +0000</td>\n",
       "      <td>NaN</td>\n",
       "      <td>14</td>\n",
       "      <td>10</td>\n",
       "      <td>None</td>\n",
       "      <td>None</td>\n",
       "      <td>None</td>\n",
       "      <td>None</td>\n",
       "      <td>None</td>\n",
       "    </tr>\n",
       "    <tr>\n",
       "      <th>194</th>\n",
       "      <td>855245323840757760</td>\n",
       "      <td>NaN</td>\n",
       "      <td>NaN</td>\n",
       "      <td>2017-04-21 02:22:29 +0000</td>\n",
       "      <td>&lt;a href=\"http://twitter.com/download/iphone\" r...</td>\n",
       "      <td>RT @dog_rates: Meet George. He looks slightly ...</td>\n",
       "      <td>8.421635e+17</td>\n",
       "      <td>4.196984e+09</td>\n",
       "      <td>2017-03-16 00:00:07 +0000</td>\n",
       "      <td>https://twitter.com/dog_rates/status/842163532...</td>\n",
       "      <td>12</td>\n",
       "      <td>10</td>\n",
       "      <td>George</td>\n",
       "      <td>None</td>\n",
       "      <td>None</td>\n",
       "      <td>None</td>\n",
       "      <td>None</td>\n",
       "    </tr>\n",
       "    <tr>\n",
       "      <th>195</th>\n",
       "      <td>855138241867124737</td>\n",
       "      <td>NaN</td>\n",
       "      <td>NaN</td>\n",
       "      <td>2017-04-20 19:16:59 +0000</td>\n",
       "      <td>&lt;a href=\"http://twitter.com/download/iphone\" r...</td>\n",
       "      <td>RT @frasercampbell_: oh my... what's that... b...</td>\n",
       "      <td>8.551225e+17</td>\n",
       "      <td>7.475543e+17</td>\n",
       "      <td>2017-04-20 18:14:33 +0000</td>\n",
       "      <td>https://twitter.com/frasercampbell_/status/855...</td>\n",
       "      <td>14</td>\n",
       "      <td>10</td>\n",
       "      <td>None</td>\n",
       "      <td>None</td>\n",
       "      <td>None</td>\n",
       "      <td>None</td>\n",
       "      <td>None</td>\n",
       "    </tr>\n",
       "    <tr>\n",
       "      <th>204</th>\n",
       "      <td>852936405516943360</td>\n",
       "      <td>NaN</td>\n",
       "      <td>NaN</td>\n",
       "      <td>2017-04-14 17:27:40 +0000</td>\n",
       "      <td>&lt;a href=\"http://twitter.com/download/iphone\" r...</td>\n",
       "      <td>RT @dog_rates: I usually only share these on F...</td>\n",
       "      <td>8.316501e+17</td>\n",
       "      <td>4.196984e+09</td>\n",
       "      <td>2017-02-14 23:43:18 +0000</td>\n",
       "      <td>http://www.gofundme.com/bluethewhitehusky,http...</td>\n",
       "      <td>13</td>\n",
       "      <td>10</td>\n",
       "      <td>None</td>\n",
       "      <td>None</td>\n",
       "      <td>None</td>\n",
       "      <td>None</td>\n",
       "      <td>None</td>\n",
       "    </tr>\n",
       "    <tr>\n",
       "      <th>211</th>\n",
       "      <td>851953902622658560</td>\n",
       "      <td>NaN</td>\n",
       "      <td>NaN</td>\n",
       "      <td>2017-04-12 00:23:33 +0000</td>\n",
       "      <td>&lt;a href=\"http://twitter.com/download/iphone\" r...</td>\n",
       "      <td>RT @dog_rates: This is Astrid. She's a guide d...</td>\n",
       "      <td>8.293743e+17</td>\n",
       "      <td>4.196984e+09</td>\n",
       "      <td>2017-02-08 17:00:26 +0000</td>\n",
       "      <td>https://twitter.com/dog_rates/status/829374341...</td>\n",
       "      <td>13</td>\n",
       "      <td>10</td>\n",
       "      <td>Astrid</td>\n",
       "      <td>doggo</td>\n",
       "      <td>None</td>\n",
       "      <td>None</td>\n",
       "      <td>None</td>\n",
       "    </tr>\n",
       "    <tr>\n",
       "      <th>...</th>\n",
       "      <td>...</td>\n",
       "      <td>...</td>\n",
       "      <td>...</td>\n",
       "      <td>...</td>\n",
       "      <td>...</td>\n",
       "      <td>...</td>\n",
       "      <td>...</td>\n",
       "      <td>...</td>\n",
       "      <td>...</td>\n",
       "      <td>...</td>\n",
       "      <td>...</td>\n",
       "      <td>...</td>\n",
       "      <td>...</td>\n",
       "      <td>...</td>\n",
       "      <td>...</td>\n",
       "      <td>...</td>\n",
       "      <td>...</td>\n",
       "    </tr>\n",
       "    <tr>\n",
       "      <th>784</th>\n",
       "      <td>775096608509886464</td>\n",
       "      <td>NaN</td>\n",
       "      <td>NaN</td>\n",
       "      <td>2016-09-11 22:20:06 +0000</td>\n",
       "      <td>&lt;a href=\"http://twitter.com/download/iphone\" r...</td>\n",
       "      <td>RT @dog_rates: After so many requests, this is...</td>\n",
       "      <td>7.403732e+17</td>\n",
       "      <td>4.196984e+09</td>\n",
       "      <td>2016-06-08 02:41:38 +0000</td>\n",
       "      <td>https://twitter.com/dog_rates/status/740373189...</td>\n",
       "      <td>9</td>\n",
       "      <td>11</td>\n",
       "      <td>None</td>\n",
       "      <td>None</td>\n",
       "      <td>None</td>\n",
       "      <td>None</td>\n",
       "      <td>None</td>\n",
       "    </tr>\n",
       "    <tr>\n",
       "      <th>794</th>\n",
       "      <td>773336787167145985</td>\n",
       "      <td>NaN</td>\n",
       "      <td>NaN</td>\n",
       "      <td>2016-09-07 01:47:12 +0000</td>\n",
       "      <td>&lt;a href=\"http://twitter.com/download/iphone\" r...</td>\n",
       "      <td>RT @dog_rates: Meet Fizz. She thinks love is a...</td>\n",
       "      <td>7.713808e+17</td>\n",
       "      <td>4.196984e+09</td>\n",
       "      <td>2016-09-01 16:14:48 +0000</td>\n",
       "      <td>https://twitter.com/dog_rates/status/771380798...</td>\n",
       "      <td>11</td>\n",
       "      <td>10</td>\n",
       "      <td>Fizz</td>\n",
       "      <td>None</td>\n",
       "      <td>None</td>\n",
       "      <td>None</td>\n",
       "      <td>None</td>\n",
       "    </tr>\n",
       "    <tr>\n",
       "      <th>800</th>\n",
       "      <td>772615324260794368</td>\n",
       "      <td>NaN</td>\n",
       "      <td>NaN</td>\n",
       "      <td>2016-09-05 02:00:22 +0000</td>\n",
       "      <td>&lt;a href=\"http://twitter.com/download/iphone\" r...</td>\n",
       "      <td>RT @dog_rates: This is Gromit. He's pupset bec...</td>\n",
       "      <td>7.652221e+17</td>\n",
       "      <td>4.196984e+09</td>\n",
       "      <td>2016-08-15 16:22:20 +0000</td>\n",
       "      <td>https://twitter.com/dog_rates/status/765222098...</td>\n",
       "      <td>10</td>\n",
       "      <td>10</td>\n",
       "      <td>Gromit</td>\n",
       "      <td>None</td>\n",
       "      <td>None</td>\n",
       "      <td>None</td>\n",
       "      <td>None</td>\n",
       "    </tr>\n",
       "    <tr>\n",
       "      <th>811</th>\n",
       "      <td>771171053431250945</td>\n",
       "      <td>NaN</td>\n",
       "      <td>NaN</td>\n",
       "      <td>2016-09-01 02:21:21 +0000</td>\n",
       "      <td>&lt;a href=\"http://twitter.com/download/iphone\" r...</td>\n",
       "      <td>RT @dog_rates: This is Frankie. He's wearing b...</td>\n",
       "      <td>6.733201e+17</td>\n",
       "      <td>4.196984e+09</td>\n",
       "      <td>2015-12-06 01:56:44 +0000</td>\n",
       "      <td>https://twitter.com/dog_rates/status/673320132...</td>\n",
       "      <td>11</td>\n",
       "      <td>10</td>\n",
       "      <td>Frankie</td>\n",
       "      <td>None</td>\n",
       "      <td>None</td>\n",
       "      <td>None</td>\n",
       "      <td>None</td>\n",
       "    </tr>\n",
       "    <tr>\n",
       "      <th>815</th>\n",
       "      <td>771004394259247104</td>\n",
       "      <td>NaN</td>\n",
       "      <td>NaN</td>\n",
       "      <td>2016-08-31 15:19:06 +0000</td>\n",
       "      <td>&lt;a href=\"http://twitter.com/download/iphone\" r...</td>\n",
       "      <td>RT @katieornah: @dog_rates learning a lot at c...</td>\n",
       "      <td>7.710021e+17</td>\n",
       "      <td>1.732729e+09</td>\n",
       "      <td>2016-08-31 15:10:07 +0000</td>\n",
       "      <td>https://twitter.com/katieornah/status/77100213...</td>\n",
       "      <td>12</td>\n",
       "      <td>10</td>\n",
       "      <td>None</td>\n",
       "      <td>None</td>\n",
       "      <td>None</td>\n",
       "      <td>pupper</td>\n",
       "      <td>None</td>\n",
       "    </tr>\n",
       "    <tr>\n",
       "      <th>818</th>\n",
       "      <td>770743923962707968</td>\n",
       "      <td>NaN</td>\n",
       "      <td>NaN</td>\n",
       "      <td>2016-08-30 22:04:05 +0000</td>\n",
       "      <td>&lt;a href=\"http://twitter.com/download/iphone\" r...</td>\n",
       "      <td>RT @dog_rates: Here's a doggo blowing bubbles....</td>\n",
       "      <td>7.392382e+17</td>\n",
       "      <td>4.196984e+09</td>\n",
       "      <td>2016-06-04 23:31:25 +0000</td>\n",
       "      <td>https://twitter.com/dog_rates/status/739238157...</td>\n",
       "      <td>13</td>\n",
       "      <td>10</td>\n",
       "      <td>None</td>\n",
       "      <td>doggo</td>\n",
       "      <td>None</td>\n",
       "      <td>None</td>\n",
       "      <td>None</td>\n",
       "    </tr>\n",
       "    <tr>\n",
       "      <th>822</th>\n",
       "      <td>770093767776997377</td>\n",
       "      <td>NaN</td>\n",
       "      <td>NaN</td>\n",
       "      <td>2016-08-29 03:00:36 +0000</td>\n",
       "      <td>&lt;a href=\"http://twitter.com/download/iphone\" r...</td>\n",
       "      <td>RT @dog_rates: This is just downright precious...</td>\n",
       "      <td>7.410673e+17</td>\n",
       "      <td>4.196984e+09</td>\n",
       "      <td>2016-06-10 00:39:48 +0000</td>\n",
       "      <td>https://twitter.com/dog_rates/status/741067306...</td>\n",
       "      <td>12</td>\n",
       "      <td>10</td>\n",
       "      <td>just</td>\n",
       "      <td>doggo</td>\n",
       "      <td>None</td>\n",
       "      <td>pupper</td>\n",
       "      <td>None</td>\n",
       "    </tr>\n",
       "    <tr>\n",
       "      <th>826</th>\n",
       "      <td>769335591808995329</td>\n",
       "      <td>NaN</td>\n",
       "      <td>NaN</td>\n",
       "      <td>2016-08-27 00:47:53 +0000</td>\n",
       "      <td>&lt;a href=\"http://twitter.com/download/iphone\" r...</td>\n",
       "      <td>RT @dog_rates: Ever seen a dog pet another dog...</td>\n",
       "      <td>7.069045e+17</td>\n",
       "      <td>4.196984e+09</td>\n",
       "      <td>2016-03-07 18:09:06 +0000</td>\n",
       "      <td>https://vine.co/v/iXQAm5Lrgrh,https://vine.co/...</td>\n",
       "      <td>13</td>\n",
       "      <td>10</td>\n",
       "      <td>None</td>\n",
       "      <td>None</td>\n",
       "      <td>None</td>\n",
       "      <td>None</td>\n",
       "      <td>None</td>\n",
       "    </tr>\n",
       "    <tr>\n",
       "      <th>829</th>\n",
       "      <td>768909767477751808</td>\n",
       "      <td>NaN</td>\n",
       "      <td>NaN</td>\n",
       "      <td>2016-08-25 20:35:48 +0000</td>\n",
       "      <td>&lt;a href=\"http://twitter.com/download/iphone\" r...</td>\n",
       "      <td>RT @dog_rates: When it's Janet from accounting...</td>\n",
       "      <td>7.001438e+17</td>\n",
       "      <td>4.196984e+09</td>\n",
       "      <td>2016-02-18 02:24:13 +0000</td>\n",
       "      <td>https://twitter.com/dog_rates/status/700143752...</td>\n",
       "      <td>10</td>\n",
       "      <td>10</td>\n",
       "      <td>None</td>\n",
       "      <td>None</td>\n",
       "      <td>None</td>\n",
       "      <td>pupper</td>\n",
       "      <td>None</td>\n",
       "    </tr>\n",
       "    <tr>\n",
       "      <th>833</th>\n",
       "      <td>768554158521745409</td>\n",
       "      <td>NaN</td>\n",
       "      <td>NaN</td>\n",
       "      <td>2016-08-24 21:02:45 +0000</td>\n",
       "      <td>&lt;a href=\"http://twitter.com/download/iphone\" r...</td>\n",
       "      <td>RT @dog_rates: This is Nollie. She's waving at...</td>\n",
       "      <td>7.399792e+17</td>\n",
       "      <td>4.196984e+09</td>\n",
       "      <td>2016-06-07 00:36:02 +0000</td>\n",
       "      <td>https://twitter.com/dog_rates/status/739979191...</td>\n",
       "      <td>12</td>\n",
       "      <td>10</td>\n",
       "      <td>Nollie</td>\n",
       "      <td>None</td>\n",
       "      <td>None</td>\n",
       "      <td>None</td>\n",
       "      <td>None</td>\n",
       "    </tr>\n",
       "    <tr>\n",
       "      <th>841</th>\n",
       "      <td>766864461642756096</td>\n",
       "      <td>NaN</td>\n",
       "      <td>NaN</td>\n",
       "      <td>2016-08-20 05:08:29 +0000</td>\n",
       "      <td>&lt;a href=\"http://twitter.com/download/iphone\" r...</td>\n",
       "      <td>RT @dog_rates: We only rate dogs... this is a ...</td>\n",
       "      <td>7.599238e+17</td>\n",
       "      <td>4.196984e+09</td>\n",
       "      <td>2016-08-01 01:28:46 +0000</td>\n",
       "      <td>https://twitter.com/dog_rates/status/759923798...</td>\n",
       "      <td>10</td>\n",
       "      <td>10</td>\n",
       "      <td>None</td>\n",
       "      <td>None</td>\n",
       "      <td>None</td>\n",
       "      <td>None</td>\n",
       "      <td>None</td>\n",
       "    </tr>\n",
       "    <tr>\n",
       "      <th>847</th>\n",
       "      <td>766078092750233600</td>\n",
       "      <td>NaN</td>\n",
       "      <td>NaN</td>\n",
       "      <td>2016-08-18 01:03:45 +0000</td>\n",
       "      <td>&lt;a href=\"http://twitter.com/download/iphone\" r...</td>\n",
       "      <td>RT @dog_rates: This is Colby. He's currently r...</td>\n",
       "      <td>7.258423e+17</td>\n",
       "      <td>4.196984e+09</td>\n",
       "      <td>2016-04-29 00:21:01 +0000</td>\n",
       "      <td>https://twitter.com/dog_rates/status/725842289...</td>\n",
       "      <td>12</td>\n",
       "      <td>10</td>\n",
       "      <td>Colby</td>\n",
       "      <td>None</td>\n",
       "      <td>None</td>\n",
       "      <td>None</td>\n",
       "      <td>None</td>\n",
       "    </tr>\n",
       "    <tr>\n",
       "      <th>860</th>\n",
       "      <td>763167063695355904</td>\n",
       "      <td>NaN</td>\n",
       "      <td>NaN</td>\n",
       "      <td>2016-08-10 00:16:21 +0000</td>\n",
       "      <td>&lt;a href=\"http://twitter.com/download/iphone\" r...</td>\n",
       "      <td>RT @dog_rates: Meet Eve. She's a raging alcoho...</td>\n",
       "      <td>6.732953e+17</td>\n",
       "      <td>4.196984e+09</td>\n",
       "      <td>2015-12-06 00:17:55 +0000</td>\n",
       "      <td>https://twitter.com/dog_rates/status/673295268...</td>\n",
       "      <td>8</td>\n",
       "      <td>10</td>\n",
       "      <td>Eve</td>\n",
       "      <td>None</td>\n",
       "      <td>None</td>\n",
       "      <td>pupper</td>\n",
       "      <td>None</td>\n",
       "    </tr>\n",
       "    <tr>\n",
       "      <th>868</th>\n",
       "      <td>761750502866649088</td>\n",
       "      <td>NaN</td>\n",
       "      <td>NaN</td>\n",
       "      <td>2016-08-06 02:27:27 +0000</td>\n",
       "      <td>&lt;a href=\"http://twitter.com/download/iphone\" r...</td>\n",
       "      <td>RT @dog_rates: \"Tristan do not speak to me wit...</td>\n",
       "      <td>6.853251e+17</td>\n",
       "      <td>4.196984e+09</td>\n",
       "      <td>2016-01-08 05:00:14 +0000</td>\n",
       "      <td>https://twitter.com/dog_rates/status/685325112...</td>\n",
       "      <td>10</td>\n",
       "      <td>10</td>\n",
       "      <td>None</td>\n",
       "      <td>None</td>\n",
       "      <td>None</td>\n",
       "      <td>None</td>\n",
       "      <td>None</td>\n",
       "    </tr>\n",
       "    <tr>\n",
       "      <th>872</th>\n",
       "      <td>761371037149827077</td>\n",
       "      <td>NaN</td>\n",
       "      <td>NaN</td>\n",
       "      <td>2016-08-05 01:19:35 +0000</td>\n",
       "      <td>&lt;a href=\"http://twitter.com/download/iphone\" r...</td>\n",
       "      <td>RT @dog_rates: Oh. My. God. 13/10 magical af h...</td>\n",
       "      <td>7.116948e+17</td>\n",
       "      <td>4.196984e+09</td>\n",
       "      <td>2016-03-20 23:23:54 +0000</td>\n",
       "      <td>https://twitter.com/dog_rates/status/711694788...</td>\n",
       "      <td>13</td>\n",
       "      <td>10</td>\n",
       "      <td>None</td>\n",
       "      <td>None</td>\n",
       "      <td>None</td>\n",
       "      <td>None</td>\n",
       "      <td>None</td>\n",
       "    </tr>\n",
       "    <tr>\n",
       "      <th>885</th>\n",
       "      <td>760153949710192640</td>\n",
       "      <td>NaN</td>\n",
       "      <td>NaN</td>\n",
       "      <td>2016-08-01 16:43:19 +0000</td>\n",
       "      <td>&lt;a href=\"http://twitter.com/download/iphone\" r...</td>\n",
       "      <td>RT @hownottodraw: The story/person behind @dog...</td>\n",
       "      <td>7.601538e+17</td>\n",
       "      <td>1.950368e+08</td>\n",
       "      <td>2016-08-01 16:42:51 +0000</td>\n",
       "      <td>https://weratedogs.com/pages/about-us,https://...</td>\n",
       "      <td>11</td>\n",
       "      <td>10</td>\n",
       "      <td>None</td>\n",
       "      <td>None</td>\n",
       "      <td>None</td>\n",
       "      <td>None</td>\n",
       "      <td>None</td>\n",
       "    </tr>\n",
       "    <tr>\n",
       "      <th>890</th>\n",
       "      <td>759566828574212096</td>\n",
       "      <td>NaN</td>\n",
       "      <td>NaN</td>\n",
       "      <td>2016-07-31 01:50:18 +0000</td>\n",
       "      <td>&lt;a href=\"http://twitter.com/download/iphone\" r...</td>\n",
       "      <td>RT @dog_rates: This... is a Tyrannosaurus rex....</td>\n",
       "      <td>7.395441e+17</td>\n",
       "      <td>4.196984e+09</td>\n",
       "      <td>2016-06-05 19:47:03 +0000</td>\n",
       "      <td>https://twitter.com/dog_rates/status/739544079...</td>\n",
       "      <td>10</td>\n",
       "      <td>10</td>\n",
       "      <td>None</td>\n",
       "      <td>None</td>\n",
       "      <td>None</td>\n",
       "      <td>None</td>\n",
       "      <td>None</td>\n",
       "    </tr>\n",
       "    <tr>\n",
       "      <th>895</th>\n",
       "      <td>759159934323924993</td>\n",
       "      <td>NaN</td>\n",
       "      <td>NaN</td>\n",
       "      <td>2016-07-29 22:53:27 +0000</td>\n",
       "      <td>&lt;a href=\"http://twitter.com/download/iphone\" r...</td>\n",
       "      <td>RT @dog_rates: AT DAWN...\\nWE RIDE\\n\\n11/10 ht...</td>\n",
       "      <td>6.703191e+17</td>\n",
       "      <td>4.196984e+09</td>\n",
       "      <td>2015-11-27 19:11:49 +0000</td>\n",
       "      <td>https://twitter.com/dog_rates/status/670319130...</td>\n",
       "      <td>11</td>\n",
       "      <td>10</td>\n",
       "      <td>None</td>\n",
       "      <td>None</td>\n",
       "      <td>None</td>\n",
       "      <td>None</td>\n",
       "      <td>None</td>\n",
       "    </tr>\n",
       "    <tr>\n",
       "      <th>908</th>\n",
       "      <td>757729163776290825</td>\n",
       "      <td>NaN</td>\n",
       "      <td>NaN</td>\n",
       "      <td>2016-07-26 00:08:05 +0000</td>\n",
       "      <td>&lt;a href=\"http://twitter.com/download/iphone\" r...</td>\n",
       "      <td>RT @dog_rates: This is Chompsky. He lives up t...</td>\n",
       "      <td>6.790626e+17</td>\n",
       "      <td>4.196984e+09</td>\n",
       "      <td>2015-12-21 22:15:18 +0000</td>\n",
       "      <td>https://twitter.com/dog_rates/status/679062614...</td>\n",
       "      <td>11</td>\n",
       "      <td>10</td>\n",
       "      <td>Chompsky</td>\n",
       "      <td>None</td>\n",
       "      <td>None</td>\n",
       "      <td>None</td>\n",
       "      <td>None</td>\n",
       "    </tr>\n",
       "    <tr>\n",
       "      <th>911</th>\n",
       "      <td>757597904299253760</td>\n",
       "      <td>NaN</td>\n",
       "      <td>NaN</td>\n",
       "      <td>2016-07-25 15:26:30 +0000</td>\n",
       "      <td>&lt;a href=\"http://twitter.com/download/iphone\" r...</td>\n",
       "      <td>RT @jon_hill987: @dog_rates There is a cunning...</td>\n",
       "      <td>7.575971e+17</td>\n",
       "      <td>2.804798e+08</td>\n",
       "      <td>2016-07-25 15:23:28 +0000</td>\n",
       "      <td>https://twitter.com/jon_hill987/status/7575971...</td>\n",
       "      <td>11</td>\n",
       "      <td>10</td>\n",
       "      <td>None</td>\n",
       "      <td>None</td>\n",
       "      <td>None</td>\n",
       "      <td>pupper</td>\n",
       "      <td>None</td>\n",
       "    </tr>\n",
       "    <tr>\n",
       "      <th>926</th>\n",
       "      <td>754874841593970688</td>\n",
       "      <td>NaN</td>\n",
       "      <td>NaN</td>\n",
       "      <td>2016-07-18 03:06:01 +0000</td>\n",
       "      <td>&lt;a href=\"http://twitter.com/download/iphone\" r...</td>\n",
       "      <td>RT @dog_rates: This is Rubio. He has too much ...</td>\n",
       "      <td>6.791584e+17</td>\n",
       "      <td>4.196984e+09</td>\n",
       "      <td>2015-12-22 04:35:49 +0000</td>\n",
       "      <td>https://twitter.com/dog_rates/status/679158373...</td>\n",
       "      <td>11</td>\n",
       "      <td>10</td>\n",
       "      <td>Rubio</td>\n",
       "      <td>None</td>\n",
       "      <td>None</td>\n",
       "      <td>None</td>\n",
       "      <td>None</td>\n",
       "    </tr>\n",
       "    <tr>\n",
       "      <th>937</th>\n",
       "      <td>753298634498793472</td>\n",
       "      <td>NaN</td>\n",
       "      <td>NaN</td>\n",
       "      <td>2016-07-13 18:42:44 +0000</td>\n",
       "      <td>&lt;a href=\"http://twitter.com/download/iphone\" r...</td>\n",
       "      <td>RT @dog_rates: This is Carly. She's actually 2...</td>\n",
       "      <td>6.815232e+17</td>\n",
       "      <td>4.196984e+09</td>\n",
       "      <td>2015-12-28 17:12:42 +0000</td>\n",
       "      <td>https://twitter.com/dog_rates/status/681523177...</td>\n",
       "      <td>12</td>\n",
       "      <td>10</td>\n",
       "      <td>Carly</td>\n",
       "      <td>None</td>\n",
       "      <td>None</td>\n",
       "      <td>None</td>\n",
       "      <td>None</td>\n",
       "    </tr>\n",
       "    <tr>\n",
       "      <th>943</th>\n",
       "      <td>752701944171524096</td>\n",
       "      <td>NaN</td>\n",
       "      <td>NaN</td>\n",
       "      <td>2016-07-12 03:11:42 +0000</td>\n",
       "      <td>&lt;a href=\"http://twitter.com/download/iphone\" r...</td>\n",
       "      <td>RT @dog_rates: HEY PUP WHAT'S THE PART OF THE ...</td>\n",
       "      <td>6.835159e+17</td>\n",
       "      <td>4.196984e+09</td>\n",
       "      <td>2016-01-03 05:11:12 +0000</td>\n",
       "      <td>https://vine.co/v/ibvnzrauFuV,https://vine.co/...</td>\n",
       "      <td>11</td>\n",
       "      <td>10</td>\n",
       "      <td>None</td>\n",
       "      <td>None</td>\n",
       "      <td>None</td>\n",
       "      <td>None</td>\n",
       "      <td>None</td>\n",
       "    </tr>\n",
       "    <tr>\n",
       "      <th>949</th>\n",
       "      <td>752309394570878976</td>\n",
       "      <td>NaN</td>\n",
       "      <td>NaN</td>\n",
       "      <td>2016-07-11 01:11:51 +0000</td>\n",
       "      <td>&lt;a href=\"http://twitter.com/download/iphone\" r...</td>\n",
       "      <td>RT @dog_rates: Everyone needs to watch this. 1...</td>\n",
       "      <td>6.753544e+17</td>\n",
       "      <td>4.196984e+09</td>\n",
       "      <td>2015-12-11 16:40:19 +0000</td>\n",
       "      <td>https://twitter.com/dog_rates/status/675354435...</td>\n",
       "      <td>13</td>\n",
       "      <td>10</td>\n",
       "      <td>None</td>\n",
       "      <td>None</td>\n",
       "      <td>None</td>\n",
       "      <td>None</td>\n",
       "      <td>None</td>\n",
       "    </tr>\n",
       "    <tr>\n",
       "      <th>1012</th>\n",
       "      <td>747242308580548608</td>\n",
       "      <td>NaN</td>\n",
       "      <td>NaN</td>\n",
       "      <td>2016-06-27 01:37:04 +0000</td>\n",
       "      <td>&lt;a href=\"http://twitter.com/download/iphone\" r...</td>\n",
       "      <td>RT @dog_rates: This pupper killed this great w...</td>\n",
       "      <td>7.047611e+17</td>\n",
       "      <td>4.196984e+09</td>\n",
       "      <td>2016-03-01 20:11:59 +0000</td>\n",
       "      <td>https://twitter.com/dog_rates/status/704761120...</td>\n",
       "      <td>13</td>\n",
       "      <td>10</td>\n",
       "      <td>None</td>\n",
       "      <td>None</td>\n",
       "      <td>None</td>\n",
       "      <td>pupper</td>\n",
       "      <td>None</td>\n",
       "    </tr>\n",
       "    <tr>\n",
       "      <th>1023</th>\n",
       "      <td>746521445350707200</td>\n",
       "      <td>NaN</td>\n",
       "      <td>NaN</td>\n",
       "      <td>2016-06-25 01:52:36 +0000</td>\n",
       "      <td>&lt;a href=\"http://twitter.com/download/iphone\" r...</td>\n",
       "      <td>RT @dog_rates: This is Shaggy. He knows exactl...</td>\n",
       "      <td>6.678667e+17</td>\n",
       "      <td>4.196984e+09</td>\n",
       "      <td>2015-11-21 00:46:50 +0000</td>\n",
       "      <td>https://twitter.com/dog_rates/status/667866724...</td>\n",
       "      <td>10</td>\n",
       "      <td>10</td>\n",
       "      <td>Shaggy</td>\n",
       "      <td>None</td>\n",
       "      <td>None</td>\n",
       "      <td>None</td>\n",
       "      <td>None</td>\n",
       "    </tr>\n",
       "    <tr>\n",
       "      <th>1043</th>\n",
       "      <td>743835915802583040</td>\n",
       "      <td>NaN</td>\n",
       "      <td>NaN</td>\n",
       "      <td>2016-06-17 16:01:16 +0000</td>\n",
       "      <td>&lt;a href=\"http://twitter.com/download/iphone\" r...</td>\n",
       "      <td>RT @dog_rates: Extremely intelligent dog here....</td>\n",
       "      <td>6.671383e+17</td>\n",
       "      <td>4.196984e+09</td>\n",
       "      <td>2015-11-19 00:32:12 +0000</td>\n",
       "      <td>https://twitter.com/dog_rates/status/667138269...</td>\n",
       "      <td>10</td>\n",
       "      <td>10</td>\n",
       "      <td>None</td>\n",
       "      <td>None</td>\n",
       "      <td>None</td>\n",
       "      <td>None</td>\n",
       "      <td>None</td>\n",
       "    </tr>\n",
       "    <tr>\n",
       "      <th>1242</th>\n",
       "      <td>711998809858043904</td>\n",
       "      <td>NaN</td>\n",
       "      <td>NaN</td>\n",
       "      <td>2016-03-21 19:31:59 +0000</td>\n",
       "      <td>&lt;a href=\"http://twitter.com/download/iphone\" r...</td>\n",
       "      <td>RT @twitter: @dog_rates Awesome Tweet! 12/10. ...</td>\n",
       "      <td>7.119983e+17</td>\n",
       "      <td>7.832140e+05</td>\n",
       "      <td>2016-03-21 19:29:52 +0000</td>\n",
       "      <td>https://twitter.com/twitter/status/71199827977...</td>\n",
       "      <td>12</td>\n",
       "      <td>10</td>\n",
       "      <td>None</td>\n",
       "      <td>None</td>\n",
       "      <td>None</td>\n",
       "      <td>None</td>\n",
       "      <td>None</td>\n",
       "    </tr>\n",
       "    <tr>\n",
       "      <th>2259</th>\n",
       "      <td>667550904950915073</td>\n",
       "      <td>NaN</td>\n",
       "      <td>NaN</td>\n",
       "      <td>2015-11-20 03:51:52 +0000</td>\n",
       "      <td>&lt;a href=\"http://twitter.com\" rel=\"nofollow\"&gt;Tw...</td>\n",
       "      <td>RT @dogratingrating: Exceptional talent. Origi...</td>\n",
       "      <td>6.675487e+17</td>\n",
       "      <td>4.296832e+09</td>\n",
       "      <td>2015-11-20 03:43:06 +0000</td>\n",
       "      <td>https://twitter.com/dogratingrating/status/667...</td>\n",
       "      <td>12</td>\n",
       "      <td>10</td>\n",
       "      <td>None</td>\n",
       "      <td>None</td>\n",
       "      <td>None</td>\n",
       "      <td>None</td>\n",
       "      <td>None</td>\n",
       "    </tr>\n",
       "    <tr>\n",
       "      <th>2260</th>\n",
       "      <td>667550882905632768</td>\n",
       "      <td>NaN</td>\n",
       "      <td>NaN</td>\n",
       "      <td>2015-11-20 03:51:47 +0000</td>\n",
       "      <td>&lt;a href=\"http://twitter.com\" rel=\"nofollow\"&gt;Tw...</td>\n",
       "      <td>RT @dogratingrating: Unoriginal idea. Blatant ...</td>\n",
       "      <td>6.675484e+17</td>\n",
       "      <td>4.296832e+09</td>\n",
       "      <td>2015-11-20 03:41:59 +0000</td>\n",
       "      <td>https://twitter.com/dogratingrating/status/667...</td>\n",
       "      <td>5</td>\n",
       "      <td>10</td>\n",
       "      <td>None</td>\n",
       "      <td>None</td>\n",
       "      <td>None</td>\n",
       "      <td>None</td>\n",
       "      <td>None</td>\n",
       "    </tr>\n",
       "  </tbody>\n",
       "</table>\n",
       "<p>181 rows × 17 columns</p>\n",
       "</div>"
      ],
      "text/plain": [
       "                tweet_id  in_reply_to_status_id  in_reply_to_user_id  \\\n",
       "19    888202515573088257                    NaN                  NaN   \n",
       "32    886054160059072513                    NaN                  NaN   \n",
       "36    885311592912609280                    NaN                  NaN   \n",
       "68    879130579576475649                    NaN                  NaN   \n",
       "73    878404777348136964                    NaN                  NaN   \n",
       "74    878316110768087041                    NaN                  NaN   \n",
       "78    877611172832227328                    NaN                  NaN   \n",
       "91    874434818259525634                    NaN                  NaN   \n",
       "95    873697596434513921                    NaN                  NaN   \n",
       "97    873337748698140672                    NaN                  NaN   \n",
       "101   872668790621863937                    NaN                  NaN   \n",
       "109   871166179821445120                    NaN                  NaN   \n",
       "118   869988702071779329                    NaN                  NaN   \n",
       "124   868639477480148993                    NaN                  NaN   \n",
       "130   867072653475098625                    NaN                  NaN   \n",
       "132   866816280283807744                    NaN                  NaN   \n",
       "137   866094527597207552                    NaN                  NaN   \n",
       "146   863471782782697472                    NaN                  NaN   \n",
       "155   861769973181624320                    NaN                  NaN   \n",
       "159   860981674716409858                    NaN                  NaN   \n",
       "160   860924035999428608                    NaN                  NaN   \n",
       "165   860177593139703809                    NaN                  NaN   \n",
       "171   858860390427611136                    NaN                  NaN   \n",
       "180   857062103051644929                    NaN                  NaN   \n",
       "182   856602993587888130                    NaN                  NaN   \n",
       "185   856330835276025856                    NaN                  NaN   \n",
       "194   855245323840757760                    NaN                  NaN   \n",
       "195   855138241867124737                    NaN                  NaN   \n",
       "204   852936405516943360                    NaN                  NaN   \n",
       "211   851953902622658560                    NaN                  NaN   \n",
       "...                  ...                    ...                  ...   \n",
       "784   775096608509886464                    NaN                  NaN   \n",
       "794   773336787167145985                    NaN                  NaN   \n",
       "800   772615324260794368                    NaN                  NaN   \n",
       "811   771171053431250945                    NaN                  NaN   \n",
       "815   771004394259247104                    NaN                  NaN   \n",
       "818   770743923962707968                    NaN                  NaN   \n",
       "822   770093767776997377                    NaN                  NaN   \n",
       "826   769335591808995329                    NaN                  NaN   \n",
       "829   768909767477751808                    NaN                  NaN   \n",
       "833   768554158521745409                    NaN                  NaN   \n",
       "841   766864461642756096                    NaN                  NaN   \n",
       "847   766078092750233600                    NaN                  NaN   \n",
       "860   763167063695355904                    NaN                  NaN   \n",
       "868   761750502866649088                    NaN                  NaN   \n",
       "872   761371037149827077                    NaN                  NaN   \n",
       "885   760153949710192640                    NaN                  NaN   \n",
       "890   759566828574212096                    NaN                  NaN   \n",
       "895   759159934323924993                    NaN                  NaN   \n",
       "908   757729163776290825                    NaN                  NaN   \n",
       "911   757597904299253760                    NaN                  NaN   \n",
       "926   754874841593970688                    NaN                  NaN   \n",
       "937   753298634498793472                    NaN                  NaN   \n",
       "943   752701944171524096                    NaN                  NaN   \n",
       "949   752309394570878976                    NaN                  NaN   \n",
       "1012  747242308580548608                    NaN                  NaN   \n",
       "1023  746521445350707200                    NaN                  NaN   \n",
       "1043  743835915802583040                    NaN                  NaN   \n",
       "1242  711998809858043904                    NaN                  NaN   \n",
       "2259  667550904950915073                    NaN                  NaN   \n",
       "2260  667550882905632768                    NaN                  NaN   \n",
       "\n",
       "                      timestamp  \\\n",
       "19    2017-07-21 01:02:36 +0000   \n",
       "32    2017-07-15 02:45:48 +0000   \n",
       "36    2017-07-13 01:35:06 +0000   \n",
       "68    2017-06-26 00:13:58 +0000   \n",
       "73    2017-06-24 00:09:53 +0000   \n",
       "74    2017-06-23 18:17:33 +0000   \n",
       "78    2017-06-21 19:36:23 +0000   \n",
       "91    2017-06-13 01:14:41 +0000   \n",
       "95    2017-06-11 00:25:14 +0000   \n",
       "97    2017-06-10 00:35:19 +0000   \n",
       "101   2017-06-08 04:17:07 +0000   \n",
       "109   2017-06-04 00:46:17 +0000   \n",
       "118   2017-05-31 18:47:24 +0000   \n",
       "124   2017-05-28 01:26:04 +0000   \n",
       "130   2017-05-23 17:40:04 +0000   \n",
       "132   2017-05-23 00:41:20 +0000   \n",
       "137   2017-05-21 00:53:21 +0000   \n",
       "146   2017-05-13 19:11:30 +0000   \n",
       "155   2017-05-09 02:29:07 +0000   \n",
       "159   2017-05-06 22:16:42 +0000   \n",
       "160   2017-05-06 18:27:40 +0000   \n",
       "165   2017-05-04 17:01:34 +0000   \n",
       "171   2017-05-01 01:47:28 +0000   \n",
       "180   2017-04-26 02:41:43 +0000   \n",
       "182   2017-04-24 20:17:23 +0000   \n",
       "185   2017-04-24 02:15:55 +0000   \n",
       "194   2017-04-21 02:22:29 +0000   \n",
       "195   2017-04-20 19:16:59 +0000   \n",
       "204   2017-04-14 17:27:40 +0000   \n",
       "211   2017-04-12 00:23:33 +0000   \n",
       "...                         ...   \n",
       "784   2016-09-11 22:20:06 +0000   \n",
       "794   2016-09-07 01:47:12 +0000   \n",
       "800   2016-09-05 02:00:22 +0000   \n",
       "811   2016-09-01 02:21:21 +0000   \n",
       "815   2016-08-31 15:19:06 +0000   \n",
       "818   2016-08-30 22:04:05 +0000   \n",
       "822   2016-08-29 03:00:36 +0000   \n",
       "826   2016-08-27 00:47:53 +0000   \n",
       "829   2016-08-25 20:35:48 +0000   \n",
       "833   2016-08-24 21:02:45 +0000   \n",
       "841   2016-08-20 05:08:29 +0000   \n",
       "847   2016-08-18 01:03:45 +0000   \n",
       "860   2016-08-10 00:16:21 +0000   \n",
       "868   2016-08-06 02:27:27 +0000   \n",
       "872   2016-08-05 01:19:35 +0000   \n",
       "885   2016-08-01 16:43:19 +0000   \n",
       "890   2016-07-31 01:50:18 +0000   \n",
       "895   2016-07-29 22:53:27 +0000   \n",
       "908   2016-07-26 00:08:05 +0000   \n",
       "911   2016-07-25 15:26:30 +0000   \n",
       "926   2016-07-18 03:06:01 +0000   \n",
       "937   2016-07-13 18:42:44 +0000   \n",
       "943   2016-07-12 03:11:42 +0000   \n",
       "949   2016-07-11 01:11:51 +0000   \n",
       "1012  2016-06-27 01:37:04 +0000   \n",
       "1023  2016-06-25 01:52:36 +0000   \n",
       "1043  2016-06-17 16:01:16 +0000   \n",
       "1242  2016-03-21 19:31:59 +0000   \n",
       "2259  2015-11-20 03:51:52 +0000   \n",
       "2260  2015-11-20 03:51:47 +0000   \n",
       "\n",
       "                                                 source  \\\n",
       "19    <a href=\"http://twitter.com/download/iphone\" r...   \n",
       "32    <a href=\"http://twitter.com/download/iphone\" r...   \n",
       "36    <a href=\"http://twitter.com/download/iphone\" r...   \n",
       "68    <a href=\"http://twitter.com/download/iphone\" r...   \n",
       "73    <a href=\"http://twitter.com/download/iphone\" r...   \n",
       "74    <a href=\"http://twitter.com/download/iphone\" r...   \n",
       "78    <a href=\"http://twitter.com/download/iphone\" r...   \n",
       "91    <a href=\"http://twitter.com/download/iphone\" r...   \n",
       "95    <a href=\"http://twitter.com/download/iphone\" r...   \n",
       "97    <a href=\"http://twitter.com/download/iphone\" r...   \n",
       "101   <a href=\"http://twitter.com/download/iphone\" r...   \n",
       "109   <a href=\"http://twitter.com/download/iphone\" r...   \n",
       "118   <a href=\"http://twitter.com/download/iphone\" r...   \n",
       "124   <a href=\"http://twitter.com/download/iphone\" r...   \n",
       "130   <a href=\"http://twitter.com/download/iphone\" r...   \n",
       "132   <a href=\"http://twitter.com/download/iphone\" r...   \n",
       "137   <a href=\"http://twitter.com/download/iphone\" r...   \n",
       "146   <a href=\"http://twitter.com/download/iphone\" r...   \n",
       "155   <a href=\"http://twitter.com/download/iphone\" r...   \n",
       "159   <a href=\"http://twitter.com/download/iphone\" r...   \n",
       "160   <a href=\"http://twitter.com/download/iphone\" r...   \n",
       "165   <a href=\"http://twitter.com/download/iphone\" r...   \n",
       "171   <a href=\"http://twitter.com/download/iphone\" r...   \n",
       "180   <a href=\"http://twitter.com/download/iphone\" r...   \n",
       "182   <a href=\"http://twitter.com/download/iphone\" r...   \n",
       "185   <a href=\"http://twitter.com/download/iphone\" r...   \n",
       "194   <a href=\"http://twitter.com/download/iphone\" r...   \n",
       "195   <a href=\"http://twitter.com/download/iphone\" r...   \n",
       "204   <a href=\"http://twitter.com/download/iphone\" r...   \n",
       "211   <a href=\"http://twitter.com/download/iphone\" r...   \n",
       "...                                                 ...   \n",
       "784   <a href=\"http://twitter.com/download/iphone\" r...   \n",
       "794   <a href=\"http://twitter.com/download/iphone\" r...   \n",
       "800   <a href=\"http://twitter.com/download/iphone\" r...   \n",
       "811   <a href=\"http://twitter.com/download/iphone\" r...   \n",
       "815   <a href=\"http://twitter.com/download/iphone\" r...   \n",
       "818   <a href=\"http://twitter.com/download/iphone\" r...   \n",
       "822   <a href=\"http://twitter.com/download/iphone\" r...   \n",
       "826   <a href=\"http://twitter.com/download/iphone\" r...   \n",
       "829   <a href=\"http://twitter.com/download/iphone\" r...   \n",
       "833   <a href=\"http://twitter.com/download/iphone\" r...   \n",
       "841   <a href=\"http://twitter.com/download/iphone\" r...   \n",
       "847   <a href=\"http://twitter.com/download/iphone\" r...   \n",
       "860   <a href=\"http://twitter.com/download/iphone\" r...   \n",
       "868   <a href=\"http://twitter.com/download/iphone\" r...   \n",
       "872   <a href=\"http://twitter.com/download/iphone\" r...   \n",
       "885   <a href=\"http://twitter.com/download/iphone\" r...   \n",
       "890   <a href=\"http://twitter.com/download/iphone\" r...   \n",
       "895   <a href=\"http://twitter.com/download/iphone\" r...   \n",
       "908   <a href=\"http://twitter.com/download/iphone\" r...   \n",
       "911   <a href=\"http://twitter.com/download/iphone\" r...   \n",
       "926   <a href=\"http://twitter.com/download/iphone\" r...   \n",
       "937   <a href=\"http://twitter.com/download/iphone\" r...   \n",
       "943   <a href=\"http://twitter.com/download/iphone\" r...   \n",
       "949   <a href=\"http://twitter.com/download/iphone\" r...   \n",
       "1012  <a href=\"http://twitter.com/download/iphone\" r...   \n",
       "1023  <a href=\"http://twitter.com/download/iphone\" r...   \n",
       "1043  <a href=\"http://twitter.com/download/iphone\" r...   \n",
       "1242  <a href=\"http://twitter.com/download/iphone\" r...   \n",
       "2259  <a href=\"http://twitter.com\" rel=\"nofollow\">Tw...   \n",
       "2260  <a href=\"http://twitter.com\" rel=\"nofollow\">Tw...   \n",
       "\n",
       "                                                   text  retweeted_status_id  \\\n",
       "19    RT @dog_rates: This is Canela. She attempted s...         8.874740e+17   \n",
       "32    RT @Athletics: 12/10 #BATP https://t.co/WxwJmv...         8.860537e+17   \n",
       "36    RT @dog_rates: This is Lilly. She just paralle...         8.305833e+17   \n",
       "68    RT @dog_rates: This is Emmy. She was adopted t...         8.780576e+17   \n",
       "73    RT @dog_rates: Meet Shadow. In an attempt to r...         8.782815e+17   \n",
       "74    RT @dog_rates: Meet Terrance. He's being yelle...         6.690004e+17   \n",
       "78    RT @rachel2195: @dog_rates the boyfriend and h...         8.768508e+17   \n",
       "91    RT @dog_rates: This is Coco. At first I though...         8.663350e+17   \n",
       "95    RT @dog_rates: This is Walter. He won't start ...         8.688804e+17   \n",
       "97    RT @dog_rates: This is Sierra. She's one preci...         8.732138e+17   \n",
       "101   RT @loganamnosis: Penelope here is doing me qu...         8.726576e+17   \n",
       "109   RT @dog_rates: This is Dawn. She's just checki...         8.410770e+17   \n",
       "118   RT @dog_rates: We only rate dogs. This is quit...         8.591970e+17   \n",
       "124   RT @dog_rates: Say hello to Cooper. His expres...         8.685523e+17   \n",
       "130   RT @rachaeleasler: these @dog_rates hats are 1...         8.650134e+17   \n",
       "132   RT @dog_rates: This is Jamesy. He gives a kiss...         8.664507e+17   \n",
       "137   RT @dog_rates: Here's a pupper before and afte...         8.378202e+17   \n",
       "146   RT @dog_rates: Say hello to Quinn. She's quite...         8.630625e+17   \n",
       "155   RT @dog_rates: \"Good afternoon class today we'...         8.066291e+17   \n",
       "159   RT @dog_rates: Meet Lorenzo. He's an avid nift...         8.605638e+17   \n",
       "160   RT @tallylott: h*ckin adorable promposal. 13/1...         8.609145e+17   \n",
       "165   RT @dog_rates: Ohboyohboyohboyohboyohboyohboyo...         7.616730e+17   \n",
       "171   RT @dog_rates: Meet Winston. He knows he's a l...         8.395493e+17   \n",
       "180   RT @AaronChewning: First time wearing my @dog_...         8.570611e+17   \n",
       "182   RT @dog_rates: This is Luna. It's her first ti...         8.447048e+17   \n",
       "185   RT @Jenna_Marbles: @dog_rates Thanks for ratin...         8.563302e+17   \n",
       "194   RT @dog_rates: Meet George. He looks slightly ...         8.421635e+17   \n",
       "195   RT @frasercampbell_: oh my... what's that... b...         8.551225e+17   \n",
       "204   RT @dog_rates: I usually only share these on F...         8.316501e+17   \n",
       "211   RT @dog_rates: This is Astrid. She's a guide d...         8.293743e+17   \n",
       "...                                                 ...                  ...   \n",
       "784   RT @dog_rates: After so many requests, this is...         7.403732e+17   \n",
       "794   RT @dog_rates: Meet Fizz. She thinks love is a...         7.713808e+17   \n",
       "800   RT @dog_rates: This is Gromit. He's pupset bec...         7.652221e+17   \n",
       "811   RT @dog_rates: This is Frankie. He's wearing b...         6.733201e+17   \n",
       "815   RT @katieornah: @dog_rates learning a lot at c...         7.710021e+17   \n",
       "818   RT @dog_rates: Here's a doggo blowing bubbles....         7.392382e+17   \n",
       "822   RT @dog_rates: This is just downright precious...         7.410673e+17   \n",
       "826   RT @dog_rates: Ever seen a dog pet another dog...         7.069045e+17   \n",
       "829   RT @dog_rates: When it's Janet from accounting...         7.001438e+17   \n",
       "833   RT @dog_rates: This is Nollie. She's waving at...         7.399792e+17   \n",
       "841   RT @dog_rates: We only rate dogs... this is a ...         7.599238e+17   \n",
       "847   RT @dog_rates: This is Colby. He's currently r...         7.258423e+17   \n",
       "860   RT @dog_rates: Meet Eve. She's a raging alcoho...         6.732953e+17   \n",
       "868   RT @dog_rates: \"Tristan do not speak to me wit...         6.853251e+17   \n",
       "872   RT @dog_rates: Oh. My. God. 13/10 magical af h...         7.116948e+17   \n",
       "885   RT @hownottodraw: The story/person behind @dog...         7.601538e+17   \n",
       "890   RT @dog_rates: This... is a Tyrannosaurus rex....         7.395441e+17   \n",
       "895   RT @dog_rates: AT DAWN...\\nWE RIDE\\n\\n11/10 ht...         6.703191e+17   \n",
       "908   RT @dog_rates: This is Chompsky. He lives up t...         6.790626e+17   \n",
       "911   RT @jon_hill987: @dog_rates There is a cunning...         7.575971e+17   \n",
       "926   RT @dog_rates: This is Rubio. He has too much ...         6.791584e+17   \n",
       "937   RT @dog_rates: This is Carly. She's actually 2...         6.815232e+17   \n",
       "943   RT @dog_rates: HEY PUP WHAT'S THE PART OF THE ...         6.835159e+17   \n",
       "949   RT @dog_rates: Everyone needs to watch this. 1...         6.753544e+17   \n",
       "1012  RT @dog_rates: This pupper killed this great w...         7.047611e+17   \n",
       "1023  RT @dog_rates: This is Shaggy. He knows exactl...         6.678667e+17   \n",
       "1043  RT @dog_rates: Extremely intelligent dog here....         6.671383e+17   \n",
       "1242  RT @twitter: @dog_rates Awesome Tweet! 12/10. ...         7.119983e+17   \n",
       "2259  RT @dogratingrating: Exceptional talent. Origi...         6.675487e+17   \n",
       "2260  RT @dogratingrating: Unoriginal idea. Blatant ...         6.675484e+17   \n",
       "\n",
       "      retweeted_status_user_id retweeted_status_timestamp  \\\n",
       "19                4.196984e+09  2017-07-19 00:47:34 +0000   \n",
       "32                1.960740e+07  2017-07-15 02:44:07 +0000   \n",
       "36                4.196984e+09  2017-02-12 01:04:29 +0000   \n",
       "68                4.196984e+09  2017-06-23 01:10:23 +0000   \n",
       "73                4.196984e+09  2017-06-23 16:00:04 +0000   \n",
       "74                4.196984e+09  2015-11-24 03:51:38 +0000   \n",
       "78                5.128045e+08  2017-06-19 17:14:49 +0000   \n",
       "91                4.196984e+09  2017-05-21 16:48:45 +0000   \n",
       "95                4.196984e+09  2017-05-28 17:23:24 +0000   \n",
       "97                4.196984e+09  2017-06-09 16:22:42 +0000   \n",
       "101               1.547674e+08  2017-06-08 03:32:35 +0000   \n",
       "109               4.196984e+09  2017-03-13 00:02:39 +0000   \n",
       "118               4.196984e+09  2017-05-02 00:04:57 +0000   \n",
       "124               4.196984e+09  2017-05-27 19:39:34 +0000   \n",
       "130               7.874618e+17  2017-05-18 01:17:25 +0000   \n",
       "132               4.196984e+09  2017-05-22 00:28:40 +0000   \n",
       "137               4.196984e+09  2017-03-04 00:21:08 +0000   \n",
       "146               4.196984e+09  2017-05-12 16:05:02 +0000   \n",
       "155               4.196984e+09  2016-12-07 22:38:52 +0000   \n",
       "159               4.196984e+09  2017-05-05 18:36:06 +0000   \n",
       "160               3.638908e+08  2017-05-06 17:49:42 +0000   \n",
       "165               4.196984e+09  2016-08-05 21:19:27 +0000   \n",
       "171               4.196984e+09  2017-03-08 18:52:12 +0000   \n",
       "180               5.870972e+07  2017-04-26 02:37:47 +0000   \n",
       "182               4.196984e+09  2017-03-23 00:18:10 +0000   \n",
       "185               6.669901e+07  2017-04-24 02:13:14 +0000   \n",
       "194               4.196984e+09  2017-03-16 00:00:07 +0000   \n",
       "195               7.475543e+17  2017-04-20 18:14:33 +0000   \n",
       "204               4.196984e+09  2017-02-14 23:43:18 +0000   \n",
       "211               4.196984e+09  2017-02-08 17:00:26 +0000   \n",
       "...                        ...                        ...   \n",
       "784               4.196984e+09  2016-06-08 02:41:38 +0000   \n",
       "794               4.196984e+09  2016-09-01 16:14:48 +0000   \n",
       "800               4.196984e+09  2016-08-15 16:22:20 +0000   \n",
       "811               4.196984e+09  2015-12-06 01:56:44 +0000   \n",
       "815               1.732729e+09  2016-08-31 15:10:07 +0000   \n",
       "818               4.196984e+09  2016-06-04 23:31:25 +0000   \n",
       "822               4.196984e+09  2016-06-10 00:39:48 +0000   \n",
       "826               4.196984e+09  2016-03-07 18:09:06 +0000   \n",
       "829               4.196984e+09  2016-02-18 02:24:13 +0000   \n",
       "833               4.196984e+09  2016-06-07 00:36:02 +0000   \n",
       "841               4.196984e+09  2016-08-01 01:28:46 +0000   \n",
       "847               4.196984e+09  2016-04-29 00:21:01 +0000   \n",
       "860               4.196984e+09  2015-12-06 00:17:55 +0000   \n",
       "868               4.196984e+09  2016-01-08 05:00:14 +0000   \n",
       "872               4.196984e+09  2016-03-20 23:23:54 +0000   \n",
       "885               1.950368e+08  2016-08-01 16:42:51 +0000   \n",
       "890               4.196984e+09  2016-06-05 19:47:03 +0000   \n",
       "895               4.196984e+09  2015-11-27 19:11:49 +0000   \n",
       "908               4.196984e+09  2015-12-21 22:15:18 +0000   \n",
       "911               2.804798e+08  2016-07-25 15:23:28 +0000   \n",
       "926               4.196984e+09  2015-12-22 04:35:49 +0000   \n",
       "937               4.196984e+09  2015-12-28 17:12:42 +0000   \n",
       "943               4.196984e+09  2016-01-03 05:11:12 +0000   \n",
       "949               4.196984e+09  2015-12-11 16:40:19 +0000   \n",
       "1012              4.196984e+09  2016-03-01 20:11:59 +0000   \n",
       "1023              4.196984e+09  2015-11-21 00:46:50 +0000   \n",
       "1043              4.196984e+09  2015-11-19 00:32:12 +0000   \n",
       "1242              7.832140e+05  2016-03-21 19:29:52 +0000   \n",
       "2259              4.296832e+09  2015-11-20 03:43:06 +0000   \n",
       "2260              4.296832e+09  2015-11-20 03:41:59 +0000   \n",
       "\n",
       "                                          expanded_urls  rating_numerator  \\\n",
       "19    https://twitter.com/dog_rates/status/887473957...                13   \n",
       "32    https://twitter.com/dog_rates/status/886053434...                12   \n",
       "36    https://twitter.com/dog_rates/status/830583320...                13   \n",
       "68    https://twitter.com/dog_rates/status/878057613...                14   \n",
       "73    https://www.gofundme.com/3yd6y1c,https://twitt...                13   \n",
       "74    https://twitter.com/dog_rates/status/669000397...                11   \n",
       "78    https://twitter.com/rachel2195/status/87685077...                14   \n",
       "91    https://twitter.com/dog_rates/status/866334964...                12   \n",
       "95    https://twitter.com/dog_rates/status/868880397...                14   \n",
       "97    https://www.gofundme.com/help-my-baby-sierra-g...                12   \n",
       "101   https://twitter.com/loganamnosis/status/872657...                14   \n",
       "109   https://twitter.com/dog_rates/status/841077006...                12   \n",
       "118   https://twitter.com/dog_rates/status/859196978...                12   \n",
       "124   https://www.gofundme.com/3ti3nps,https://twitt...                12   \n",
       "130   https://twitter.com/rachaeleasler/status/86501...                13   \n",
       "132   https://twitter.com/dog_rates/status/866450705...                13   \n",
       "137   https://twitter.com/dog_rates/status/837820167...                12   \n",
       "146   https://www.gofundme.com/helpquinny,https://tw...                13   \n",
       "155   https://twitter.com/dog_rates/status/806629075...                13   \n",
       "159   https://www.gofundme.com/help-lorenzo-beat-can...                13   \n",
       "160   https://twitter.com/tallylott/status/860914485...                13   \n",
       "165   https://twitter.com/dog_rates/status/761672994...                10   \n",
       "171   https://twitter.com/dog_rates/status/839549326...                12   \n",
       "180   https://twitter.com/AaronChewning/status/85706...                13   \n",
       "182   https://twitter.com/dog_rates/status/844704788...                13   \n",
       "185                                                 NaN                14   \n",
       "194   https://twitter.com/dog_rates/status/842163532...                12   \n",
       "195   https://twitter.com/frasercampbell_/status/855...                14   \n",
       "204   http://www.gofundme.com/bluethewhitehusky,http...                13   \n",
       "211   https://twitter.com/dog_rates/status/829374341...                13   \n",
       "...                                                 ...               ...   \n",
       "784   https://twitter.com/dog_rates/status/740373189...                 9   \n",
       "794   https://twitter.com/dog_rates/status/771380798...                11   \n",
       "800   https://twitter.com/dog_rates/status/765222098...                10   \n",
       "811   https://twitter.com/dog_rates/status/673320132...                11   \n",
       "815   https://twitter.com/katieornah/status/77100213...                12   \n",
       "818   https://twitter.com/dog_rates/status/739238157...                13   \n",
       "822   https://twitter.com/dog_rates/status/741067306...                12   \n",
       "826   https://vine.co/v/iXQAm5Lrgrh,https://vine.co/...                13   \n",
       "829   https://twitter.com/dog_rates/status/700143752...                10   \n",
       "833   https://twitter.com/dog_rates/status/739979191...                12   \n",
       "841   https://twitter.com/dog_rates/status/759923798...                10   \n",
       "847   https://twitter.com/dog_rates/status/725842289...                12   \n",
       "860   https://twitter.com/dog_rates/status/673295268...                 8   \n",
       "868   https://twitter.com/dog_rates/status/685325112...                10   \n",
       "872   https://twitter.com/dog_rates/status/711694788...                13   \n",
       "885   https://weratedogs.com/pages/about-us,https://...                11   \n",
       "890   https://twitter.com/dog_rates/status/739544079...                10   \n",
       "895   https://twitter.com/dog_rates/status/670319130...                11   \n",
       "908   https://twitter.com/dog_rates/status/679062614...                11   \n",
       "911   https://twitter.com/jon_hill987/status/7575971...                11   \n",
       "926   https://twitter.com/dog_rates/status/679158373...                11   \n",
       "937   https://twitter.com/dog_rates/status/681523177...                12   \n",
       "943   https://vine.co/v/ibvnzrauFuV,https://vine.co/...                11   \n",
       "949   https://twitter.com/dog_rates/status/675354435...                13   \n",
       "1012  https://twitter.com/dog_rates/status/704761120...                13   \n",
       "1023  https://twitter.com/dog_rates/status/667866724...                10   \n",
       "1043  https://twitter.com/dog_rates/status/667138269...                10   \n",
       "1242  https://twitter.com/twitter/status/71199827977...                12   \n",
       "2259  https://twitter.com/dogratingrating/status/667...                12   \n",
       "2260  https://twitter.com/dogratingrating/status/667...                 5   \n",
       "\n",
       "      rating_denominator      name  doggo floofer  pupper puppo  \n",
       "19                    10    Canela   None    None    None  None  \n",
       "32                    10      None   None    None    None  None  \n",
       "36                    10     Lilly   None    None    None  None  \n",
       "68                    10      Emmy   None    None    None  None  \n",
       "73                    10    Shadow   None    None    None  None  \n",
       "74                    10  Terrance   None    None    None  None  \n",
       "78                    10      None   None    None  pupper  None  \n",
       "91                    10      Coco   None    None    None  None  \n",
       "95                    10    Walter   None    None    None  None  \n",
       "97                    10    Sierra   None    None  pupper  None  \n",
       "101                   10      None   None    None    None  None  \n",
       "109                   10      Dawn   None    None    None  None  \n",
       "118                   10     quite   None    None    None  None  \n",
       "124                   10    Cooper   None    None    None  None  \n",
       "130                   10      None   None    None    None  None  \n",
       "132                   10    Jamesy   None    None  pupper  None  \n",
       "137                   10      None   None    None  pupper  None  \n",
       "146                   10     Quinn   None    None    None  None  \n",
       "155                   10      None   None    None    None  None  \n",
       "159                   10   Lorenzo   None    None    None  None  \n",
       "160                   10      None   None    None    None  None  \n",
       "165                   10      None   None    None    None  None  \n",
       "171                   10   Winston   None    None    None  None  \n",
       "180                   10      None   None    None    None  None  \n",
       "182                   10      Luna   None    None    None  None  \n",
       "185                   10      None   None    None    None  None  \n",
       "194                   10    George   None    None    None  None  \n",
       "195                   10      None   None    None    None  None  \n",
       "204                   10      None   None    None    None  None  \n",
       "211                   10    Astrid  doggo    None    None  None  \n",
       "...                  ...       ...    ...     ...     ...   ...  \n",
       "784                   11      None   None    None    None  None  \n",
       "794                   10      Fizz   None    None    None  None  \n",
       "800                   10    Gromit   None    None    None  None  \n",
       "811                   10   Frankie   None    None    None  None  \n",
       "815                   10      None   None    None  pupper  None  \n",
       "818                   10      None  doggo    None    None  None  \n",
       "822                   10      just  doggo    None  pupper  None  \n",
       "826                   10      None   None    None    None  None  \n",
       "829                   10      None   None    None  pupper  None  \n",
       "833                   10    Nollie   None    None    None  None  \n",
       "841                   10      None   None    None    None  None  \n",
       "847                   10     Colby   None    None    None  None  \n",
       "860                   10       Eve   None    None  pupper  None  \n",
       "868                   10      None   None    None    None  None  \n",
       "872                   10      None   None    None    None  None  \n",
       "885                   10      None   None    None    None  None  \n",
       "890                   10      None   None    None    None  None  \n",
       "895                   10      None   None    None    None  None  \n",
       "908                   10  Chompsky   None    None    None  None  \n",
       "911                   10      None   None    None  pupper  None  \n",
       "926                   10     Rubio   None    None    None  None  \n",
       "937                   10     Carly   None    None    None  None  \n",
       "943                   10      None   None    None    None  None  \n",
       "949                   10      None   None    None    None  None  \n",
       "1012                  10      None   None    None  pupper  None  \n",
       "1023                  10    Shaggy   None    None    None  None  \n",
       "1043                  10      None   None    None    None  None  \n",
       "1242                  10      None   None    None    None  None  \n",
       "2259                  10      None   None    None    None  None  \n",
       "2260                  10      None   None    None    None  None  \n",
       "\n",
       "[181 rows x 17 columns]"
      ]
     },
     "execution_count": 168,
     "metadata": {},
     "output_type": "execute_result"
    }
   ],
   "source": [
    "# Check for retweets\n",
    "df_archive.loc[df_archive[\"retweeted_status_id\"].notnull()]"
   ]
  },
  {
   "cell_type": "code",
   "execution_count": 169,
   "metadata": {},
   "outputs": [
    {
     "data": {
      "text/plain": [
       "25"
      ]
     },
     "execution_count": 169,
     "metadata": {},
     "output_type": "execute_result"
    }
   ],
   "source": [
    "# Checks if there are any tweets that cannot be queried\n",
    "df_archive.loc[df_archive['tweet_id'].isin(tweet_deleted)].shape[0]"
   ]
  },
  {
   "cell_type": "code",
   "execution_count": 170,
   "metadata": {},
   "outputs": [
    {
     "data": {
      "text/plain": [
       "297"
      ]
     },
     "execution_count": 170,
     "metadata": {},
     "output_type": "execute_result"
    }
   ],
   "source": [
    "# Checks which tweet id isn't analyzed with image classification (df_image) dataset\n",
    "df_archive.loc[-df_archive['tweet_id'].isin(df_image.tweet_id)].shape[0]"
   ]
  },
  {
   "cell_type": "code",
   "execution_count": 171,
   "metadata": {},
   "outputs": [
    {
     "data": {
      "text/plain": [
       "array([  13,   12,   14,    5,   17,   11,   10,  420,  666,    6,   15,\n",
       "        182,  960,    0,   75,    7,   84,    9,   24,    8,    1,   27,\n",
       "          3,    4,  165, 1776,  204,   50,   99,   80,   45,   60,   44,\n",
       "        143,  121,   20,   26,    2,  144,   88])"
      ]
     },
     "execution_count": 171,
     "metadata": {},
     "output_type": "execute_result"
    }
   ],
   "source": [
    "# Checks for all unique value in interesting columns\n",
    "df_archive.rating_numerator.unique()"
   ]
  },
  {
   "cell_type": "code",
   "execution_count": 172,
   "metadata": {},
   "outputs": [
    {
     "data": {
      "text/plain": [
       "array([ 10,   0,  15,  70,   7,  11, 150, 170,  20,  50,  90,  80,  40,\n",
       "       130, 110,  16, 120,   2])"
      ]
     },
     "execution_count": 172,
     "metadata": {},
     "output_type": "execute_result"
    }
   ],
   "source": [
    "df_archive.rating_denominator.unique()"
   ]
  },
  {
   "cell_type": "code",
   "execution_count": 173,
   "metadata": {},
   "outputs": [
    {
     "data": {
      "text/html": [
       "<div>\n",
       "<style scoped>\n",
       "    .dataframe tbody tr th:only-of-type {\n",
       "        vertical-align: middle;\n",
       "    }\n",
       "\n",
       "    .dataframe tbody tr th {\n",
       "        vertical-align: top;\n",
       "    }\n",
       "\n",
       "    .dataframe thead th {\n",
       "        text-align: right;\n",
       "    }\n",
       "</style>\n",
       "<table border=\"1\" class=\"dataframe\">\n",
       "  <thead>\n",
       "    <tr style=\"text-align: right;\">\n",
       "      <th></th>\n",
       "      <th>rating_numerator</th>\n",
       "      <th>rating_denominator</th>\n",
       "    </tr>\n",
       "  </thead>\n",
       "  <tbody>\n",
       "    <tr>\n",
       "      <th>count</th>\n",
       "      <td>2356.000000</td>\n",
       "      <td>2356.000000</td>\n",
       "    </tr>\n",
       "    <tr>\n",
       "      <th>mean</th>\n",
       "      <td>13.126486</td>\n",
       "      <td>10.455433</td>\n",
       "    </tr>\n",
       "    <tr>\n",
       "      <th>std</th>\n",
       "      <td>45.876648</td>\n",
       "      <td>6.745237</td>\n",
       "    </tr>\n",
       "    <tr>\n",
       "      <th>min</th>\n",
       "      <td>0.000000</td>\n",
       "      <td>0.000000</td>\n",
       "    </tr>\n",
       "    <tr>\n",
       "      <th>25%</th>\n",
       "      <td>10.000000</td>\n",
       "      <td>10.000000</td>\n",
       "    </tr>\n",
       "    <tr>\n",
       "      <th>50%</th>\n",
       "      <td>11.000000</td>\n",
       "      <td>10.000000</td>\n",
       "    </tr>\n",
       "    <tr>\n",
       "      <th>75%</th>\n",
       "      <td>12.000000</td>\n",
       "      <td>10.000000</td>\n",
       "    </tr>\n",
       "    <tr>\n",
       "      <th>max</th>\n",
       "      <td>1776.000000</td>\n",
       "      <td>170.000000</td>\n",
       "    </tr>\n",
       "  </tbody>\n",
       "</table>\n",
       "</div>"
      ],
      "text/plain": [
       "       rating_numerator  rating_denominator\n",
       "count       2356.000000         2356.000000\n",
       "mean          13.126486           10.455433\n",
       "std           45.876648            6.745237\n",
       "min            0.000000            0.000000\n",
       "25%           10.000000           10.000000\n",
       "50%           11.000000           10.000000\n",
       "75%           12.000000           10.000000\n",
       "max         1776.000000          170.000000"
      ]
     },
     "execution_count": 173,
     "metadata": {},
     "output_type": "execute_result"
    }
   ],
   "source": [
    "# Describe the dataset\n",
    "df_archive[[\"rating_numerator\", \"rating_denominator\"]].describe()"
   ]
  },
  {
   "cell_type": "markdown",
   "metadata": {},
   "source": [
    "### Basic checking for df_image"
   ]
  },
  {
   "cell_type": "code",
   "execution_count": 174,
   "metadata": {},
   "outputs": [
    {
     "data": {
      "text/html": [
       "<div>\n",
       "<style scoped>\n",
       "    .dataframe tbody tr th:only-of-type {\n",
       "        vertical-align: middle;\n",
       "    }\n",
       "\n",
       "    .dataframe tbody tr th {\n",
       "        vertical-align: top;\n",
       "    }\n",
       "\n",
       "    .dataframe thead th {\n",
       "        text-align: right;\n",
       "    }\n",
       "</style>\n",
       "<table border=\"1\" class=\"dataframe\">\n",
       "  <thead>\n",
       "    <tr style=\"text-align: right;\">\n",
       "      <th></th>\n",
       "      <th>tweet_id</th>\n",
       "      <th>jpg_url</th>\n",
       "      <th>img_num</th>\n",
       "      <th>p1</th>\n",
       "      <th>p1_conf</th>\n",
       "      <th>p1_dog</th>\n",
       "      <th>p2</th>\n",
       "      <th>p2_conf</th>\n",
       "      <th>p2_dog</th>\n",
       "      <th>p3</th>\n",
       "      <th>p3_conf</th>\n",
       "      <th>p3_dog</th>\n",
       "    </tr>\n",
       "  </thead>\n",
       "  <tbody>\n",
       "    <tr>\n",
       "      <th>0</th>\n",
       "      <td>666020888022790149</td>\n",
       "      <td>https://pbs.twimg.com/media/CT4udn0WwAA0aMy.jpg</td>\n",
       "      <td>1</td>\n",
       "      <td>Welsh_springer_spaniel</td>\n",
       "      <td>0.465074</td>\n",
       "      <td>True</td>\n",
       "      <td>collie</td>\n",
       "      <td>0.156665</td>\n",
       "      <td>True</td>\n",
       "      <td>Shetland_sheepdog</td>\n",
       "      <td>0.061428</td>\n",
       "      <td>True</td>\n",
       "    </tr>\n",
       "    <tr>\n",
       "      <th>1</th>\n",
       "      <td>666029285002620928</td>\n",
       "      <td>https://pbs.twimg.com/media/CT42GRgUYAA5iDo.jpg</td>\n",
       "      <td>1</td>\n",
       "      <td>redbone</td>\n",
       "      <td>0.506826</td>\n",
       "      <td>True</td>\n",
       "      <td>miniature_pinscher</td>\n",
       "      <td>0.074192</td>\n",
       "      <td>True</td>\n",
       "      <td>Rhodesian_ridgeback</td>\n",
       "      <td>0.072010</td>\n",
       "      <td>True</td>\n",
       "    </tr>\n",
       "  </tbody>\n",
       "</table>\n",
       "</div>"
      ],
      "text/plain": [
       "             tweet_id                                          jpg_url  \\\n",
       "0  666020888022790149  https://pbs.twimg.com/media/CT4udn0WwAA0aMy.jpg   \n",
       "1  666029285002620928  https://pbs.twimg.com/media/CT42GRgUYAA5iDo.jpg   \n",
       "\n",
       "   img_num                      p1   p1_conf  p1_dog                  p2  \\\n",
       "0        1  Welsh_springer_spaniel  0.465074    True              collie   \n",
       "1        1                 redbone  0.506826    True  miniature_pinscher   \n",
       "\n",
       "    p2_conf  p2_dog                   p3   p3_conf  p3_dog  \n",
       "0  0.156665    True    Shetland_sheepdog  0.061428    True  \n",
       "1  0.074192    True  Rhodesian_ridgeback  0.072010    True  "
      ]
     },
     "execution_count": 174,
     "metadata": {},
     "output_type": "execute_result"
    }
   ],
   "source": [
    "# Prints out the dataset\n",
    "df_image.head(2)"
   ]
  },
  {
   "cell_type": "code",
   "execution_count": 175,
   "metadata": {},
   "outputs": [
    {
     "data": {
      "text/plain": [
       "1    1767\n",
       "2     195\n",
       "3      66\n",
       "4      31\n",
       "Name: img_num, dtype: int64"
      ]
     },
     "execution_count": 175,
     "metadata": {},
     "output_type": "execute_result"
    }
   ],
   "source": [
    "df_image.img_num.value_counts()"
   ]
  },
  {
   "cell_type": "markdown",
   "metadata": {},
   "source": [
    "<b>Defining the definition of each column</b> \n",
    "\n",
    "- **tweet_id** : Identifiy the id of a tweet\n",
    "- **jpg_url** : Image URL \n",
    "- **img_num** : Categorizes the image, since there is 4 type, the value ranges from ranges from 1-4\n",
    "- **p1**, **p2**, \"**p3** : Algorithm Prediction\n",
    "- **p1_conf**, **p2_conf**, **p3_conf** : Confidence level of the algrotihm\n",
    "- **p1_dog**, **p2_dog**, **p4_dog** : Checks whether or not the the prediction is a breed of dog"
   ]
  },
  {
   "cell_type": "code",
   "execution_count": 176,
   "metadata": {},
   "outputs": [
    {
     "name": "stdout",
     "output_type": "stream",
     "text": [
      "<class 'pandas.core.frame.DataFrame'>\n",
      "Int64Index: 2059 entries, 0 to 2074\n",
      "Data columns (total 12 columns):\n",
      "tweet_id    2059 non-null object\n",
      "jpg_url     2059 non-null object\n",
      "img_num     2059 non-null int64\n",
      "p1          2059 non-null object\n",
      "p1_conf     2059 non-null float64\n",
      "p1_dog      2059 non-null bool\n",
      "p2          2059 non-null object\n",
      "p2_conf     2059 non-null float64\n",
      "p2_dog      2059 non-null bool\n",
      "p3          2059 non-null object\n",
      "p3_conf     2059 non-null float64\n",
      "p3_dog      2059 non-null bool\n",
      "dtypes: bool(3), float64(3), int64(1), object(5)\n",
      "memory usage: 166.9+ KB\n"
     ]
    }
   ],
   "source": [
    "# Check out the dataset\n",
    "df_image.info()"
   ]
  },
  {
   "cell_type": "code",
   "execution_count": 177,
   "metadata": {},
   "outputs": [
    {
     "data": {
      "text/plain": [
       "tweet_id     object\n",
       "jpg_url      object\n",
       "img_num       int64\n",
       "p1           object\n",
       "p1_conf     float64\n",
       "p1_dog         bool\n",
       "p2           object\n",
       "p2_conf     float64\n",
       "p2_dog         bool\n",
       "p3           object\n",
       "p3_conf     float64\n",
       "p3_dog         bool\n",
       "dtype: object"
      ]
     },
     "execution_count": 177,
     "metadata": {},
     "output_type": "execute_result"
    }
   ],
   "source": [
    "# Check out datatype\n",
    "df_image.dtypes"
   ]
  },
  {
   "cell_type": "code",
   "execution_count": 178,
   "metadata": {},
   "outputs": [
    {
     "data": {
      "text/html": [
       "<div>\n",
       "<style scoped>\n",
       "    .dataframe tbody tr th:only-of-type {\n",
       "        vertical-align: middle;\n",
       "    }\n",
       "\n",
       "    .dataframe tbody tr th {\n",
       "        vertical-align: top;\n",
       "    }\n",
       "\n",
       "    .dataframe thead th {\n",
       "        text-align: right;\n",
       "    }\n",
       "</style>\n",
       "<table border=\"1\" class=\"dataframe\">\n",
       "  <thead>\n",
       "    <tr style=\"text-align: right;\">\n",
       "      <th></th>\n",
       "      <th>tweet_id</th>\n",
       "      <th>jpg_url</th>\n",
       "      <th>img_num</th>\n",
       "      <th>p1</th>\n",
       "      <th>p1_conf</th>\n",
       "      <th>p1_dog</th>\n",
       "      <th>p2</th>\n",
       "      <th>p2_conf</th>\n",
       "      <th>p2_dog</th>\n",
       "      <th>p3</th>\n",
       "      <th>p3_conf</th>\n",
       "      <th>p3_dog</th>\n",
       "    </tr>\n",
       "  </thead>\n",
       "  <tbody>\n",
       "  </tbody>\n",
       "</table>\n",
       "</div>"
      ],
      "text/plain": [
       "Empty DataFrame\n",
       "Columns: [tweet_id, jpg_url, img_num, p1, p1_conf, p1_dog, p2, p2_conf, p2_dog, p3, p3_conf, p3_dog]\n",
       "Index: []"
      ]
     },
     "execution_count": 178,
     "metadata": {},
     "output_type": "execute_result"
    }
   ],
   "source": [
    "# Checks for duplicated\n",
    "df_image[df_image.duplicated()]"
   ]
  },
  {
   "cell_type": "markdown",
   "metadata": {},
   "source": [
    "### Basic checking for df_json"
   ]
  },
  {
   "cell_type": "code",
   "execution_count": 179,
   "metadata": {},
   "outputs": [
    {
     "data": {
      "text/html": [
       "<div>\n",
       "<style scoped>\n",
       "    .dataframe tbody tr th:only-of-type {\n",
       "        vertical-align: middle;\n",
       "    }\n",
       "\n",
       "    .dataframe tbody tr th {\n",
       "        vertical-align: top;\n",
       "    }\n",
       "\n",
       "    .dataframe thead th {\n",
       "        text-align: right;\n",
       "    }\n",
       "</style>\n",
       "<table border=\"1\" class=\"dataframe\">\n",
       "  <thead>\n",
       "    <tr style=\"text-align: right;\">\n",
       "      <th></th>\n",
       "      <th>contributors</th>\n",
       "      <th>coordinates</th>\n",
       "      <th>created_at</th>\n",
       "      <th>display_text_range</th>\n",
       "      <th>entities</th>\n",
       "      <th>extended_entities</th>\n",
       "      <th>favorite_count</th>\n",
       "      <th>favorited</th>\n",
       "      <th>full_text</th>\n",
       "      <th>geo</th>\n",
       "      <th>...</th>\n",
       "      <th>quoted_status_id</th>\n",
       "      <th>quoted_status_id_str</th>\n",
       "      <th>quoted_status_permalink</th>\n",
       "      <th>retweet_count</th>\n",
       "      <th>retweeted</th>\n",
       "      <th>retweeted_status</th>\n",
       "      <th>source</th>\n",
       "      <th>truncated</th>\n",
       "      <th>user</th>\n",
       "      <th>tweet_id</th>\n",
       "    </tr>\n",
       "  </thead>\n",
       "  <tbody>\n",
       "    <tr>\n",
       "      <th>0</th>\n",
       "      <td>NaN</td>\n",
       "      <td>NaN</td>\n",
       "      <td>2017-08-01 16:23:56</td>\n",
       "      <td>[0, 85]</td>\n",
       "      <td>{'hashtags': [], 'symbols': [], 'user_mentions...</td>\n",
       "      <td>{'media': [{'id': 892420639486877696, 'id_str'...</td>\n",
       "      <td>36531</td>\n",
       "      <td>False</td>\n",
       "      <td>This is Phineas. He's a mystical boy. Only eve...</td>\n",
       "      <td>NaN</td>\n",
       "      <td>...</td>\n",
       "      <td>NaN</td>\n",
       "      <td>NaN</td>\n",
       "      <td>NaN</td>\n",
       "      <td>7774</td>\n",
       "      <td>False</td>\n",
       "      <td>NaN</td>\n",
       "      <td>&lt;a href=\"http://twitter.com/download/iphone\" r...</td>\n",
       "      <td>False</td>\n",
       "      <td>{'id': 4196983835, 'id_str': '4196983835', 'na...</td>\n",
       "      <td>892420643555336193</td>\n",
       "    </tr>\n",
       "    <tr>\n",
       "      <th>1</th>\n",
       "      <td>NaN</td>\n",
       "      <td>NaN</td>\n",
       "      <td>2017-08-01 00:17:27</td>\n",
       "      <td>[0, 138]</td>\n",
       "      <td>{'hashtags': [], 'symbols': [], 'user_mentions...</td>\n",
       "      <td>{'media': [{'id': 892177413194625024, 'id_str'...</td>\n",
       "      <td>31474</td>\n",
       "      <td>False</td>\n",
       "      <td>This is Tilly. She's just checking pup on you....</td>\n",
       "      <td>NaN</td>\n",
       "      <td>...</td>\n",
       "      <td>NaN</td>\n",
       "      <td>NaN</td>\n",
       "      <td>NaN</td>\n",
       "      <td>5762</td>\n",
       "      <td>False</td>\n",
       "      <td>NaN</td>\n",
       "      <td>&lt;a href=\"http://twitter.com/download/iphone\" r...</td>\n",
       "      <td>False</td>\n",
       "      <td>{'id': 4196983835, 'id_str': '4196983835', 'na...</td>\n",
       "      <td>892177421306343426</td>\n",
       "    </tr>\n",
       "  </tbody>\n",
       "</table>\n",
       "<p>2 rows × 33 columns</p>\n",
       "</div>"
      ],
      "text/plain": [
       "   contributors  coordinates          created_at display_text_range  \\\n",
       "0           NaN          NaN 2017-08-01 16:23:56            [0, 85]   \n",
       "1           NaN          NaN 2017-08-01 00:17:27           [0, 138]   \n",
       "\n",
       "                                            entities  \\\n",
       "0  {'hashtags': [], 'symbols': [], 'user_mentions...   \n",
       "1  {'hashtags': [], 'symbols': [], 'user_mentions...   \n",
       "\n",
       "                                   extended_entities  favorite_count  \\\n",
       "0  {'media': [{'id': 892420639486877696, 'id_str'...           36531   \n",
       "1  {'media': [{'id': 892177413194625024, 'id_str'...           31474   \n",
       "\n",
       "   favorited                                          full_text  geo  \\\n",
       "0      False  This is Phineas. He's a mystical boy. Only eve...  NaN   \n",
       "1      False  This is Tilly. She's just checking pup on you....  NaN   \n",
       "\n",
       "          ...          quoted_status_id  quoted_status_id_str  \\\n",
       "0         ...                       NaN                   NaN   \n",
       "1         ...                       NaN                   NaN   \n",
       "\n",
       "  quoted_status_permalink  retweet_count  retweeted  retweeted_status  \\\n",
       "0                     NaN           7774      False               NaN   \n",
       "1                     NaN           5762      False               NaN   \n",
       "\n",
       "                                              source  truncated  \\\n",
       "0  <a href=\"http://twitter.com/download/iphone\" r...      False   \n",
       "1  <a href=\"http://twitter.com/download/iphone\" r...      False   \n",
       "\n",
       "                                                user            tweet_id  \n",
       "0  {'id': 4196983835, 'id_str': '4196983835', 'na...  892420643555336193  \n",
       "1  {'id': 4196983835, 'id_str': '4196983835', 'na...  892177421306343426  \n",
       "\n",
       "[2 rows x 33 columns]"
      ]
     },
     "execution_count": 179,
     "metadata": {},
     "output_type": "execute_result"
    }
   ],
   "source": [
    "df_json.head(2)"
   ]
  },
  {
   "cell_type": "markdown",
   "metadata": {},
   "source": [
    "<b>Defining the definition of each column</b> \n",
    "\n",
    "- **contributors** : Identifiy the id of a tweet\n",
    "- **coordinates** : Represents the geographic location of this Tweet as reported by the user or client application\n",
    "- **created_at** : UTC time when this Tweet was created\n",
    "- **display_text_range** : Number of characters displayed\n",
    "- **entities** : Entities which have been parsed out of the text of the Tweet\n",
    "- **extended_entities** : When between one and four native photos or one video or one animated GIF are in Tweet, contains an array 'media' metadata\n",
    "- **favorite_count** : Number of favourited\n",
    "- **favorited** : Did user API accoutn favorited the tweet\n",
    "- **full_text** : The text of the tweet\n",
    "- **geo** : (depreciated attribute)\n",
    "- **quoted_status** : This field only surfaces when the Tweet is a quote Tweet. This field contains the integer value Tweet ID of the quoted Tweet\n",
    "- **quoted_status_id** : This field only surfaces when the Tweet is a quote Tweet. This field contains the integer value Tweet ID of the quoted Tweet\n",
    "- **quoted_status_id_str** : This field only surfaces when the Tweet is a quote Tweet. This is the string representation Tweet ID of the quoted Tweet\n",
    "- **quoted_status_permalink** : Link to quote tweet\n",
    "- **retweet_count** : Retweet count\n",
    "- **retweeted** : Did user API accoutn retweeted the tweet\n",
    "- **source** : Utility used to post the Tweet, as an HTML-formatted string\n",
    "- **truncated** : Indicates whether the value of the text parameter was truncated\n",
    "- **user** : User\n"
   ]
  },
  {
   "cell_type": "code",
   "execution_count": 180,
   "metadata": {},
   "outputs": [
    {
     "name": "stdout",
     "output_type": "stream",
     "text": [
      "<class 'pandas.core.frame.DataFrame'>\n",
      "RangeIndex: 2331 entries, 0 to 2330\n",
      "Data columns (total 33 columns):\n",
      "contributors                     0 non-null float64\n",
      "coordinates                      0 non-null float64\n",
      "created_at                       2331 non-null datetime64[ns]\n",
      "display_text_range               2331 non-null object\n",
      "entities                         2331 non-null object\n",
      "extended_entities                2059 non-null object\n",
      "favorite_count                   2331 non-null int64\n",
      "favorited                        2331 non-null bool\n",
      "full_text                        2331 non-null object\n",
      "geo                              0 non-null float64\n",
      "id                               2331 non-null int64\n",
      "id_str                           2331 non-null int64\n",
      "in_reply_to_screen_name          77 non-null object\n",
      "in_reply_to_status_id            77 non-null float64\n",
      "in_reply_to_status_id_str        77 non-null float64\n",
      "in_reply_to_user_id              77 non-null float64\n",
      "in_reply_to_user_id_str          77 non-null float64\n",
      "is_quote_status                  2331 non-null bool\n",
      "lang                             2331 non-null object\n",
      "place                            1 non-null object\n",
      "possibly_sensitive               2197 non-null float64\n",
      "possibly_sensitive_appealable    2197 non-null float64\n",
      "quoted_status                    24 non-null object\n",
      "quoted_status_id                 26 non-null float64\n",
      "quoted_status_id_str             26 non-null float64\n",
      "quoted_status_permalink          26 non-null object\n",
      "retweet_count                    2331 non-null int64\n",
      "retweeted                        2331 non-null bool\n",
      "retweeted_status                 163 non-null object\n",
      "source                           2331 non-null object\n",
      "truncated                        2331 non-null bool\n",
      "user                             2331 non-null object\n",
      "tweet_id                         2331 non-null object\n",
      "dtypes: bool(4), datetime64[ns](1), float64(11), int64(4), object(13)\n",
      "memory usage: 537.3+ KB\n"
     ]
    }
   ],
   "source": [
    "# Check out the dataset\n",
    "df_json.info()"
   ]
  },
  {
   "cell_type": "code",
   "execution_count": 181,
   "metadata": {},
   "outputs": [
    {
     "data": {
      "text/plain": [
       "tweet_id     object\n",
       "jpg_url      object\n",
       "img_num       int64\n",
       "p1           object\n",
       "p1_conf     float64\n",
       "p1_dog         bool\n",
       "p2           object\n",
       "p2_conf     float64\n",
       "p2_dog         bool\n",
       "p3           object\n",
       "p3_conf     float64\n",
       "p3_dog         bool\n",
       "dtype: object"
      ]
     },
     "execution_count": 181,
     "metadata": {},
     "output_type": "execute_result"
    }
   ],
   "source": [
    "# Check out datatype\n",
    "df_image.dtypes"
   ]
  },
  {
   "cell_type": "code",
   "execution_count": 182,
   "metadata": {},
   "outputs": [
    {
     "data": {
      "text/html": [
       "<div>\n",
       "<style scoped>\n",
       "    .dataframe tbody tr th:only-of-type {\n",
       "        vertical-align: middle;\n",
       "    }\n",
       "\n",
       "    .dataframe tbody tr th {\n",
       "        vertical-align: top;\n",
       "    }\n",
       "\n",
       "    .dataframe thead th {\n",
       "        text-align: right;\n",
       "    }\n",
       "</style>\n",
       "<table border=\"1\" class=\"dataframe\">\n",
       "  <thead>\n",
       "    <tr style=\"text-align: right;\">\n",
       "      <th></th>\n",
       "      <th>contributors</th>\n",
       "      <th>coordinates</th>\n",
       "      <th>created_at</th>\n",
       "      <th>display_text_range</th>\n",
       "      <th>entities</th>\n",
       "      <th>extended_entities</th>\n",
       "      <th>favorite_count</th>\n",
       "      <th>favorited</th>\n",
       "      <th>full_text</th>\n",
       "      <th>geo</th>\n",
       "      <th>...</th>\n",
       "      <th>quoted_status_id</th>\n",
       "      <th>quoted_status_id_str</th>\n",
       "      <th>quoted_status_permalink</th>\n",
       "      <th>retweet_count</th>\n",
       "      <th>retweeted</th>\n",
       "      <th>retweeted_status</th>\n",
       "      <th>source</th>\n",
       "      <th>truncated</th>\n",
       "      <th>user</th>\n",
       "      <th>tweet_id</th>\n",
       "    </tr>\n",
       "  </thead>\n",
       "  <tbody>\n",
       "  </tbody>\n",
       "</table>\n",
       "<p>0 rows × 33 columns</p>\n",
       "</div>"
      ],
      "text/plain": [
       "Empty DataFrame\n",
       "Columns: [contributors, coordinates, created_at, display_text_range, entities, extended_entities, favorite_count, favorited, full_text, geo, id, id_str, in_reply_to_screen_name, in_reply_to_status_id, in_reply_to_status_id_str, in_reply_to_user_id, in_reply_to_user_id_str, is_quote_status, lang, place, possibly_sensitive, possibly_sensitive_appealable, quoted_status, quoted_status_id, quoted_status_id_str, quoted_status_permalink, retweet_count, retweeted, retweeted_status, source, truncated, user, tweet_id]\n",
       "Index: []\n",
       "\n",
       "[0 rows x 33 columns]"
      ]
     },
     "execution_count": 182,
     "metadata": {},
     "output_type": "execute_result"
    }
   ],
   "source": [
    "# Checks for duplicated\n",
    "df_json[df_json.tweet_id.duplicated()]"
   ]
  },
  {
   "cell_type": "markdown",
   "metadata": {},
   "source": [
    "## Key Task\n",
    "Since the main analysis will be done through df_archive, we will be analyzing df_archive table data quality and tidiness. We will then further add more columns from the other data that we think is necessary for the analysis.\n",
    "\n",
    "#### Quality issues:\n",
    "1. Incorrect datatypes (tweet_id, in_reply_to_status_id, in_reply_to_user_id and timestamp columns)\n",
    "2. Missing data as tweet_id(s) in df_archive and df_image are not queried \n",
    "3. HTML tags in df_archive sources\n",
    "4. Text in df.text is contains link\n",
    "5. Problems with numerator rating (numerator has absurldly large vale 1000+)\n",
    "6. Problems with denominator rating (Rating denominator has incosistent value 10, some even 0)\n",
    "7. Bad dog naming (lowercase)\n",
    "9. Several records have more than one dog stage\n",
    "\n",
    "\n",
    "#### Tidy Principle\n",
    "9. No duplicates (retweet exist (which means that they are duplicated))\n",
    "10. Dog stage(doggo, etc) should be in 1 column\n",
    "\n",
    "**(Join other Columns)**\n",
    "- Add breed prediction (p1 & p1_conf)\n",
    "- retweet_count and favorite_count columns from status_df (tweet status),\n",
    "\n",
    "**Note** : Some other issue in the other dataset\n",
    "- Empty values in df_json for columns such as contributors, coordinates, etc (Privacy issue?)"
   ]
  },
  {
   "cell_type": "markdown",
   "metadata": {},
   "source": [
    "# Clean The Data"
   ]
  },
  {
   "cell_type": "code",
   "execution_count": 696,
   "metadata": {},
   "outputs": [],
   "source": [
    "# Create a copy \n",
    "df = df_archive.copy()\n",
    "df_img = df_image.copy()\n",
    "df_json2 = df_json.copy()"
   ]
  },
  {
   "cell_type": "markdown",
   "metadata": {},
   "source": [
    "## Quality Issues"
   ]
  },
  {
   "cell_type": "markdown",
   "metadata": {},
   "source": [
    "#### 1. Correcting datatypes"
   ]
  },
  {
   "cell_type": "markdown",
   "metadata": {},
   "source": [
    "#### CODE"
   ]
  },
  {
   "cell_type": "code",
   "execution_count": 627,
   "metadata": {},
   "outputs": [],
   "source": [
    "# Incorrect datatypes (tweet_id, in_reply_to_status_id, in_reply_to_user_id and timestamp columns)\n",
    "## Fill empty columns\n",
    "df.in_reply_to_status_id = df.in_reply_to_status_id.fillna(0).astype(np.int64)\n",
    "df.in_reply_to_user_id = df.in_reply_to_user_id.fillna(0).astype(np.int64)\n",
    "\n",
    "## Change timestamp\n",
    "df.timestamp = pd.to_datetime(df.timestamp)\n",
    "\n",
    "## Change datatype\n",
    "df.tweet_id = df.tweet_id.astype(str)\n",
    "df.in_reply_to_status_id = df.in_reply_to_status_id.astype(str)\n",
    "df.in_reply_to_user_id = df.in_reply_to_user_id.astype(str)\n",
    "df.retweeted_status_id = df.retweeted_status_id.astype(str)\n",
    "df.retweeted_status_user_id = df.retweeted_status_user_id.astype(str)\n",
    "\n",
    "df.rating_numerator = df.rating_numerator.astype(int)"
   ]
  },
  {
   "cell_type": "markdown",
   "metadata": {},
   "source": [
    "#### TEST"
   ]
  },
  {
   "cell_type": "code",
   "execution_count": 628,
   "metadata": {},
   "outputs": [
    {
     "data": {
      "text/plain": [
       "tweet_id                              object\n",
       "in_reply_to_status_id                 object\n",
       "in_reply_to_user_id                   object\n",
       "timestamp                     datetime64[ns]\n",
       "source                                object\n",
       "text                                  object\n",
       "retweeted_status_id                   object\n",
       "retweeted_status_user_id              object\n",
       "retweeted_status_timestamp            object\n",
       "expanded_urls                         object\n",
       "rating_numerator                       int64\n",
       "rating_denominator                     int64\n",
       "name                                  object\n",
       "doggo                                 object\n",
       "floofer                               object\n",
       "pupper                                object\n",
       "puppo                                 object\n",
       "dtype: object"
      ]
     },
     "execution_count": 628,
     "metadata": {},
     "output_type": "execute_result"
    }
   ],
   "source": [
    "### CHECKING\n",
    "df.dtypes"
   ]
  },
  {
   "cell_type": "markdown",
   "metadata": {},
   "source": [
    "#### 2. Removing Missing Data"
   ]
  },
  {
   "cell_type": "markdown",
   "metadata": {},
   "source": [
    "#### CODE"
   ]
  },
  {
   "cell_type": "code",
   "execution_count": 629,
   "metadata": {},
   "outputs": [],
   "source": [
    "# Missing data as tweet_id(s) in df_archive and df_image are not queried\n",
    "## Remove missing rows in df\n",
    "df = df[df.tweet_id.isin([str(i) for i in tweet_exist])]\n",
    "## Remove missing rows in df_image\n",
    "df_image = df_image[df_image.tweet_id.isin([str(i) for i in tweet_exist])]"
   ]
  },
  {
   "cell_type": "markdown",
   "metadata": {},
   "source": [
    "#### TEST"
   ]
  },
  {
   "cell_type": "code",
   "execution_count": 670,
   "metadata": {},
   "outputs": [
    {
     "data": {
      "text/html": [
       "<div>\n",
       "<style scoped>\n",
       "    .dataframe tbody tr th:only-of-type {\n",
       "        vertical-align: middle;\n",
       "    }\n",
       "\n",
       "    .dataframe tbody tr th {\n",
       "        vertical-align: top;\n",
       "    }\n",
       "\n",
       "    .dataframe thead th {\n",
       "        text-align: right;\n",
       "    }\n",
       "</style>\n",
       "<table border=\"1\" class=\"dataframe\">\n",
       "  <thead>\n",
       "    <tr style=\"text-align: right;\">\n",
       "      <th></th>\n",
       "      <th>tweet_id</th>\n",
       "      <th>in_reply_to_status_id</th>\n",
       "      <th>in_reply_to_user_id</th>\n",
       "      <th>timestamp</th>\n",
       "      <th>source</th>\n",
       "      <th>text</th>\n",
       "      <th>expanded_urls</th>\n",
       "      <th>rating_numerator</th>\n",
       "      <th>rating_denominator</th>\n",
       "      <th>name</th>\n",
       "      <th>doggo</th>\n",
       "      <th>floofer</th>\n",
       "      <th>pupper</th>\n",
       "      <th>puppo</th>\n",
       "      <th>display_text_range</th>\n",
       "      <th>stages</th>\n",
       "    </tr>\n",
       "  </thead>\n",
       "  <tbody>\n",
       "  </tbody>\n",
       "</table>\n",
       "</div>"
      ],
      "text/plain": [
       "Empty DataFrame\n",
       "Columns: [tweet_id, in_reply_to_status_id, in_reply_to_user_id, timestamp, source, text, expanded_urls, rating_numerator, rating_denominator, name, doggo, floofer, pupper, puppo, display_text_range, stages]\n",
       "Index: []"
      ]
     },
     "execution_count": 670,
     "metadata": {},
     "output_type": "execute_result"
    }
   ],
   "source": [
    "### CHECKING\n",
    "df[~df.tweet_id.isin([str(i) for i in tweet_exist])]"
   ]
  },
  {
   "cell_type": "code",
   "execution_count": 671,
   "metadata": {},
   "outputs": [
    {
     "data": {
      "text/html": [
       "<div>\n",
       "<style scoped>\n",
       "    .dataframe tbody tr th:only-of-type {\n",
       "        vertical-align: middle;\n",
       "    }\n",
       "\n",
       "    .dataframe tbody tr th {\n",
       "        vertical-align: top;\n",
       "    }\n",
       "\n",
       "    .dataframe thead th {\n",
       "        text-align: right;\n",
       "    }\n",
       "</style>\n",
       "<table border=\"1\" class=\"dataframe\">\n",
       "  <thead>\n",
       "    <tr style=\"text-align: right;\">\n",
       "      <th></th>\n",
       "      <th>tweet_id</th>\n",
       "      <th>jpg_url</th>\n",
       "      <th>img_num</th>\n",
       "      <th>p1</th>\n",
       "      <th>p1_conf</th>\n",
       "      <th>p1_dog</th>\n",
       "      <th>p2</th>\n",
       "      <th>p2_conf</th>\n",
       "      <th>p2_dog</th>\n",
       "      <th>p3</th>\n",
       "      <th>p3_conf</th>\n",
       "      <th>p3_dog</th>\n",
       "    </tr>\n",
       "  </thead>\n",
       "  <tbody>\n",
       "  </tbody>\n",
       "</table>\n",
       "</div>"
      ],
      "text/plain": [
       "Empty DataFrame\n",
       "Columns: [tweet_id, jpg_url, img_num, p1, p1_conf, p1_dog, p2, p2_conf, p2_dog, p3, p3_conf, p3_dog]\n",
       "Index: []"
      ]
     },
     "execution_count": 671,
     "metadata": {},
     "output_type": "execute_result"
    }
   ],
   "source": [
    "df_image[~df_image.tweet_id.isin([str(i) for i in tweet_exist])]"
   ]
  },
  {
   "cell_type": "markdown",
   "metadata": {},
   "source": [
    "#### 3. Removing HTML Tags"
   ]
  },
  {
   "cell_type": "markdown",
   "metadata": {},
   "source": [
    "#### CODE"
   ]
  },
  {
   "cell_type": "code",
   "execution_count": 632,
   "metadata": {},
   "outputs": [],
   "source": [
    "# HTML tags in df_archive sources\n",
    "df.source = df.source.apply(lambda x : BeautifulSoup(x, \"lxml\").text)"
   ]
  },
  {
   "cell_type": "markdown",
   "metadata": {},
   "source": [
    "#### TEST"
   ]
  },
  {
   "cell_type": "code",
   "execution_count": 633,
   "metadata": {},
   "outputs": [
    {
     "data": {
      "text/plain": [
       "array(['Twitter for iPhone', 'Twitter Web Client', 'Vine - Make a Scene',\n",
       "       'TweetDeck'], dtype=object)"
      ]
     },
     "execution_count": 633,
     "metadata": {},
     "output_type": "execute_result"
    }
   ],
   "source": [
    "### CHECKING\n",
    "df[\"source\"].unique()"
   ]
  },
  {
   "cell_type": "markdown",
   "metadata": {},
   "source": [
    "#### 4. Remove links in text"
   ]
  },
  {
   "cell_type": "markdown",
   "metadata": {},
   "source": [
    "#### CODE"
   ]
  },
  {
   "cell_type": "code",
   "execution_count": 634,
   "metadata": {},
   "outputs": [
    {
     "data": {
      "text/plain": [
       "\"This is Phineas. He's a mystical boy. Only ever appears in the hole of a donut. 13/10 https://t.co/MgUWQ76dJU\""
      ]
     },
     "execution_count": 634,
     "metadata": {},
     "output_type": "execute_result"
    }
   ],
   "source": [
    "df.text[0]"
   ]
  },
  {
   "cell_type": "code",
   "execution_count": 635,
   "metadata": {},
   "outputs": [],
   "source": [
    "# merge json file display_text_range column to df to extract text using range values\n",
    "df = pd.merge(df, df_json[['tweet_id', 'display_text_range']], on='tweet_id')"
   ]
  },
  {
   "cell_type": "code",
   "execution_count": 636,
   "metadata": {},
   "outputs": [],
   "source": [
    "# Loop through the project\n",
    "new_text = []\n",
    "new_display_text_range = []\n",
    "for i, row in df.iterrows():\n",
    "    text_range = row.display_text_range\n",
    "    display_text = row.text[text_range[0]:text_range[1]]\n",
    "    \n",
    "    #Append the values\n",
    "    new_text.append(display_text)\n",
    "    new_display_text_range.append(text_range[1])\n",
    "    \n",
    "# Replace the data\n",
    "df.text = new_text\n",
    "df.display_text_range = new_display_text_range"
   ]
  },
  {
   "cell_type": "markdown",
   "metadata": {},
   "source": [
    "#### TEST"
   ]
  },
  {
   "cell_type": "code",
   "execution_count": 637,
   "metadata": {},
   "outputs": [
    {
     "name": "stdout",
     "output_type": "stream",
     "text": [
      "This is Phineas. He's a mystical boy. Only ever appears in the hole of a donut. 13/10\n",
      "This is Tilly. She's just checking pup on you. Hopes you're doing ok. If not, she's available for pats, snugs, boops, the whole bit. 13/10\n",
      "This is Archie. He is a rare Norwegian Pouncing Corgo. Lives in the tall grass. You never know when one may strike. 12/10\n"
     ]
    }
   ],
   "source": [
    "### CHECKING\n",
    "print(df.text[0])\n",
    "print(df.text[1])\n",
    "print(df.text[2])\n"
   ]
  },
  {
   "cell_type": "markdown",
   "metadata": {},
   "source": [
    "#### 5 | 6. Problems with Numerator and Denominator"
   ]
  },
  {
   "cell_type": "markdown",
   "metadata": {},
   "source": [
    "#### CODE"
   ]
  },
  {
   "cell_type": "code",
   "execution_count": 672,
   "metadata": {},
   "outputs": [],
   "source": [
    "# Problems with rating (numerator has absurldly large vale 1000+), (Rating denominator has incosistent value 10, some even 0) "
   ]
  },
  {
   "cell_type": "code",
   "execution_count": 639,
   "metadata": {},
   "outputs": [
    {
     "data": {
      "text/plain": [
       "0         1\n",
       "2         1\n",
       "7         1\n",
       "10     2309\n",
       "11        2\n",
       "15        1\n",
       "16        1\n",
       "20        2\n",
       "40        1\n",
       "50        3\n",
       "70        1\n",
       "80        2\n",
       "90        1\n",
       "110       1\n",
       "120       1\n",
       "130       1\n",
       "150       1\n",
       "170       1\n",
       "Name: rating_denominator, dtype: int64"
      ]
     },
     "execution_count": 639,
     "metadata": {},
     "output_type": "execute_result"
    }
   ],
   "source": [
    "## Checks the value\n",
    "df.rating_denominator.value_counts().sort_index()"
   ]
  },
  {
   "cell_type": "code",
   "execution_count": 640,
   "metadata": {},
   "outputs": [
    {
     "data": {
      "text/plain": [
       "0         2\n",
       "1         9\n",
       "2         9\n",
       "3        19\n",
       "4        17\n",
       "5        37\n",
       "6        32\n",
       "7        55\n",
       "8       102\n",
       "9       157\n",
       "10      458\n",
       "11      464\n",
       "12      552\n",
       "13      339\n",
       "14       51\n",
       "15        2\n",
       "17        1\n",
       "20        1\n",
       "24        1\n",
       "26        1\n",
       "27        1\n",
       "44        1\n",
       "45        1\n",
       "50        1\n",
       "60        1\n",
       "75        2\n",
       "80        1\n",
       "84        1\n",
       "88        1\n",
       "99        1\n",
       "121       1\n",
       "143       1\n",
       "144       1\n",
       "165       1\n",
       "182       1\n",
       "204       1\n",
       "420       2\n",
       "666       1\n",
       "960       1\n",
       "1776      1\n",
       "Name: rating_numerator, dtype: int64"
      ]
     },
     "execution_count": 640,
     "metadata": {},
     "output_type": "execute_result"
    }
   ],
   "source": [
    "df.rating_numerator.value_counts().sort_index()"
   ]
  },
  {
   "cell_type": "code",
   "execution_count": 641,
   "metadata": {},
   "outputs": [],
   "source": [
    "## Remove rows that has 0 numerator or denominator\n",
    "df = df.loc[df.rating_denominator != 0]\n",
    "df = df.loc[df.rating_numerator != 0]\n",
    "\n",
    "\n",
    "#Normalize the numerator and denominator to level 10\n",
    "new_numerator = []\n",
    "new_denominator = []\n",
    "\n",
    "# Loops through the database\n",
    "for key, i in df.iterrows():\n",
    "    if (i.rating_denominator == 10):\n",
    "        new_numerator.append(int(i.rating_numerator))\n",
    "        new_denominator.append(int(i.rating_denominator))\n",
    "    else :\n",
    "        #Normalize the numerator and denominator\n",
    "        new_numerator.append(int((i.rating_numerator*10)/i.rating_denominator))\n",
    "        new_denominator.append(10)\n",
    "            \n",
    "# Replace the database\n",
    "df.rating_numerator = new_numerator\n",
    "df.rating_denominator = new_denominator"
   ]
  },
  {
   "cell_type": "markdown",
   "metadata": {},
   "source": [
    "#### TEST"
   ]
  },
  {
   "cell_type": "code",
   "execution_count": 642,
   "metadata": {},
   "outputs": [
    {
     "data": {
      "text/plain": [
       "10"
      ]
     },
     "execution_count": 642,
     "metadata": {},
     "output_type": "execute_result"
    }
   ],
   "source": [
    "### CHECKING\n",
    "df.rating_denominator.max()"
   ]
  },
  {
   "cell_type": "markdown",
   "metadata": {},
   "source": [
    "#### 7. Fixing Names"
   ]
  },
  {
   "cell_type": "markdown",
   "metadata": {},
   "source": [
    "#### CODE"
   ]
  },
  {
   "cell_type": "code",
   "execution_count": 643,
   "metadata": {},
   "outputs": [
    {
     "name": "stderr",
     "output_type": "stream",
     "text": [
      "/anaconda3/lib/python3.7/site-packages/ipykernel_launcher.py:2: SettingWithCopyWarning: \n",
      "A value is trying to be set on a copy of a slice from a DataFrame\n",
      "\n",
      "See the caveats in the documentation: http://pandas.pydata.org/pandas-docs/stable/indexing.html#indexing-view-versus-copy\n",
      "  \n"
     ]
    }
   ],
   "source": [
    "## Replacing lowercase values with None\n",
    "df['name'][df['name'].str.match('[a-z]+')] = 'None'"
   ]
  },
  {
   "cell_type": "markdown",
   "metadata": {},
   "source": [
    "#### TEST"
   ]
  },
  {
   "cell_type": "code",
   "execution_count": 644,
   "metadata": {},
   "outputs": [
    {
     "data": {
      "text/html": [
       "<div>\n",
       "<style scoped>\n",
       "    .dataframe tbody tr th:only-of-type {\n",
       "        vertical-align: middle;\n",
       "    }\n",
       "\n",
       "    .dataframe tbody tr th {\n",
       "        vertical-align: top;\n",
       "    }\n",
       "\n",
       "    .dataframe thead th {\n",
       "        text-align: right;\n",
       "    }\n",
       "</style>\n",
       "<table border=\"1\" class=\"dataframe\">\n",
       "  <thead>\n",
       "    <tr style=\"text-align: right;\">\n",
       "      <th></th>\n",
       "      <th>tweet_id</th>\n",
       "      <th>in_reply_to_status_id</th>\n",
       "      <th>in_reply_to_user_id</th>\n",
       "      <th>timestamp</th>\n",
       "      <th>source</th>\n",
       "      <th>text</th>\n",
       "      <th>retweeted_status_id</th>\n",
       "      <th>retweeted_status_user_id</th>\n",
       "      <th>retweeted_status_timestamp</th>\n",
       "      <th>expanded_urls</th>\n",
       "      <th>rating_numerator</th>\n",
       "      <th>rating_denominator</th>\n",
       "      <th>name</th>\n",
       "      <th>doggo</th>\n",
       "      <th>floofer</th>\n",
       "      <th>pupper</th>\n",
       "      <th>puppo</th>\n",
       "      <th>display_text_range</th>\n",
       "    </tr>\n",
       "  </thead>\n",
       "  <tbody>\n",
       "  </tbody>\n",
       "</table>\n",
       "</div>"
      ],
      "text/plain": [
       "Empty DataFrame\n",
       "Columns: [tweet_id, in_reply_to_status_id, in_reply_to_user_id, timestamp, source, text, retweeted_status_id, retweeted_status_user_id, retweeted_status_timestamp, expanded_urls, rating_numerator, rating_denominator, name, doggo, floofer, pupper, puppo, display_text_range]\n",
       "Index: []"
      ]
     },
     "execution_count": 644,
     "metadata": {},
     "output_type": "execute_result"
    }
   ],
   "source": [
    "### CHECKING\n",
    "df[df['name'].str.match('[a-z]+')]"
   ]
  },
  {
   "cell_type": "code",
   "execution_count": 662,
   "metadata": {},
   "outputs": [
    {
     "data": {
      "text/plain": [
       "'Doggo Pupper'"
      ]
     },
     "execution_count": 662,
     "metadata": {},
     "output_type": "execute_result"
    }
   ],
   "source": [
    "k = ['Doggo', 'Pupper']\n",
    "n = ' '.join([str(elem) for elem in k]) "
   ]
  },
  {
   "cell_type": "markdown",
   "metadata": {},
   "source": [
    "#### 8.   Change Record with more than 1 dog stage"
   ]
  },
  {
   "cell_type": "markdown",
   "metadata": {},
   "source": [
    "#### CODE"
   ]
  },
  {
   "cell_type": "code",
   "execution_count": 663,
   "metadata": {
    "scrolled": true
   },
   "outputs": [],
   "source": [
    "# Prepare Change Record\n",
    "new_dog_list = []\n",
    "for key, i in df.iterrows():\n",
    "    temp_list = []\n",
    "    number_track = 0\n",
    "    if (i.doggo != \"None\"):\n",
    "        temp_list.append(\"Doggo\")\n",
    "        number_track += 1\n",
    "    if (i.floofer != \"None\"):\n",
    "        temp_list.append(\"Floofer\")\n",
    "        number_track += 1\n",
    "    if (i.pupper != \"None\"):\n",
    "        temp_list.append(\"Pupper\")\n",
    "        number_track += 1\n",
    "    if (i.puppo != \"None\"):\n",
    "        temp_list.append(\"Puppo\")\n",
    "        number_track += 1\n",
    "\n",
    "    if (number_track == 0):\n",
    "        temp_list.append(\"None\")\n",
    "        \n",
    "    final_string = ' '.join([str(elem) for elem in temp_list]) \n",
    "    \n",
    "    new_dog_list.append(final_string)"
   ]
  },
  {
   "cell_type": "code",
   "execution_count": 685,
   "metadata": {},
   "outputs": [],
   "source": [
    "df['stages'] = np.array(new_dog_list)"
   ]
  },
  {
   "cell_type": "markdown",
   "metadata": {},
   "source": [
    "#### TEST"
   ]
  },
  {
   "cell_type": "code",
   "execution_count": 686,
   "metadata": {},
   "outputs": [
    {
     "data": {
      "text/plain": [
       "array(['None', 'Doggo', 'Puppo', 'Pupper', 'Floofer', 'Doggo Puppo',\n",
       "       'Doggo Floofer', 'Doggo Pupper'], dtype=object)"
      ]
     },
     "execution_count": 686,
     "metadata": {},
     "output_type": "execute_result"
    }
   ],
   "source": [
    "df['stages'].unique()"
   ]
  },
  {
   "cell_type": "markdown",
   "metadata": {},
   "source": [
    "## Tidiness Issues"
   ]
  },
  {
   "cell_type": "markdown",
   "metadata": {},
   "source": [
    "#### 7. Removing Duplicates"
   ]
  },
  {
   "cell_type": "markdown",
   "metadata": {},
   "source": [
    "#### CODE"
   ]
  },
  {
   "cell_type": "code",
   "execution_count": 647,
   "metadata": {},
   "outputs": [],
   "source": [
    "## 8. No duplicates (retweet exist (which means that they are duplicated))\n",
    "df = df[df.retweeted_status_id == 'nan']\n",
    "\n",
    "## Dropping retweet columns\n",
    "df.drop(['retweeted_status_id','retweeted_status_user_id', 'retweeted_status_timestamp'], axis=1, inplace=True)"
   ]
  },
  {
   "cell_type": "markdown",
   "metadata": {},
   "source": [
    "#### TEST"
   ]
  },
  {
   "cell_type": "code",
   "execution_count": 683,
   "metadata": {},
   "outputs": [
    {
     "data": {
      "text/plain": [
       "Index(['tweet_id', 'in_reply_to_status_id', 'in_reply_to_user_id', 'timestamp',\n",
       "       'source', 'text', 'expanded_urls', 'rating_numerator',\n",
       "       'rating_denominator', 'name', 'doggo', 'floofer', 'pupper', 'puppo',\n",
       "       'display_text_range', 'stages'],\n",
       "      dtype='object')"
      ]
     },
     "execution_count": 683,
     "metadata": {},
     "output_type": "execute_result"
    }
   ],
   "source": [
    "df.columns"
   ]
  },
  {
   "cell_type": "markdown",
   "metadata": {},
   "source": [
    "#### 8. Combining Dog Stage"
   ]
  },
  {
   "cell_type": "markdown",
   "metadata": {},
   "source": [
    "#### CODE"
   ]
  },
  {
   "cell_type": "code",
   "execution_count": 688,
   "metadata": {},
   "outputs": [],
   "source": [
    "## 9. Dog stage(doggo, etc) should be in 1 column\n",
    "df.stages = df.stages.astype('category')\n",
    "df.drop(['doggo', 'floofer', 'pupper', 'puppo'], axis=1, inplace=True)"
   ]
  },
  {
   "cell_type": "markdown",
   "metadata": {},
   "source": [
    "#### TEST"
   ]
  },
  {
   "cell_type": "code",
   "execution_count": 689,
   "metadata": {},
   "outputs": [
    {
     "data": {
      "text/plain": [
       "Index(['tweet_id', 'in_reply_to_status_id', 'in_reply_to_user_id', 'timestamp',\n",
       "       'source', 'text', 'expanded_urls', 'rating_numerator',\n",
       "       'rating_denominator', 'name', 'display_text_range', 'stages'],\n",
       "      dtype='object')"
      ]
     },
     "execution_count": 689,
     "metadata": {},
     "output_type": "execute_result"
    }
   ],
   "source": [
    "df.columns"
   ]
  },
  {
   "cell_type": "markdown",
   "metadata": {},
   "source": [
    "## Joining Other Columns"
   ]
  },
  {
   "cell_type": "markdown",
   "metadata": {},
   "source": [
    "#### Join from df_json"
   ]
  },
  {
   "cell_type": "code",
   "execution_count": 690,
   "metadata": {},
   "outputs": [],
   "source": [
    "# Adding favourite_count, retweet_count into df from df_json\n",
    "df = pd.merge(df, df_json[['tweet_id', 'retweet_count', 'favorite_count']], on='tweet_id')"
   ]
  },
  {
   "cell_type": "markdown",
   "metadata": {},
   "source": [
    "#### Join from df_image"
   ]
  },
  {
   "cell_type": "code",
   "execution_count": 691,
   "metadata": {},
   "outputs": [],
   "source": [
    "# Convert df_image tweetid to str\n",
    "df_image.tweet_id = [str(i) for i in df_image.tweet_id]\n",
    "\n",
    "# Adding prediction data (p1, p1_conf, p1_dog)\n",
    "df = pd.merge(df, df_image[['tweet_id', 'p1', 'p1_conf', 'p1_dog']], on='tweet_id')\n",
    "\n",
    "# rename columns\n",
    "df = df.rename(columns={\"p1\": \"dog_breed\", \"p1_conf\": \"confidence\", \"p1_dog\":\"is_dog\"})\n"
   ]
  },
  {
   "cell_type": "markdown",
   "metadata": {},
   "source": [
    "#### Dropping unused columns"
   ]
  },
  {
   "cell_type": "code",
   "execution_count": 692,
   "metadata": {},
   "outputs": [],
   "source": [
    "df.drop([\"expanded_urls\"], axis=1, inplace=True)"
   ]
  },
  {
   "cell_type": "markdown",
   "metadata": {},
   "source": [
    "#### Binning User Based on Numerator"
   ]
  },
  {
   "cell_type": "code",
   "execution_count": 693,
   "metadata": {},
   "outputs": [],
   "source": [
    "bin_edges = [1, 10, df.rating_numerator.max() ]\n",
    "bin_names = ['below 10', 'above_10']"
   ]
  },
  {
   "cell_type": "code",
   "execution_count": 694,
   "metadata": {},
   "outputs": [],
   "source": [
    "df['rating_category'] = pd.cut(df['rating_numerator'], bin_edges, labels=bin_names)"
   ]
  },
  {
   "cell_type": "markdown",
   "metadata": {},
   "source": [
    "#### Exporting"
   ]
  },
  {
   "cell_type": "code",
   "execution_count": 695,
   "metadata": {},
   "outputs": [],
   "source": [
    "df.to_csv(\"cleaned.csv\", index=False)"
   ]
  },
  {
   "cell_type": "markdown",
   "metadata": {},
   "source": [
    "# Analyzing "
   ]
  },
  {
   "cell_type": "markdown",
   "metadata": {},
   "source": [
    "### Basic Analysis"
   ]
  },
  {
   "cell_type": "code",
   "execution_count": 527,
   "metadata": {},
   "outputs": [],
   "source": [
    "# Loading\n",
    "df = pd.read_csv(\"cleaned.csv\")\n",
    "\n",
    "# Convert str to datetime\n",
    "df.timestamp = pd.to_datetime(df.timestamp)\n"
   ]
  },
  {
   "cell_type": "code",
   "execution_count": 528,
   "metadata": {},
   "outputs": [
    {
     "name": "stdout",
     "output_type": "stream",
     "text": [
      "<class 'pandas.core.frame.DataFrame'>\n",
      "RangeIndex: 1974 entries, 0 to 1973\n",
      "Data columns (total 17 columns):\n",
      "tweet_id                 1974 non-null int64\n",
      "in_reply_to_status_id    1974 non-null int64\n",
      "in_reply_to_user_id      1974 non-null int64\n",
      "timestamp                1974 non-null object\n",
      "source                   1974 non-null object\n",
      "text                     1974 non-null object\n",
      "rating_numerator         1974 non-null int64\n",
      "rating_denominator       1974 non-null int64\n",
      "name                     1974 non-null object\n",
      "display_text_range       1974 non-null int64\n",
      "stages                   1974 non-null object\n",
      "retweet_count            1974 non-null int64\n",
      "favorite_count           1974 non-null int64\n",
      "dog_breed                1974 non-null object\n",
      "confidence               1974 non-null float64\n",
      "is_dog                   1974 non-null bool\n",
      "rating_category          1970 non-null object\n",
      "dtypes: bool(1), float64(1), int64(8), object(7)\n",
      "memory usage: 248.8+ KB\n"
     ]
    }
   ],
   "source": [
    "# Checks the information of the new column\n",
    "df.info()"
   ]
  },
  {
   "cell_type": "code",
   "execution_count": 529,
   "metadata": {},
   "outputs": [
    {
     "name": "stdout",
     "output_type": "stream",
     "text": [
      "Value Counts:\n",
      "Non reply : 1953\n",
      "With reply : 21\n"
     ]
    }
   ],
   "source": [
    "# Checks how many tweets are reply or non reply\n",
    "print(\"Value Counts:\")\n",
    "print(\"Non reply : {}\".format(df[df.in_reply_to_status_id == 0].shape[0]))\n",
    "print(\"With reply : {}\".format(df[df.in_reply_to_status_id != 0].shape[0]))"
   ]
  },
  {
   "cell_type": "code",
   "execution_count": 530,
   "metadata": {},
   "outputs": [
    {
     "name": "stdout",
     "output_type": "stream",
     "text": [
      "Value Counts:\n"
     ]
    },
    {
     "data": {
      "text/plain": [
       "Twitter for iPhone    1936\n",
       "Twitter Web Client      28\n",
       "TweetDeck               10\n",
       "Name: source, dtype: int64"
      ]
     },
     "execution_count": 530,
     "metadata": {},
     "output_type": "execute_result"
    }
   ],
   "source": [
    "# Checks which sources the tweet came from\n",
    "print(\"Value Counts:\")\n",
    "\n",
    "df['source'].value_counts()"
   ]
  },
  {
   "cell_type": "code",
   "execution_count": 531,
   "metadata": {},
   "outputs": [
    {
     "name": "stdout",
     "output_type": "stream",
     "text": [
      "Value Counts\n"
     ]
    },
    {
     "data": {
      "text/plain": [
       "1         4\n",
       "2        10\n",
       "3        19\n",
       "4        15\n",
       "5        33\n",
       "6        33\n",
       "7        51\n",
       "8        96\n",
       "9       151\n",
       "10      419\n",
       "11      400\n",
       "12      447\n",
       "13      255\n",
       "14       35\n",
       "26        1\n",
       "27        1\n",
       "34        1\n",
       "75        1\n",
       "420       1\n",
       "1776      1\n",
       "Name: rating_numerator, dtype: int64"
      ]
     },
     "execution_count": 531,
     "metadata": {},
     "output_type": "execute_result"
    }
   ],
   "source": [
    "# Checks which sources the tweet came from\n",
    "print(\"Value Counts\")\n",
    "df['rating_numerator'].value_counts().sort_index()"
   ]
  },
  {
   "cell_type": "markdown",
   "metadata": {},
   "source": [
    "### All user rating"
   ]
  },
  {
   "cell_type": "code",
   "execution_count": 532,
   "metadata": {},
   "outputs": [
    {
     "name": "stdout",
     "output_type": "stream",
     "text": [
      "Length : 1974\n"
     ]
    }
   ],
   "source": [
    "print(\"Length : {}\".format(df.shape[0]))"
   ]
  },
  {
   "cell_type": "code",
   "execution_count": 533,
   "metadata": {},
   "outputs": [
    {
     "name": "stdout",
     "output_type": "stream",
     "text": [
      "Average numerator  : 11.70466058763931\n"
     ]
    }
   ],
   "source": [
    "# Checks numerator\n",
    "print(\"Average numerator  : {}\".format(df.rating_numerator.mean()))"
   ]
  },
  {
   "cell_type": "code",
   "execution_count": 534,
   "metadata": {},
   "outputs": [
    {
     "name": "stdout",
     "output_type": "stream",
     "text": [
      "Average tweet length : 111.5709219858156\n"
     ]
    }
   ],
   "source": [
    "# Check average tweet length\n",
    "print(\"Average tweet length : {}\".format(df.display_text_range.mean()))"
   ]
  },
  {
   "cell_type": "code",
   "execution_count": 535,
   "metadata": {},
   "outputs": [
    {
     "name": "stdout",
     "output_type": "stream",
     "text": [
      "Mean Retweet Count\t2467\n",
      "Mean Favorite Count\t8306\n"
     ]
    }
   ],
   "source": [
    "# Checks the mean of retweet/ favourite\n",
    "print('%s\\t%s' % ('Mean Retweet Count', round(df.retweet_count.mean())))\n",
    "print('%s\\t%s' % ('Mean Favorite Count', round(df.favorite_count.mean())))"
   ]
  },
  {
   "cell_type": "code",
   "execution_count": 536,
   "metadata": {},
   "outputs": [
    {
     "name": "stdout",
     "output_type": "stream",
     "text": [
      "Doggo\n",
      "Mean Retweet : 6600\n",
      "Mean Favorite : 19067\n",
      "Puppo\n",
      "Mean Retweet : 5886\n",
      "Mean Favorite : 21152\n",
      "Pupper\n",
      "Mean Retweet : 2113\n",
      "Mean Favorite : 6735\n",
      "Floofer\n",
      "Mean Retweet : 4400\n",
      "Mean Favorite : 12186\n"
     ]
    }
   ],
   "source": [
    "# Checks value counts for each type\n",
    "print('Doggo')\n",
    "print('Mean Retweet :', \n",
    "                  round(df.retweet_count[df.stages == 'doggo'].mean()))\n",
    "print('Mean Favorite :', \n",
    "                  round(df.favorite_count[df.stages == 'doggo'].mean()))\n",
    "\n",
    "print('Puppo')\n",
    "print('Mean Retweet :', \n",
    "                  round(df.retweet_count[df.stages == 'puppo'].mean()))\n",
    "print('Mean Favorite :', \n",
    "                  round(df.favorite_count[df.stages == 'puppo'].mean()))\n",
    "\n",
    "print('Pupper')\n",
    "print('Mean Retweet :', \n",
    "                  round(df.retweet_count[df.stages == 'pupper'].mean()))\n",
    "print('Mean Favorite :', \n",
    "                  round(df.favorite_count[df.stages == 'pupper'].mean()))\n",
    "\n",
    "\n",
    "print('Floofer')\n",
    "print('Mean Retweet :', \n",
    "                  round(df.retweet_count[df.stages == 'floofer'].mean()))\n",
    "print('Mean Favorite :', \n",
    "                  round(df.favorite_count[df.stages == 'floofer'].mean()))"
   ]
  },
  {
   "cell_type": "markdown",
   "metadata": {},
   "source": [
    "### User who rates less than or equal to 10"
   ]
  },
  {
   "cell_type": "code",
   "execution_count": 537,
   "metadata": {},
   "outputs": [
    {
     "name": "stdout",
     "output_type": "stream",
     "text": [
      "Length : 831\n"
     ]
    }
   ],
   "source": [
    "df_less_10 = df[df['rating_numerator'] <= 10]\n",
    "print(\"Length : {}\".format(df_less_10.shape[0]))\n"
   ]
  },
  {
   "cell_type": "code",
   "execution_count": 538,
   "metadata": {},
   "outputs": [
    {
     "name": "stdout",
     "output_type": "stream",
     "text": [
      "Average numerator  : 8.637785800240675\n"
     ]
    }
   ],
   "source": [
    "# Checks numerator\n",
    "print(\"Average numerator  : {}\".format(df_less_10.rating_numerator.mean()))"
   ]
  },
  {
   "cell_type": "code",
   "execution_count": 539,
   "metadata": {},
   "outputs": [
    {
     "name": "stdout",
     "output_type": "stream",
     "text": [
      "Average tweet length : 118.80625752105897\n"
     ]
    }
   ],
   "source": [
    "# Check average tweet length\n",
    "print(\"Average tweet length : {}\".format(df_less_10.display_text_range.mean()))"
   ]
  },
  {
   "cell_type": "code",
   "execution_count": 540,
   "metadata": {},
   "outputs": [
    {
     "name": "stdout",
     "output_type": "stream",
     "text": [
      "Mean Retweet Count\t1128\n",
      "Mean Favorite Count\t3211\n"
     ]
    }
   ],
   "source": [
    "# Checks the mean of retweet/ favourite\n",
    "print('%s\\t%s' % ('Mean Retweet Count', round(df_less_10.retweet_count.mean())))\n",
    "print('%s\\t%s' % ('Mean Favorite Count', round(df_less_10.favorite_count.mean())))"
   ]
  },
  {
   "cell_type": "code",
   "execution_count": 541,
   "metadata": {},
   "outputs": [
    {
     "name": "stdout",
     "output_type": "stream",
     "text": [
      "Doggo\n",
      "Mean Retweet : 1803\n",
      "Mean Favorite : 5674\n",
      "Puppo\n",
      "Mean Retweet : 1184\n",
      "Mean Favorite : 4731\n",
      "Pupper\n",
      "Mean Retweet : 1105\n",
      "Mean Favorite : 3141\n",
      "Floofer\n",
      "Mean Retweet : 1023\n",
      "Mean Favorite : 3697\n"
     ]
    }
   ],
   "source": [
    "print('Doggo')\n",
    "print('Mean Retweet :', \n",
    "                  round(df_less_10.retweet_count[df.stages == 'doggo'].mean()))\n",
    "print('Mean Favorite :', \n",
    "                  round(df_less_10.favorite_count[df.stages == 'doggo'].mean()))\n",
    "\n",
    "print('Puppo')\n",
    "print('Mean Retweet :', \n",
    "                  round(df_less_10.retweet_count[df.stages == 'puppo'].mean()))\n",
    "print('Mean Favorite :', \n",
    "                  round(df_less_10.favorite_count[df.stages == 'puppo'].mean()))\n",
    "\n",
    "print('Pupper')\n",
    "print('Mean Retweet :', \n",
    "                  round(df_less_10.retweet_count[df.stages == 'pupper'].mean()))\n",
    "print('Mean Favorite :', \n",
    "                  round(df_less_10.favorite_count[df.stages == 'pupper'].mean()))\n",
    "\n",
    "\n",
    "print('Floofer')\n",
    "print('Mean Retweet :', \n",
    "                  round(df_less_10.retweet_count[df.stages == 'floofer'].mean()))\n",
    "print('Mean Favorite :', \n",
    "                  round(df_less_10.favorite_count[df.stages == 'floofer'].mean()))"
   ]
  },
  {
   "cell_type": "markdown",
   "metadata": {},
   "source": [
    "### User who rates more than 10"
   ]
  },
  {
   "cell_type": "code",
   "execution_count": 542,
   "metadata": {},
   "outputs": [
    {
     "name": "stdout",
     "output_type": "stream",
     "text": [
      "Length : 1143\n"
     ]
    }
   ],
   "source": [
    "df_more_10 = df[df['rating_numerator'] > 10]\n",
    "print(\"Length : {}\".format(df_more_10.shape[0]))\n"
   ]
  },
  {
   "cell_type": "code",
   "execution_count": 543,
   "metadata": {},
   "outputs": [
    {
     "name": "stdout",
     "output_type": "stream",
     "text": [
      "Average tweet length : 106.31058617672791\n"
     ]
    }
   ],
   "source": [
    "# Check average tweet length\n",
    "print(\"Average tweet length : {}\".format(df_more_10.display_text_range.mean()))"
   ]
  },
  {
   "cell_type": "code",
   "execution_count": 544,
   "metadata": {},
   "outputs": [
    {
     "name": "stdout",
     "output_type": "stream",
     "text": [
      "Mean Retweet Count\t3441\n",
      "Mean Favorite Count\t12011\n"
     ]
    }
   ],
   "source": [
    "# Checks the mean of retweet/ favourite\n",
    "print('%s\\t%s' % ('Mean Retweet Count', round(df_more_10.retweet_count.mean())))\n",
    "print('%s\\t%s' % ('Mean Favorite Count', round(df_more_10.favorite_count.mean())))"
   ]
  },
  {
   "cell_type": "code",
   "execution_count": 545,
   "metadata": {},
   "outputs": [
    {
     "name": "stdout",
     "output_type": "stream",
     "text": [
      "Doggo\n",
      "Mean Retweet : 7415\n",
      "Mean Favorite : 21341\n",
      "Puppo\n",
      "Mean Retweet : 6931\n",
      "Mean Favorite : 24801\n",
      "Pupper\n",
      "Mean Retweet : 2853\n",
      "Mean Favorite : 9377\n",
      "Floofer\n",
      "Mean Retweet : 4963\n",
      "Mean Favorite : 13601\n"
     ]
    }
   ],
   "source": [
    "print('Doggo')\n",
    "print('Mean Retweet :', \n",
    "                  round(df_more_10.retweet_count[df.stages == 'doggo'].mean()))\n",
    "print('Mean Favorite :', \n",
    "                  round(df_more_10.favorite_count[df.stages == 'doggo'].mean()))\n",
    "\n",
    "print('Puppo')\n",
    "print('Mean Retweet :', \n",
    "                  round(df_more_10.retweet_count[df.stages == 'puppo'].mean()))\n",
    "print('Mean Favorite :', \n",
    "                  round(df_more_10.favorite_count[df.stages == 'puppo'].mean()))\n",
    "\n",
    "print('Pupper')\n",
    "print('Mean Retweet :', \n",
    "                  round(df_more_10.retweet_count[df.stages == 'pupper'].mean()))\n",
    "print('Mean Favorite :', \n",
    "                  round(df_more_10.favorite_count[df.stages == 'pupper'].mean()))\n",
    "\n",
    "\n",
    "print('Floofer')\n",
    "print('Mean Retweet :', \n",
    "                  round(df_more_10.retweet_count[df.stages == 'floofer'].mean()))\n",
    "print('Mean Favorite :', \n",
    "                  round(df_more_10.favorite_count[df.stages == 'floofer'].mean()))"
   ]
  },
  {
   "cell_type": "markdown",
   "metadata": {},
   "source": [
    "# Visualizing Data"
   ]
  },
  {
   "cell_type": "code",
   "execution_count": 546,
   "metadata": {},
   "outputs": [],
   "source": [
    "plt.rcParams[\"figure.figsize\"] = [6, 4]"
   ]
  },
  {
   "cell_type": "code",
   "execution_count": 547,
   "metadata": {},
   "outputs": [
    {
     "data": {
      "image/png": "[encoded data removed]",
      "text/plain": [
       "<Figure size 432x288 with 1 Axes>"
      ]
     },
     "metadata": {
      "needs_background": "light"
     },
     "output_type": "display_data"
    }
   ],
   "source": [
    "# Visualize the Count in both group\n",
    "count = df.groupby(\"rating_category\")[[\"favorite_count\", \"retweet_count\"]].mean()\n",
    "ax = count.plot(kind=\"bar\", title=\"Favourite Count\", color=[\"blue\", \"orange\"])\n",
    "ax.set_xlabel(\"Rating Category\")\n",
    "ax.set_ylabel(\"Number of Actions\");\n",
    "plt.savefig('./graphs/count', bbox_inches = \"tight\")\n"
   ]
  },
  {
   "cell_type": "code",
   "execution_count": 548,
   "metadata": {},
   "outputs": [
    {
     "data": {
      "image/png": "[encoded data removed]",
      "text/plain": [
       "<Figure size 432x288 with 1 Axes>"
      ]
     },
     "metadata": {
      "needs_background": "light"
     },
     "output_type": "display_data"
    }
   ],
   "source": [
    "# Visualize the Stages Count\n",
    "stages = df.groupby([\"stages\"])[[\"favorite_count\", \"retweet_count\"]].mean()\n",
    "ax = stages.plot(kind=\"bar\", title=\"Favourite and retweet in different stages (Overall)\", color=[\"blue\", \"orange\"])\n",
    "ax.set_xlabel(\"Rating Category\")\n",
    "ax.set_ylabel(\"Number of Actions\");\n",
    "plt.tight_layout()\n",
    "\n",
    "plt.savefig('./graphs/stages_count', bbox_inches = \"tight\")\n"
   ]
  },
  {
   "cell_type": "code",
   "execution_count": 549,
   "metadata": {},
   "outputs": [
    {
     "data": {
      "image/png": "[encoded data removed]",
      "text/plain": [
       "<Figure size 432x288 with 1 Axes>"
      ]
     },
     "metadata": {
      "needs_background": "light"
     },
     "output_type": "display_data"
    }
   ],
   "source": [
    "# Visualize the Differences of Stages Count in both group\n",
    "stages2 = df_more_10.groupby([\"stages\"])[[\"favorite_count\", \"retweet_count\"]].mean()-df_less_10.groupby([\"stages\"])[[\"favorite_count\", \"retweet_count\"]].mean()\n",
    "ax = stages2.plot(kind=\"bar\", title=\"Differences between users who rate more than 10 and those who dont \", color=[\"blue\", \"orange\"])\n",
    "ax.set_xlabel(\"Rating Category\")\n",
    "ax.set_ylabel(\"Number of Actions\");\n",
    "plt.savefig('./graphs/stages_diff_count', bbox_inches = \"tight\")\n"
   ]
  },
  {
   "cell_type": "code",
   "execution_count": 559,
   "metadata": {},
   "outputs": [
    {
     "data": {
      "image/png": "[encoded data removed]",
      "text/plain": [
       "<Figure size 432x288 with 1 Axes>"
      ]
     },
     "metadata": {
      "needs_background": "light"
     },
     "output_type": "display_data"
    }
   ],
   "source": [
    "# Visualize the Trend of the tweet\n",
    "data = df.tweet_id.groupby([df[\"timestamp\"].dt.year, df[\"timestamp\"].dt.month]).count()\n",
    "ax = data.plot('line', title='Trend Over Time', color=\"blue\")\n",
    "ax.set_xlabel(\"(Year, Month)\")\n",
    "ax.set_ylabel(\"No Of Tweets\")\n",
    "ax.set_ylim(0, );\n",
    "plt.savefig('./graphs/trends')\n"
   ]
  },
  {
   "cell_type": "code",
   "execution_count": 551,
   "metadata": {},
   "outputs": [
    {
     "data": {
      "image/png": "[encoded data removed]",
      "text/plain": [
       "<Figure size 432x288 with 1 Axes>"
      ]
     },
     "metadata": {
      "needs_background": "light"
     },
     "output_type": "display_data"
    }
   ],
   "source": [
    "ax = df.rating_numerator.value_counts().sort_index().plot('bar', title = 'Dog Rating distribution', color=\"blue\")\n",
    "ax.set_xlabel(\"Ratings\")\n",
    "ax.set_ylabel(\"No Of Dogs\")\n",
    "plt.savefig('./graphs/rating_list')\n"
   ]
  },
  {
   "cell_type": "code",
   "execution_count": 552,
   "metadata": {},
   "outputs": [
    {
     "ename": "AttributeError",
     "evalue": "Can only use .dt accessor with datetimelike values",
     "output_type": "error",
     "traceback": [
      "\u001b[0;31m---------------------------------------------------------------------------\u001b[0m",
      "\u001b[0;31mAttributeError\u001b[0m                            Traceback (most recent call last)",
      "\u001b[0;32m<ipython-input-552-054e4442c5e5>\u001b[0m in \u001b[0;36m<module>\u001b[0;34m()\u001b[0m\n\u001b[1;32m      1\u001b[0m \u001b[0mplt\u001b[0m\u001b[0;34m.\u001b[0m\u001b[0msubplots\u001b[0m\u001b[0;34m(\u001b[0m\u001b[0;36m1\u001b[0m\u001b[0;34m,\u001b[0m \u001b[0msharex\u001b[0m\u001b[0;34m=\u001b[0m\u001b[0;32mTrue\u001b[0m\u001b[0;34m)\u001b[0m\u001b[0;34m\u001b[0m\u001b[0;34m\u001b[0m\u001b[0m\n\u001b[0;32m----> 2\u001b[0;31m \u001b[0mdf\u001b[0m\u001b[0;34m.\u001b[0m\u001b[0mretweet_count\u001b[0m\u001b[0;34m.\u001b[0m\u001b[0mgroupby\u001b[0m\u001b[0;34m(\u001b[0m\u001b[0;34m[\u001b[0m\u001b[0mdf\u001b[0m\u001b[0;34m[\u001b[0m\u001b[0;34m\"timestamp\"\u001b[0m\u001b[0;34m]\u001b[0m\u001b[0;34m.\u001b[0m\u001b[0mdt\u001b[0m\u001b[0;34m.\u001b[0m\u001b[0myear\u001b[0m\u001b[0;34m,\u001b[0m \u001b[0mdf\u001b[0m\u001b[0;34m[\u001b[0m\u001b[0;34m\"timestamp\"\u001b[0m\u001b[0;34m]\u001b[0m\u001b[0;34m.\u001b[0m\u001b[0mdt\u001b[0m\u001b[0;34m.\u001b[0m\u001b[0mmonth\u001b[0m\u001b[0;34m]\u001b[0m\u001b[0;34m)\u001b[0m\u001b[0;34m.\u001b[0m\u001b[0mmean\u001b[0m\u001b[0;34m(\u001b[0m\u001b[0;34m)\u001b[0m\u001b[0;34m.\u001b[0m\u001b[0mplot\u001b[0m\u001b[0;34m(\u001b[0m\u001b[0;34m'line'\u001b[0m\u001b[0;34m,\u001b[0m \u001b[0mcolor\u001b[0m\u001b[0;34m=\u001b[0m\u001b[0;34m\"blue\"\u001b[0m\u001b[0;34m)\u001b[0m\u001b[0;34m\u001b[0m\u001b[0;34m\u001b[0m\u001b[0m\n\u001b[0m\u001b[1;32m      3\u001b[0m \u001b[0mdf\u001b[0m\u001b[0;34m.\u001b[0m\u001b[0mfavorite_count\u001b[0m\u001b[0;34m.\u001b[0m\u001b[0mgroupby\u001b[0m\u001b[0;34m(\u001b[0m\u001b[0;34m[\u001b[0m\u001b[0mdf\u001b[0m\u001b[0;34m[\u001b[0m\u001b[0;34m\"timestamp\"\u001b[0m\u001b[0;34m]\u001b[0m\u001b[0;34m.\u001b[0m\u001b[0mdt\u001b[0m\u001b[0;34m.\u001b[0m\u001b[0myear\u001b[0m\u001b[0;34m,\u001b[0m \u001b[0mdf\u001b[0m\u001b[0;34m[\u001b[0m\u001b[0;34m\"timestamp\"\u001b[0m\u001b[0;34m]\u001b[0m\u001b[0;34m.\u001b[0m\u001b[0mdt\u001b[0m\u001b[0;34m.\u001b[0m\u001b[0mmonth\u001b[0m\u001b[0;34m]\u001b[0m\u001b[0;34m)\u001b[0m\u001b[0;34m.\u001b[0m\u001b[0mmean\u001b[0m\u001b[0;34m(\u001b[0m\u001b[0;34m)\u001b[0m\u001b[0;34m.\u001b[0m\u001b[0mplot\u001b[0m\u001b[0;34m(\u001b[0m\u001b[0;34m'line'\u001b[0m\u001b[0;34m,\u001b[0m \u001b[0mcolor\u001b[0m\u001b[0;34m=\u001b[0m\u001b[0;34m\"orange\"\u001b[0m\u001b[0;34m)\u001b[0m\u001b[0;34m.\u001b[0m\u001b[0mset_ylim\u001b[0m\u001b[0;34m(\u001b[0m\u001b[0;36m0\u001b[0m\u001b[0;34m,\u001b[0m \u001b[0;34m)\u001b[0m\u001b[0;34m\u001b[0m\u001b[0;34m\u001b[0m\u001b[0m\n\u001b[1;32m      4\u001b[0m \u001b[0mplt\u001b[0m\u001b[0;34m.\u001b[0m\u001b[0mtitle\u001b[0m\u001b[0;34m(\u001b[0m\u001b[0;34m'Retweeting and Favoriting trend'\u001b[0m\u001b[0;34m)\u001b[0m\u001b[0;34m\u001b[0m\u001b[0;34m\u001b[0m\u001b[0m\n\u001b[1;32m      5\u001b[0m \u001b[0mplt\u001b[0m\u001b[0;34m.\u001b[0m\u001b[0mylabel\u001b[0m\u001b[0;34m(\u001b[0m\u001b[0;34m'Count'\u001b[0m\u001b[0;34m)\u001b[0m\u001b[0;34m\u001b[0m\u001b[0;34m\u001b[0m\u001b[0m\n",
      "\u001b[0;32m/anaconda3/lib/python3.7/site-packages/pandas/core/generic.py\u001b[0m in \u001b[0;36m__getattr__\u001b[0;34m(self, name)\u001b[0m\n\u001b[1;32m   4370\u001b[0m         if (name in self._internal_names_set or name in self._metadata or\n\u001b[1;32m   4371\u001b[0m                 name in self._accessors):\n\u001b[0;32m-> 4372\u001b[0;31m             \u001b[0;32mreturn\u001b[0m \u001b[0mobject\u001b[0m\u001b[0;34m.\u001b[0m\u001b[0m__getattribute__\u001b[0m\u001b[0;34m(\u001b[0m\u001b[0mself\u001b[0m\u001b[0;34m,\u001b[0m \u001b[0mname\u001b[0m\u001b[0;34m)\u001b[0m\u001b[0;34m\u001b[0m\u001b[0;34m\u001b[0m\u001b[0m\n\u001b[0m\u001b[1;32m   4373\u001b[0m         \u001b[0;32melse\u001b[0m\u001b[0;34m:\u001b[0m\u001b[0;34m\u001b[0m\u001b[0;34m\u001b[0m\u001b[0m\n\u001b[1;32m   4374\u001b[0m             \u001b[0;32mif\u001b[0m \u001b[0mself\u001b[0m\u001b[0;34m.\u001b[0m\u001b[0m_info_axis\u001b[0m\u001b[0;34m.\u001b[0m\u001b[0m_can_hold_identifiers_and_holds_name\u001b[0m\u001b[0;34m(\u001b[0m\u001b[0mname\u001b[0m\u001b[0;34m)\u001b[0m\u001b[0;34m:\u001b[0m\u001b[0;34m\u001b[0m\u001b[0;34m\u001b[0m\u001b[0m\n",
      "\u001b[0;32m/anaconda3/lib/python3.7/site-packages/pandas/core/accessor.py\u001b[0m in \u001b[0;36m__get__\u001b[0;34m(self, obj, cls)\u001b[0m\n\u001b[1;32m    131\u001b[0m             \u001b[0;31m# we're accessing the attribute of the class, i.e., Dataset.geo\u001b[0m\u001b[0;34m\u001b[0m\u001b[0;34m\u001b[0m\u001b[0;34m\u001b[0m\u001b[0m\n\u001b[1;32m    132\u001b[0m             \u001b[0;32mreturn\u001b[0m \u001b[0mself\u001b[0m\u001b[0;34m.\u001b[0m\u001b[0m_accessor\u001b[0m\u001b[0;34m\u001b[0m\u001b[0;34m\u001b[0m\u001b[0m\n\u001b[0;32m--> 133\u001b[0;31m         \u001b[0maccessor_obj\u001b[0m \u001b[0;34m=\u001b[0m \u001b[0mself\u001b[0m\u001b[0;34m.\u001b[0m\u001b[0m_accessor\u001b[0m\u001b[0;34m(\u001b[0m\u001b[0mobj\u001b[0m\u001b[0;34m)\u001b[0m\u001b[0;34m\u001b[0m\u001b[0;34m\u001b[0m\u001b[0m\n\u001b[0m\u001b[1;32m    134\u001b[0m         \u001b[0;31m# Replace the property with the accessor object. Inspired by:\u001b[0m\u001b[0;34m\u001b[0m\u001b[0;34m\u001b[0m\u001b[0;34m\u001b[0m\u001b[0m\n\u001b[1;32m    135\u001b[0m         \u001b[0;31m# http://www.pydanny.com/cached-property.html\u001b[0m\u001b[0;34m\u001b[0m\u001b[0;34m\u001b[0m\u001b[0;34m\u001b[0m\u001b[0m\n",
      "\u001b[0;32m/anaconda3/lib/python3.7/site-packages/pandas/core/indexes/accessors.py\u001b[0m in \u001b[0;36m__new__\u001b[0;34m(cls, data)\u001b[0m\n\u001b[1;32m    323\u001b[0m             \u001b[0;32mpass\u001b[0m  \u001b[0;31m# we raise an attribute error anyway\u001b[0m\u001b[0;34m\u001b[0m\u001b[0;34m\u001b[0m\u001b[0m\n\u001b[1;32m    324\u001b[0m \u001b[0;34m\u001b[0m\u001b[0m\n\u001b[0;32m--> 325\u001b[0;31m         raise AttributeError(\"Can only use .dt accessor with datetimelike \"\n\u001b[0m\u001b[1;32m    326\u001b[0m                              \"values\")\n",
      "\u001b[0;31mAttributeError\u001b[0m: Can only use .dt accessor with datetimelike values"
     ]
    },
    {
     "data": {
      "image/png": "[encoded data removed]",
      "text/plain": [
       "<Figure size 432x288 with 1 Axes>"
      ]
     },
     "metadata": {
      "needs_background": "light"
     },
     "output_type": "display_data"
    }
   ],
   "source": [
    "plt.subplots(1, sharex=True)\n",
    "df.retweet_count.groupby([df[\"timestamp\"].dt.year, df[\"timestamp\"].dt.month]).mean().plot('line', color=\"blue\")\n",
    "df.favorite_count.groupby([df[\"timestamp\"].dt.year, df[\"timestamp\"].dt.month]).mean().plot('line', color=\"orange\").set_ylim(0, )\n",
    "plt.title('Retweeting and Favoriting trend')\n",
    "plt.ylabel('Count')\n",
    "plt.xlabel('(Year, Month)')\n",
    "plt.legend(('Retweets', 'Favorites'))\n",
    "plt.savefig('./graphs/ret_fav')\n"
   ]
  },
  {
   "cell_type": "code",
   "execution_count": 553,
   "metadata": {},
   "outputs": [
    {
     "data": {
      "image/png": "[encoded data removed]",
      "text/plain": [
       "<Figure size 432x288 with 1 Axes>"
      ]
     },
     "metadata": {
      "needs_background": "light"
     },
     "output_type": "display_data"
    }
   ],
   "source": [
    "df['source'].value_counts().plot('bar', title='Twitter source', color=\"blue\").set_xlabel(\"Number of Tweets\")\n",
    "plt.savefig('./graphs/source')\n"
   ]
  }
 ],
 "metadata": {
  "kernelspec": {
   "display_name": "Python 3",
   "language": "python",
   "name": "python3"
  },
  "language_info": {
   "codemirror_mode": {
    "name": "ipython",
    "version": 3
   },
   "file_extension": ".py",
   "mimetype": "text/x-python",
   "name": "python",
   "nbconvert_exporter": "python",
   "pygments_lexer": "ipython3",
   "version": "3.7.2"
  }
 },
 "nbformat": 4,
 "nbformat_minor": 2
}
