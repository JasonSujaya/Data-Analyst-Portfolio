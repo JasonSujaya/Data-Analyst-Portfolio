{
 "cells": [
  {
   "cell_type": "markdown",
   "metadata": {},
   "source": [
    "# Wrangle Report"
   ]
  },
  {
   "cell_type": "markdown",
   "metadata": {},
   "source": [
    "This wrangling project is part of the Udacity Data Analyst Nanodegree Program! Primarily, we were required to gather data from 3  sources with different method of data gathering.\n",
    "\n",
    "- CSV imports\n",
    "- Scrape data from an API (Twitter)\n",
    "- Requests"
   ]
  },
  {
   "cell_type": "markdown",
   "metadata": {},
   "source": [
    "## Three data sources\n"
   ]
  },
  {
   "cell_type": "markdown",
   "metadata": {},
   "source": [
    "### Enhanced Twitter Archive\n",
    "The WeRateDogs Twitter archive was a csv file provided by Udacity which contains some information from the. WeRateDate archeive (around 5000+ tweets) The file format is called 'twitter_archive_enhanced.csv'and it was manually downloaded. \n",
    "\n",
    "<b>Column List</b> \n",
    "\n",
    "- **tweet_id** : Identifiy the id of a tweet\n",
    "- **in_reply_to_status_id** : If the tweet is a reply, it will show the original tweet id\n",
    "- **in_reply_to_status_id** : If the tweet is a reply, it will show the original id of the reply tweet\n",
    "- **timestamp** : Records when the tweet was published\n",
    "- **source** : Records where the tweet was created at\n",
    "- **text** : The text contained in the of the tweet\n",
    "- **retweeted_status_id** : If the tweet is a retweet, it will show the original tweet id\n",
    "- **retweeted_status_id** : If the tweet is a retweet, it will show the original tweet of the retweet tweet\n",
    "- **retweeted_status_user_id** : If the tweet is a retweet, it will show the original tweet of the retweet tweet\n",
    "- **retweeted_status_timestamp** : Records where the retweet was created at\n",
    "- **expanded_urls** : URL to access the tweet\n",
    "- **rating_numerator** : Numerator of rating\n",
    "- **rating_denominator** : Denomintor of rating\n",
    "- **name** : Name of the dog\n",
    "- **doggo**, **floofer**, **pupper**, **puppo** : Type of dog\n"
   ]
  },
  {
   "cell_type": "markdown",
   "metadata": {},
   "source": [
    "### Data via the Twitter API\n",
    "Queried data from twitter API using tweetpy. I specifically queried the tweet IDs that are located in the WeRateDogs Twitter archive. The results of the tweets are converted into JSON. Each tweet's JSON data are written to its own line and be converted into padnas DataFrame for the analysis\n",
    "\n",
    "<b>Column List</b> \n",
    "\n",
    "- **contributors** : Identifiy the id of a tweet\n",
    "- **coordinates** : Represents the geographic location of this Tweet as reported by the user or client application\n",
    "- **created_at** : UTC time when this Tweet was created\n",
    "- **display_text_range** : Number of characters displayed\n",
    "- **entities** : Entities which have been parsed out of the text of the Tweet\n",
    "- **extended_entities** : When between one and four native photos or one video or one animated GIF are in Tweet, contains an array 'media' metadata\n",
    "- **favorite_count** : Number of favourited\n",
    "- **favorited** : Did user API accoutn favorited the tweet\n",
    "- **full_text** : The text of the tweet\n",
    "- **geo** : (depreciated attribute)\n",
    "- **quoted_status** : This field only surfaces when the Tweet is a quote Tweet. This field contains the integer value Tweet ID of the quoted Tweet\n",
    "- **quoted_status_id** : This field only surfaces when the Tweet is a quote Tweet. This field contains the integer value Tweet ID of the quoted Tweet\n",
    "- **quoted_status_id_str** : This field only surfaces when the Tweet is a quote Tweet. This is the string representation Tweet ID of the quoted Tweet\n",
    "- **quoted_status_permalink** : Link to quote tweet\n",
    "- **retweet_count** : Retweet count\n",
    "- **retweeted** : Did user API accoutn retweeted the tweet\n",
    "- **source** : Utility used to post the Tweet, as an HTML-formatted string\n",
    "- **truncated** : Indicates whether the value of the text parameter was truncated\n",
    "- **user** : User\n",
    "\n"
   ]
  },
  {
   "cell_type": "markdown",
   "metadata": {},
   "source": [
    "### Image Predictions \n",
    "The tweet image predictions contains the prediction of the image, for instance what breed of dog (or other object, animal, etc.)  present in each tweet according. This file is hosted on Udacity's servers and is requested using a libary through the following URL: image_predictions.tsv\n",
    "\n",
    "<b>Column List</b> \n",
    "\n",
    "- **tweet_id** : Identifiy the id of a tweet\n",
    "- **jpg_url** : Image URL \n",
    "- **img_num** : Categorizes the image, since there is 4 type, the value ranges from ranges from 1-4\n",
    "- **p1**, **p2**, \"**p3** : Algorithm Prediction\n",
    "- **p1_conf**, **p2_conf**, **p3_conf** : Confidence level of the algrotihm\n",
    "- **p1_dog**, **p2_dog**, **p4_dog** : Checks whether or not the the prediction is a breed of dog"
   ]
  },
  {
   "cell_type": "markdown",
   "metadata": {},
   "source": [
    "# Assessing data\n"
   ]
  },
  {
   "cell_type": "markdown",
   "metadata": {},
   "source": [
    "To be able to perform analysis, the following issues are indentified.\n",
    "\n",
    "#### Quality issues:\n",
    "1. Incorrect datatypes (tweet_id, in_reply_to_status_id, in_reply_to_user_id and timestamp columns)\n",
    "2. Missing data as tweet_id(s) in df_archive and df_image are not queried \n",
    "3. HTML tags in df_archive sources\n",
    "4. Text in df.text is contains link\n",
    "5. Problems with numerator rating (numerator has absurldly large vale 1000+)\n",
    "6. Problems with denominator rating (Rating denominator has incosistent value 10, some even 0)\n",
    "7. Bad dog naming (lowercase)\n",
    "9. Several records have more than one dog stage\n",
    "\n",
    "\n",
    "#### Tidy Principle\n",
    "9. No duplicates (retweet exist (which means that they are duplicated))\n",
    "10. Dog stage(doggo, etc) should be in 1 column"
   ]
  },
  {
   "cell_type": "markdown",
   "metadata": {},
   "source": [
    "# Cleaning Data\n"
   ]
  },
  {
   "cell_type": "markdown",
   "metadata": {},
   "source": [
    "Used standard python libraries, pandas, numpy, etc to perform cleaning, joining and fixing data types. Different quality issues requires different approach to solve the cleaning problem. Some are pretty straightforward (changing datatype), and some requires custom functions (manipulating the strings in the dataset)!  \n",
    "\n",
    "Cleaning are done in the order that was written above! Once the data is ready, I analyzed it using visualizations tools in python (like matplotlib, etc) and basic describe functions."
   ]
  }
 ],
 "metadata": {
  "kernelspec": {
   "display_name": "Python 3",
   "language": "python",
   "name": "python3"
  },
  "language_info": {
   "codemirror_mode": {
    "name": "ipython",
    "version": 3
   },
   "file_extension": ".py",
   "mimetype": "text/x-python",
   "name": "python",
   "nbconvert_exporter": "python",
   "pygments_lexer": "ipython3",
   "version": "3.7.2"
  }
 },
 "nbformat": 4,
 "nbformat_minor": 2
}
